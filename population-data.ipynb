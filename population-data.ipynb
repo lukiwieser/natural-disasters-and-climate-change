{
 "cells": [
  {
   "cell_type": "code",
   "execution_count": 9,
   "metadata": {
    "collapsed": true
   },
   "outputs": [
    {
     "data": {
      "text/plain": "'\\nPopulation data\\n\\nThe population dataset by gapminder is a dataset containing information about the worlds population from 1800 until 2100.\\nThe data is a composition from different sources. There a two main sources - a dataset by Angus Maddison and the CLIO Infra Project -  and the World Population Prospects (WPP) provided by the UN.\\nThe dataset by Angus Maddison provides the data for the years 1800 - 1950. Population data after 1950 was taken from the WPP dataset.\\nAdditional sources were used, to fill missing values for years or regions. A details list of sources can be found in the documentation. (https://www.gapminder.org/data/documentation/gd003/)\\nThe primary data from the sources originates from census, informal census, indirect estimate and arbitrary guesses.\\n\\nModifications and Estimations:\\n- Summations of parts\\n- Larger area minus non-included parts\\n- Geographical interpolation\\n- Geographical extrapolation\\n- Temporal interpolation\\n- Temporal extrapolation\\n- Adjustments for under-enumeration\\n- Recalculated to fit present borders\\n\\nSince the data for the year 1950 of the two main datasets did not match for every country, small adjustments and smoothing were applied.\\n\\nPreprocessing:\\nFor our purposes, the subdatasets \"data-for-world-by-year\", \"data-for-regions-by-year\" and \"data-for-countries-by-year\" are relevant.\\nWe consider the period from 1900 until 2021 and remove redundant rows. We do this because the data after 2021 are based on estimated values.\\n\\nThere are no missing values.\\nSince the regions of the dataset did not match with the regions of our other datasets, we chose to compute the regions-population according to the regions from the un-country-codes.csv file.\\n\\nSubdataset:\\n    population-global.csv\\n        Columns: year, population\\n\\n    population-region.csv\\n        Columns: region_code, region_name, year, population\\n\\n    population-country.csv\\n        Columns: country_code, country_name, year, population\\n'"
     },
     "execution_count": 9,
     "metadata": {},
     "output_type": "execute_result"
    }
   ],
   "source": [
    "'''\n",
    "Population data\n",
    "\n",
    "The population dataset by gapminder is a dataset containing information about the worlds population from 1800 until 2100.\n",
    "The data is a composition from different sources. There a two main sources - a dataset by Angus Maddison and the CLIO Infra Project -  and the World Population Prospects (WPP) provided by the UN.\n",
    "The dataset by Angus Maddison provides the data for the years 1800 - 1950. Population data after 1950 was taken from the WPP dataset.\n",
    "Additional sources were used, to fill missing values for years or regions. A details list of sources can be found in the documentation. (https://www.gapminder.org/data/documentation/gd003/)\n",
    "The primary data from the sources originates from census, informal census, indirect estimate and arbitrary guesses.\n",
    "\n",
    "Modifications and Estimations:\n",
    "- Summations of parts\n",
    "- Larger area minus non-included parts\n",
    "- Geographical interpolation\n",
    "- Geographical extrapolation\n",
    "- Temporal interpolation\n",
    "- Temporal extrapolation\n",
    "- Adjustments for under-enumeration\n",
    "- Recalculated to fit present borders\n",
    "\n",
    "Since the data for the year 1950 of the two main datasets did not match for every country, small adjustments and smoothing were applied.\n",
    "\n",
    "Preprocessing:\n",
    "For our purposes, the subdatasets \"data-for-world-by-year\", \"data-for-regions-by-year\" and \"data-for-countries-by-year\" are relevant.\n",
    "We consider the period from 1900 until 2021 and remove redundant rows. We do this because the data after 2021 are based on estimated values.\n",
    "\n",
    "There are no missing values.\n",
    "Since the regions of the dataset did not match with the regions of our other datasets, we chose to compute the regions-population according to the regions from the un-country-codes.csv file.\n",
    "\n",
    "Subdataset:\n",
    "    population-global.csv\n",
    "        Columns: year, population\n",
    "\n",
    "    population-region.csv\n",
    "        Columns: region_code, region_name, year, population\n",
    "\n",
    "    population-country.csv\n",
    "        Columns: country_code, country_name, year, population\n",
    "'''"
   ]
  },
  {
   "cell_type": "code",
   "execution_count": 10,
   "outputs": [],
   "source": [
    "import pandas as pd\n",
    "import os"
   ],
   "metadata": {
    "collapsed": false
   }
  },
  {
   "cell_type": "code",
   "execution_count": 11,
   "outputs": [],
   "source": [
    "if not os.path.isdir(\"data/processed/population/\"):\n",
    "    os.makedirs(\"data/processed/population/\")"
   ],
   "metadata": {
    "collapsed": false
   }
  },
  {
   "cell_type": "markdown",
   "source": [
    "# Read Excel"
   ],
   "metadata": {
    "collapsed": false
   }
  },
  {
   "cell_type": "code",
   "execution_count": 12,
   "outputs": [],
   "source": [
    "pop_dict = pd.read_excel('data/raw/population/gapminder-population-v7.xlsx', sheet_name=['data-for-world-by-year', 'data-for-regions-by-year', 'data-for-countries-etc-by-year'])"
   ],
   "metadata": {
    "collapsed": false
   }
  },
  {
   "cell_type": "markdown",
   "source": [
    "## Preprocess world data"
   ],
   "metadata": {
    "collapsed": false
   }
  },
  {
   "cell_type": "code",
   "execution_count": 13,
   "outputs": [
    {
     "name": "stdout",
     "output_type": "stream",
     "text": [
      "raw data for world population\n",
      "     geo   name  time   Population\n",
      "0  world  world  1800  985083734.9\n",
      "1  world  world  1801  988518009.0\n",
      "2  world  world  1802  991993182.0\n",
      "extract population data from 1900 until now\n",
      "     year  population\n",
      "100  1900  1627123965\n",
      "101  1901  1639684222\n",
      "102  1902  1652898195\n",
      "103  1903  1666760587\n",
      "104  1904  1680799825\n",
      "..    ...         ...\n",
      "217  2017  7599822404\n",
      "218  2018  7683789828\n",
      "219  2019  7764951032\n",
      "220  2020  7840952880\n",
      "221  2021  7909295151\n",
      "\n",
      "[122 rows x 2 columns]\n"
     ]
    },
    {
     "name": "stderr",
     "output_type": "stream",
     "text": [
      "/var/folders/m4/prj94mxs4pn6lk9nc4z7vrc80000gn/T/ipykernel_8505/3730891716.py:8: SettingWithCopyWarning: \n",
      "A value is trying to be set on a copy of a slice from a DataFrame\n",
      "\n",
      "See the caveats in the documentation: https://pandas.pydata.org/pandas-docs/stable/user_guide/indexing.html#returning-a-view-versus-a-copy\n",
      "  pop_global_df.rename(columns={'Population': 'population', 'time': 'year'}, inplace=True)\n"
     ]
    }
   ],
   "source": [
    "pop_global_df = pop_dict.get('data-for-world-by-year')\n",
    "\n",
    "print('raw data for world population')\n",
    "print(pop_global_df.head(3))\n",
    "\n",
    "# remove unnecessary columns\n",
    "pop_global_df = pop_global_df[['time', 'Population']]\n",
    "pop_global_df.rename(columns={'Population': 'population', 'time': 'year'}, inplace=True)\n",
    "pop_global_df.set_index('year')\n",
    "\n",
    "print('extract population data from 1900 until now')\n",
    "pop_global_df = pop_global_df[pop_global_df['year'] >= 1900]\n",
    "pop_global_df = pop_global_df[pop_global_df['year'] <= 2021]\n",
    "pop_global_df['population'] = pop_global_df['population'].astype(int)\n",
    "print(pop_global_df)\n",
    "\n",
    "pop_global_df.to_csv('data/processed/population/population-global.csv', sep=';', index=False, header=True)"
   ],
   "metadata": {
    "collapsed": false
   }
  },
  {
   "cell_type": "markdown",
   "source": [
    "# Prepare dataset for countries and regions"
   ],
   "metadata": {
    "collapsed": false
   }
  },
  {
   "cell_type": "code",
   "execution_count": 14,
   "outputs": [
    {
     "name": "stdout",
     "output_type": "stream",
     "text": [
      "     country_code country_name  year  population  region_code region_name\n",
      "8885          HOS     Holy See  2001         NaN        150.0      Europe\n",
      "8886          HOS     Holy See  2002         NaN        150.0      Europe\n",
      "8887          HOS     Holy See  2003         NaN        150.0      Europe\n",
      "8888          HOS     Holy See  2004         NaN        150.0      Europe\n",
      "8889          HOS     Holy See  2005         NaN        150.0      Europe\n",
      "8890          HOS     Holy See  2006         NaN        150.0      Europe\n",
      "8891          HOS     Holy See  2007         NaN        150.0      Europe\n",
      "8892          HOS     Holy See  2008         NaN        150.0      Europe\n",
      "8893          HOS     Holy See  2009         NaN        150.0      Europe\n",
      "8894          HOS     Holy See  2010         NaN        150.0      Europe\n",
      "8895          HOS     Holy See  2011         NaN        150.0      Europe\n",
      "8896          HOS     Holy See  2012         NaN        150.0      Europe\n",
      "8897          HOS     Holy See  2013         NaN        150.0      Europe\n",
      "8898          HOS     Holy See  2014         NaN        150.0      Europe\n",
      "8899          HOS     Holy See  2015         NaN        150.0      Europe\n",
      "8900          HOS     Holy See  2016         NaN        150.0      Europe\n",
      "8901          HOS     Holy See  2017         NaN        150.0      Europe\n",
      "8902          HOS     Holy See  2018         NaN        150.0      Europe\n",
      "8903          HOS     Holy See  2019         NaN        150.0      Europe\n",
      "8904          HOS     Holy See  2020         NaN        150.0      Europe\n",
      "8905          HOS     Holy See  2021         NaN        150.0      Europe\n"
     ]
    }
   ],
   "source": [
    "pop_country_df = pop_dict.get('data-for-countries-etc-by-year')\n",
    "un_country_codes = pd.read_csv(\"data/raw/country-codes/un-country-codes.csv\", sep=\";\")\n",
    "un_country_codes = un_country_codes[['Region Code', 'Region Name', 'ISO-alpha3 Code']]\n",
    "\n",
    "# extract population data from 1900 until now\n",
    "pop_country_df = pop_country_df[pop_country_df['time'] >= 1900]\n",
    "pop_country_df = pop_country_df[pop_country_df['time'] <= 2021]\n",
    "\n",
    "# format column that will be joined\n",
    "pop_country_df['geo'] = pop_country_df['geo'].str.upper()\n",
    "\n",
    "# merge country-population and un-country-codes\n",
    "pop_country_region_df = pd.merge(pop_country_df, un_country_codes, how='left', left_on='geo', right_on='ISO-alpha3 Code')\n",
    "\n",
    "pop_country_region_df.rename(columns={'Region Code': 'region_code', 'Region Name': 'region_name', 'time': 'year', 'Population': 'population', 'geo': 'country_code', 'name': 'country_name'}, inplace=True)\n",
    "\n",
    "# add missing region code to holy see and taiwan\n",
    "pop_country_region_df.loc[pop_country_region_df['country_code'] == 'HOS', 'region_code'] = 150\n",
    "pop_country_region_df.loc[pop_country_region_df['country_code'] == 'HOS', 'region_name'] = 'Europe'\n",
    "\n",
    "pop_country_region_df.loc[pop_country_region_df['country_code'] == 'TWN', 'region_code'] = 142\n",
    "pop_country_region_df.loc[pop_country_region_df['country_code'] == 'TWN', 'region_name'] = 'Asia'\n",
    "\n",
    "# remove unused column 'ISO-alpha3 Code'\n",
    "pop_country_region_df.drop('ISO-alpha3 Code', axis=1, inplace=True)\n",
    "\n",
    "# check if we worked correctly\n",
    "print(pop_country_region_df[pop_country_region_df.isnull().any(axis=1)])\n",
    "\n",
    "# the remaining missing values are population data for the country 'holy see' since the missing population is in the range < 1000 we, accept the missing values and calculate with the latest documented value."
   ],
   "metadata": {
    "collapsed": false
   }
  },
  {
   "cell_type": "markdown",
   "source": [
    "## Get population regions dataset"
   ],
   "metadata": {
    "collapsed": false
   }
  },
  {
   "cell_type": "code",
   "execution_count": 15,
   "outputs": [],
   "source": [
    "columns_regions = ['region_code', 'region_name', 'country_code', 'country_name', 'year', 'population']\n",
    "\n",
    "# select columns\n",
    "pop_regions_df = pop_country_region_df[columns_regions]\n",
    "pop_regions_df = pop_regions_df.groupby(['region_code', 'region_name', 'year'], as_index=False)['population'].sum()\n",
    "pop_regions_df['population'] = pop_regions_df['population'].astype(int)\n",
    "\n",
    "#store in csv file\n",
    "pop_regions_df.to_csv('data/processed/population/population-region.csv', sep=';', index=False, header=True)"
   ],
   "metadata": {
    "collapsed": false
   }
  },
  {
   "cell_type": "markdown",
   "source": [
    "## Get population countries dataset"
   ],
   "metadata": {
    "collapsed": false
   }
  },
  {
   "cell_type": "code",
   "execution_count": 16,
   "outputs": [],
   "source": [
    "columns_country = ['country_code', 'country_name', 'year', 'population']\n",
    "\n",
    "# select columns\n",
    "pop_country_df = pop_country_region_df[columns_country]\n",
    "\n",
    "#store in csv file\n",
    "pop_country_df.to_csv('data/processed/population/population-country.csv', sep=';', index=False, header=True)"
   ],
   "metadata": {
    "collapsed": false
   }
  },
  {
   "cell_type": "markdown",
   "source": [
    "## Compare calculated region population to gapminder dataset"
   ],
   "metadata": {
    "collapsed": false
   }
  },
  {
   "cell_type": "code",
   "execution_count": 17,
   "outputs": [
    {
     "name": "stdout",
     "output_type": "stream",
     "text": [
      "Total population from the year 2021\n",
      "Gapminder 7898737625\n",
      "Calculated 7898737625\n",
      "\n",
      "\n",
      "Gapminder region population\n",
      "          name  Population\n",
      "221     africa  1391823318\n",
      "522       asia  4634610444\n",
      "823     europe   846050284\n",
      "1124  americas  1026253579\n",
      "\n",
      "\n",
      "Calculated region population\n",
      "    region_name  population\n",
      "121      Africa  1391823318\n",
      "243     Oceania    43602426\n",
      "365    Americas  1026253579\n",
      "487        Asia  4693889556\n",
      "609      Europe   743168746\n"
     ]
    }
   ],
   "source": [
    "regions_population_gapminder = pop_dict.get('data-for-regions-by-year')\n",
    "regions_population_2021_gapminder = regions_population_gapminder[regions_population_gapminder['time'] == 2021]\n",
    "total_population_gapminder = regions_population_2021_gapminder['Population'].sum()\n",
    "\n",
    "regions_population_2021_calc = pop_regions_df[pop_regions_df['year'] == 2021]\n",
    "total_population_calc = regions_population_2021_calc['population'].sum()\n",
    "\n",
    "print('Total population from the year 2021')\n",
    "print('Gapminder ' + str(total_population_gapminder))\n",
    "print('Calculated ' + str(total_population_calc))\n",
    "\n",
    "print('\\n')\n",
    "print('Gapminder region population')\n",
    "print(regions_population_2021_gapminder[['name', 'Population']])\n",
    "\n",
    "print('\\n')\n",
    "print('Calculated region population')\n",
    "print(regions_population_2021_calc[['region_name', 'population']])"
   ],
   "metadata": {
    "collapsed": false
   }
  },
  {
   "cell_type": "markdown",
   "source": [
    "As we can see, we get the same results for the total populations in the year 2021.\n",
    "If we take a look at the region population, we see that the calculated population of america and africa shows no difference to the gapminder-dataset population. For the regions asia and europe, we get different results. Furthermore, the calculated region oceania does not exist in the gapminder dataset. Since the documentation of the gapminder dataset does not include the country-to-region assignment, we cannot compare the differences between our calculation and gapminder. However, since the overall score is equal, we can argue that those differences occur tue to different country-to-region assignments."
   ],
   "metadata": {
    "collapsed": false
   }
  },
  {
   "cell_type": "code",
   "execution_count": 17,
   "outputs": [],
   "source": [],
   "metadata": {
    "collapsed": false
   }
  }
 ],
 "metadata": {
  "kernelspec": {
   "display_name": "Python 3",
   "language": "python",
   "name": "python3"
  },
  "language_info": {
   "codemirror_mode": {
    "name": "ipython",
    "version": 2
   },
   "file_extension": ".py",
   "mimetype": "text/x-python",
   "name": "python",
   "nbconvert_exporter": "python",
   "pygments_lexer": "ipython2",
   "version": "2.7.6"
  }
 },
 "nbformat": 4,
 "nbformat_minor": 0
}
