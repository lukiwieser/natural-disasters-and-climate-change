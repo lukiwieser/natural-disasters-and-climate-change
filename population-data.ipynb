{
 "cells": [
  {
   "cell_type": "code",
   "execution_count": 1,
   "metadata": {
    "collapsed": true
   },
   "outputs": [
    {
     "data": {
      "text/plain": "'\\nPopulation data\\n\\nThe population dataset by gapminder is a dataset containing information about the worlds population from 1800 until 2100.\\nThe data is a composition from different sources. There a two main sources - a dataset by Angus Maddison and the CLIO Infra Project -  and the World Population Prospects (WPP) provided by the UN.\\nThe dataset by Angus Maddison provides the data for the years 1800 - 1950. Population data after 1950 was taken from the WPP dataset.\\nAdditional sources were used, to fill missing values for years or regions. A details list of sources can be found in the documentation. (https://www.gapminder.org/data/documentation/gd003/)\\nThe primary data from the sources originates from census, informal census, indirect estimate and arbitrary guesses.\\n\\nModifications and Estimations:\\n- Summations of parts\\n- Larger area minus non-included parts\\n- Geographical interpolation\\n- Geographical extrapolation\\n- Temporal interpolation\\n- Temporal extrapolation\\n- Adjustments for under-enumeration\\n- Recalculated to fit present borders\\n\\nSince the data for the year 1950 of the two main datasets did not match for every country, small adjustments and smoothing were applied.\\n\\nPreprocessing:\\nFor our purposes, the subdatasets \"data-for-world-by-year\", \"data-for-regions-by-year\" and \"data-for-countries-by-year\" are relevant.\\nWe consider the period from 1900 until now and remove redundant rows.\\nThere are no missing values.\\n\\nSubdataset:\\n    population-global.csv\\n        Columns: year, population\\n\\n    population-region.csv\\n        Columns: year, region, population\\n\\n    population-country.csv\\n        Columns: year, country code, country, population\\n'"
     },
     "execution_count": 1,
     "metadata": {},
     "output_type": "execute_result"
    }
   ],
   "source": [
    "'''\n",
    "Population data\n",
    "\n",
    "The population dataset by gapminder is a dataset containing information about the worlds population from 1800 until 2100.\n",
    "The data is a composition from different sources. There a two main sources - a dataset by Angus Maddison and the CLIO Infra Project -  and the World Population Prospects (WPP) provided by the UN.\n",
    "The dataset by Angus Maddison provides the data for the years 1800 - 1950. Population data after 1950 was taken from the WPP dataset.\n",
    "Additional sources were used, to fill missing values for years or regions. A details list of sources can be found in the documentation. (https://www.gapminder.org/data/documentation/gd003/)\n",
    "The primary data from the sources originates from census, informal census, indirect estimate and arbitrary guesses.\n",
    "\n",
    "Modifications and Estimations:\n",
    "- Summations of parts\n",
    "- Larger area minus non-included parts\n",
    "- Geographical interpolation\n",
    "- Geographical extrapolation\n",
    "- Temporal interpolation\n",
    "- Temporal extrapolation\n",
    "- Adjustments for under-enumeration\n",
    "- Recalculated to fit present borders\n",
    "\n",
    "Since the data for the year 1950 of the two main datasets did not match for every country, small adjustments and smoothing were applied.\n",
    "\n",
    "Preprocessing:\n",
    "For our purposes, the subdatasets \"data-for-world-by-year\", \"data-for-regions-by-year\" and \"data-for-countries-by-year\" are relevant.\n",
    "We consider the period from 1900 until 2021 and remove redundant rows. We do this because the data after 2021 are based on estimated values.\n",
    "\n",
    "There are no missing values.\n",
    "Since the regions of the dataset did not match with the regions of our other datasets, we chose to compute the regions-population according to the regions from the un-country-codes.csv file.\n",
    "\n",
    "Subdataset:\n",
    "    population-global.csv\n",
    "        Columns: year, population\n",
    "\n",
    "    population-region.csv\n",
    "        Columns: region_code, region_name, year, population\n",
    "\n",
    "    population-country.csv\n",
    "        Columns: country_code, country_name, year, population\n",
    "'''"
   ]
  },
  {
   "cell_type": "code",
   "execution_count": 2,
   "outputs": [],
   "source": [
    "import pandas as pd"
   ],
   "metadata": {
    "collapsed": false
   }
  },
  {
   "cell_type": "markdown",
   "source": [
    "# Read Excel"
   ],
   "metadata": {
    "collapsed": false
   }
  },
  {
   "cell_type": "code",
   "execution_count": 3,
   "outputs": [],
   "source": [
    "population_dict = pd.read_excel('data/raw/population/gapminder-population-v7.xlsx', sheet_name=['data-for-world-by-year', 'data-for-regions-by-year', 'data-for-countries-etc-by-year'])"
   ],
   "metadata": {
    "collapsed": false
   }
  },
  {
   "cell_type": "markdown",
   "source": [
    "## Preprocess world data"
   ],
   "metadata": {
    "collapsed": false
   }
  },
  {
   "cell_type": "code",
   "execution_count": 4,
   "outputs": [
    {
     "name": "stdout",
     "output_type": "stream",
     "text": [
      "raw data for world population\n",
      "     geo   name  time   Population\n",
      "0  world  world  1800  985083734.9\n",
      "1  world  world  1801  988518009.0\n",
      "2  world  world  1802  991993182.0\n",
      "extract population data from 1900 until now\n",
      "     time    population\n",
      "100  1900  1.627124e+09\n",
      "101  1901  1.639684e+09\n",
      "102  1902  1.652898e+09\n",
      "103  1903  1.666761e+09\n",
      "104  1904  1.680800e+09\n",
      "..    ...           ...\n",
      "218  2018  7.683790e+09\n",
      "219  2019  7.764951e+09\n",
      "220  2020  7.840953e+09\n",
      "221  2021  7.909295e+09\n",
      "222  2022  7.975105e+09\n",
      "\n",
      "[123 rows x 2 columns]\n"
     ]
    },
    {
     "name": "stderr",
     "output_type": "stream",
     "text": [
      "/var/folders/hc/r3nrs79s3bd59z2kkrc_kmrm0000gn/T/ipykernel_50527/3031505278.py:9: SettingWithCopyWarning: \n",
      "A value is trying to be set on a copy of a slice from a DataFrame\n",
      "\n",
      "See the caveats in the documentation: https://pandas.pydata.org/pandas-docs/stable/user_guide/indexing.html#returning-a-view-versus-a-copy\n",
      "  world_population_df.rename(columns={'Population': 'population'}, inplace=True)\n"
     ]
    }
   ],
   "source": [
    "world_population_df = population_dict.get('data-for-world-by-year')\n",
    "\n",
    "print('raw data for world population')\n",
    "print(world_population_df.head(3))\n",
    "\n",
    "# remove unnecessary columns\n",
    "world_population_df = world_population_df[['time', 'Population']]\n",
    "world_population_df.set_index('time')\n",
    "world_population_df.rename(columns={'Population': 'population'}, inplace=True)\n",
    "\n",
    "print('extract population data from 1900 until now')\n",
    "world_population_df = world_population_df[world_population_df['time'] >= 1900]\n",
    "world_population_df = world_population_df[world_population_df['time'] <= 2021]\n",
    "print(world_population_df)\n",
    "\n",
    "world_population_df.to_csv('data/processed/population/population-global.csv', sep=';', index=False, header=True)"
   ],
   "metadata": {
    "collapsed": false
   }
  },
  {
   "cell_type": "markdown",
   "source": [
    "# Prepare dataset for countries and regions"
   ],
   "metadata": {
    "collapsed": false
   }
  },
  {
   "cell_type": "code",
   "execution_count": 5,
   "outputs": [],
   "source": [
    "countries_population_df = population_dict.get('data-for-countries-etc-by-year')\n",
    "un_country_codes = pd.read_csv(\"data/raw/country-codes/un-country-codes.csv\", sep=\";\")\n",
    "un_country_codes = un_country_codes[['Region Code', 'Region Name', 'ISO-alpha3 Code']]\n",
    "\n",
    "# extract population data from 1900 until now\n",
    "countries_population_df = countries_population_df[countries_population_df['time'] >= 1900]\n",
    "countries_population_df = countries_population_df[countries_population_df['time'] <= 2021]\n",
    "\n",
    "# format column that will be joined\n",
    "countries_population_df['geo'] = countries_population_df['geo'].str.upper()\n",
    "\n",
    "# merge country-population and un-country-codes\n",
    "countries_with_regions = pd.merge(countries_population_df, un_country_codes, how='inner', left_on='geo', right_on='ISO-alpha3 Code')\n",
    "\n",
    "countries_with_regions.rename(columns={'Region Code': 'region_code', 'Region Name': 'region_name', 'time': 'year', 'Population': 'population', 'geo': 'country_code', 'name': 'country_name'}, inplace=True)"
   ],
   "metadata": {
    "collapsed": false
   }
  },
  {
   "cell_type": "markdown",
   "source": [
    "## Get population regions dataset"
   ],
   "metadata": {
    "collapsed": false
   }
  },
  {
   "cell_type": "code",
   "execution_count": 6,
   "outputs": [],
   "source": [
    "columns_regions = ['region_code', 'region_name', 'country_code', 'country_name', 'year', 'population']\n",
    "\n",
    "# select columns\n",
    "population_regions = countries_with_regions[columns_regions]\n",
    "population_regions = population_regions.groupby(['region_code', 'region_name', 'year'], as_index=False)['population'].sum()\n",
    "\n",
    "#store in csv file\n",
    "population_regions.to_csv('data/processed/population/population-region.csv', sep=';', index=False, header=True)"
   ],
   "metadata": {
    "collapsed": false
   }
  },
  {
   "cell_type": "markdown",
   "source": [
    "## Get population countries dataset"
   ],
   "metadata": {
    "collapsed": false
   }
  },
  {
   "cell_type": "code",
   "execution_count": 7,
   "outputs": [],
   "source": [
    "columns_country = ['country_code', 'country_name', 'year', 'population']\n",
    "\n",
    "# select columns\n",
    "population_countries = countries_with_regions[columns_country]\n",
    "\n",
    "#store in csv file\n",
    "population_countries.to_csv('data/processed/population/population-country.csv', sep=';', index=False, header=True)"
   ],
   "metadata": {
    "collapsed": false
   }
  },
  {
   "cell_type": "markdown",
   "source": [
    "## Compare calculated region population to gapminder dataset"
   ],
   "metadata": {
    "collapsed": false
   }
  },
  {
   "cell_type": "code",
   "execution_count": 15,
   "outputs": [
    {
     "name": "stdout",
     "output_type": "stream",
     "text": [
      "Gapminder region population\n",
      "          name  Population\n",
      "221     africa  1391823318\n",
      "522       asia  4634610444\n",
      "823     europe   846050284\n",
      "1124  americas  1026253579\n",
      "\n",
      "\n",
      "Calculated Regions\n",
      "    region_name    population\n",
      "121      Africa  1.391823e+09\n",
      "244     Oceania  4.360243e+07\n",
      "367    Americas  1.026254e+09\n",
      "490        Asia  4.670030e+09\n",
      "613      Europe  7.431687e+08\n"
     ]
    }
   ],
   "source": [
    "regions_population_gapminder = population_dict.get('data-for-regions-by-year')\n",
    "regions_population_2021_gapminder = regions_population_gapminder[regions_population_gapminder['time'] == 2021]\n",
    "regions_population_2021_calc = population_regions[population_regions['year'] == 2021]\n",
    "print('Gapminder region population')\n",
    "print(regions_population_2021_gapminder[['name', 'Population']])\n",
    "\n",
    "print('\\n')\n",
    "print('Calculated region population')\n",
    "print(regions_population_2021_calc[['region_name', 'population']])"
   ],
   "metadata": {
    "collapsed": false
   }
  },
  {
   "cell_type": "code",
   "execution_count": null,
   "outputs": [],
   "source": [],
   "metadata": {
    "collapsed": false
   }
  }
 ],
 "metadata": {
  "kernelspec": {
   "display_name": "Python 3",
   "language": "python",
   "name": "python3"
  },
  "language_info": {
   "codemirror_mode": {
    "name": "ipython",
    "version": 2
   },
   "file_extension": ".py",
   "mimetype": "text/x-python",
   "name": "python",
   "nbconvert_exporter": "python",
   "pygments_lexer": "ipython2",
   "version": "2.7.6"
  }
 },
 "nbformat": 4,
 "nbformat_minor": 0
}
