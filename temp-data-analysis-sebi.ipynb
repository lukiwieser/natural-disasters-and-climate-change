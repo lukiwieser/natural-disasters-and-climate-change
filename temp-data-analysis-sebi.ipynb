{
 "cells": [
  {
   "cell_type": "code",
   "execution_count": 3,
   "metadata": {
    "collapsed": true
   },
   "outputs": [],
   "source": [
    "import pandas as pd"
   ]
  },
  {
   "cell_type": "markdown",
   "source": [
    "# Analysis of the relation of climate change and natural-disaster data\n",
    "\n",
    "## 1. Load the processed temperature and disaster data"
   ],
   "metadata": {
    "collapsed": false
   }
  },
  {
   "cell_type": "code",
   "execution_count": 7,
   "outputs": [],
   "source": [
    "PATH_TEMP_DATA_FOLDER = \"data/processed/temperature\"\n",
    "PATH_TEMP_LAND_COUNTRY_FILE = \"/temp-land-country.csv\"\n",
    "PATH_TEMP_LAND_OCEAN_GLOBAL_FILE = \"/temp-land-ocean-global.csv\"\n",
    "PATH_TEMP_LAND_REGION_FILE = \"/temp-land-region.csv\""
   ],
   "metadata": {
    "collapsed": false
   }
  },
  {
   "cell_type": "code",
   "execution_count": 8,
   "outputs": [
    {
     "data": {
      "text/plain": "  country_code country_name  year  month  temperature_anomaly\n0          AFG  Afghanistan  1900      1               -4.406\n1          AFG  Afghanistan  1900      2               -2.497\n2          AFG  Afghanistan  1900      3                1.754\n3          AFG  Afghanistan  1900      4               -1.028\n4          AFG  Afghanistan  1900      5                0.503",
      "text/html": "<div>\n<style scoped>\n    .dataframe tbody tr th:only-of-type {\n        vertical-align: middle;\n    }\n\n    .dataframe tbody tr th {\n        vertical-align: top;\n    }\n\n    .dataframe thead th {\n        text-align: right;\n    }\n</style>\n<table border=\"1\" class=\"dataframe\">\n  <thead>\n    <tr style=\"text-align: right;\">\n      <th></th>\n      <th>country_code</th>\n      <th>country_name</th>\n      <th>year</th>\n      <th>month</th>\n      <th>temperature_anomaly</th>\n    </tr>\n  </thead>\n  <tbody>\n    <tr>\n      <th>0</th>\n      <td>AFG</td>\n      <td>Afghanistan</td>\n      <td>1900</td>\n      <td>1</td>\n      <td>-4.406</td>\n    </tr>\n    <tr>\n      <th>1</th>\n      <td>AFG</td>\n      <td>Afghanistan</td>\n      <td>1900</td>\n      <td>2</td>\n      <td>-2.497</td>\n    </tr>\n    <tr>\n      <th>2</th>\n      <td>AFG</td>\n      <td>Afghanistan</td>\n      <td>1900</td>\n      <td>3</td>\n      <td>1.754</td>\n    </tr>\n    <tr>\n      <th>3</th>\n      <td>AFG</td>\n      <td>Afghanistan</td>\n      <td>1900</td>\n      <td>4</td>\n      <td>-1.028</td>\n    </tr>\n    <tr>\n      <th>4</th>\n      <td>AFG</td>\n      <td>Afghanistan</td>\n      <td>1900</td>\n      <td>5</td>\n      <td>0.503</td>\n    </tr>\n  </tbody>\n</table>\n</div>"
     },
     "execution_count": 8,
     "metadata": {},
     "output_type": "execute_result"
    }
   ],
   "source": [
    "temp_land_country = pd.read_csv(PATH_TEMP_DATA_FOLDER + PATH_TEMP_LAND_COUNTRY_FILE)\n",
    "\n",
    "temp_land_country.head()"
   ],
   "metadata": {
    "collapsed": false
   }
  },
  {
   "cell_type": "markdown",
   "source": [],
   "metadata": {
    "collapsed": false
   }
  }
 ],
 "metadata": {
  "kernelspec": {
   "display_name": "Python 3",
   "language": "python",
   "name": "python3"
  },
  "language_info": {
   "codemirror_mode": {
    "name": "ipython",
    "version": 2
   },
   "file_extension": ".py",
   "mimetype": "text/x-python",
   "name": "python",
   "nbconvert_exporter": "python",
   "pygments_lexer": "ipython2",
   "version": "2.7.6"
  }
 },
 "nbformat": 4,
 "nbformat_minor": 0
}
