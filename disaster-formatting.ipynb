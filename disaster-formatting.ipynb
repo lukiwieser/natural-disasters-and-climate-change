{
 "cells": [
  {
   "cell_type": "code",
   "execution_count": 73,
   "metadata": {},
   "outputs": [],
   "source": [
    "import pandas as pd\n",
    "from pathlib import Path\n",
    "path = 'data/raw/natural-disasters/emdat_public_2022_12_22_full.xlsx'"
   ]
  },
  {
   "cell_type": "code",
   "execution_count": 74,
   "metadata": {},
   "outputs": [
    {
     "name": "stderr",
     "output_type": "stream",
     "text": [
      "/Users/paulschmitt/PycharmProjects/tuw-python-2022WS/venv/lib/python3.8/site-packages/openpyxl/styles/stylesheet.py:226: UserWarning: Workbook contains no default style, apply openpyxl's default\n",
      "  warn(\"Workbook contains no default style, apply openpyxl's default\")\n"
     ]
    }
   ],
   "source": [
    "disasters_all = pd.read_excel(path, skiprows = 6)"
   ]
  },
  {
   "cell_type": "code",
   "execution_count": 75,
   "metadata": {},
   "outputs": [
    {
     "data": {
      "text/plain": "          Dis No  Year   Seq Glide Disaster Group Disaster Subgroup  \\\n0  1900-9002-CPV  1900  9002   NaN        Natural    Climatological   \n1  1900-9001-IND  1900  9001   NaN        Natural    Climatological   \n2  1901-0003-BEL  1901     3   NaN  Technological     Technological   \n3  1902-0012-GTM  1902    12   NaN        Natural       Geophysical   \n4  1902-0003-GTM  1902     3   NaN        Natural       Geophysical   \n\n         Disaster Type Disaster Subtype Disaster Subsubtype   Event Name  ...  \\\n0              Drought          Drought                 NaN          NaN  ...   \n1              Drought          Drought                 NaN          NaN  ...   \n2  Industrial accident        Explosion                 NaN    Coal mine  ...   \n3           Earthquake  Ground movement                 NaN          NaN  ...   \n4    Volcanic activity         Ash fall                 NaN  Santa Maria  ...   \n\n  Reconstruction Costs, Adjusted ('000 US$) Insured Damages ('000 US$)  \\\n0                                       NaN                        NaN   \n1                                       NaN                        NaN   \n2                                       NaN                        NaN   \n3                                       NaN                        NaN   \n4                                       NaN                        NaN   \n\n  Insured Damages, Adjusted ('000 US$) Total Damages ('000 US$)  \\\n0                                  NaN                      NaN   \n1                                  NaN                      NaN   \n2                                  NaN                      NaN   \n3                                  NaN                  25000.0   \n4                                  NaN                      NaN   \n\n  Total Damages, Adjusted ('000 US$)       CPI Adm Level Admin1 Code  \\\n0                                NaN  3.077091       NaN         NaN   \n1                                NaN  3.077091       NaN         NaN   \n2                                NaN  3.077091       NaN         NaN   \n3                           781207.0  3.200175       NaN         NaN   \n4                                NaN  3.200175       NaN         NaN   \n\n  Admin2 Code Geo Locations  \n0         NaN           NaN  \n1         NaN           NaN  \n2         NaN           NaN  \n3         NaN           NaN  \n4         NaN           NaN  \n\n[5 rows x 50 columns]",
      "text/html": "<div>\n<style scoped>\n    .dataframe tbody tr th:only-of-type {\n        vertical-align: middle;\n    }\n\n    .dataframe tbody tr th {\n        vertical-align: top;\n    }\n\n    .dataframe thead th {\n        text-align: right;\n    }\n</style>\n<table border=\"1\" class=\"dataframe\">\n  <thead>\n    <tr style=\"text-align: right;\">\n      <th></th>\n      <th>Dis No</th>\n      <th>Year</th>\n      <th>Seq</th>\n      <th>Glide</th>\n      <th>Disaster Group</th>\n      <th>Disaster Subgroup</th>\n      <th>Disaster Type</th>\n      <th>Disaster Subtype</th>\n      <th>Disaster Subsubtype</th>\n      <th>Event Name</th>\n      <th>...</th>\n      <th>Reconstruction Costs, Adjusted ('000 US$)</th>\n      <th>Insured Damages ('000 US$)</th>\n      <th>Insured Damages, Adjusted ('000 US$)</th>\n      <th>Total Damages ('000 US$)</th>\n      <th>Total Damages, Adjusted ('000 US$)</th>\n      <th>CPI</th>\n      <th>Adm Level</th>\n      <th>Admin1 Code</th>\n      <th>Admin2 Code</th>\n      <th>Geo Locations</th>\n    </tr>\n  </thead>\n  <tbody>\n    <tr>\n      <th>0</th>\n      <td>1900-9002-CPV</td>\n      <td>1900</td>\n      <td>9002</td>\n      <td>NaN</td>\n      <td>Natural</td>\n      <td>Climatological</td>\n      <td>Drought</td>\n      <td>Drought</td>\n      <td>NaN</td>\n      <td>NaN</td>\n      <td>...</td>\n      <td>NaN</td>\n      <td>NaN</td>\n      <td>NaN</td>\n      <td>NaN</td>\n      <td>NaN</td>\n      <td>3.077091</td>\n      <td>NaN</td>\n      <td>NaN</td>\n      <td>NaN</td>\n      <td>NaN</td>\n    </tr>\n    <tr>\n      <th>1</th>\n      <td>1900-9001-IND</td>\n      <td>1900</td>\n      <td>9001</td>\n      <td>NaN</td>\n      <td>Natural</td>\n      <td>Climatological</td>\n      <td>Drought</td>\n      <td>Drought</td>\n      <td>NaN</td>\n      <td>NaN</td>\n      <td>...</td>\n      <td>NaN</td>\n      <td>NaN</td>\n      <td>NaN</td>\n      <td>NaN</td>\n      <td>NaN</td>\n      <td>3.077091</td>\n      <td>NaN</td>\n      <td>NaN</td>\n      <td>NaN</td>\n      <td>NaN</td>\n    </tr>\n    <tr>\n      <th>2</th>\n      <td>1901-0003-BEL</td>\n      <td>1901</td>\n      <td>3</td>\n      <td>NaN</td>\n      <td>Technological</td>\n      <td>Technological</td>\n      <td>Industrial accident</td>\n      <td>Explosion</td>\n      <td>NaN</td>\n      <td>Coal mine</td>\n      <td>...</td>\n      <td>NaN</td>\n      <td>NaN</td>\n      <td>NaN</td>\n      <td>NaN</td>\n      <td>NaN</td>\n      <td>3.077091</td>\n      <td>NaN</td>\n      <td>NaN</td>\n      <td>NaN</td>\n      <td>NaN</td>\n    </tr>\n    <tr>\n      <th>3</th>\n      <td>1902-0012-GTM</td>\n      <td>1902</td>\n      <td>12</td>\n      <td>NaN</td>\n      <td>Natural</td>\n      <td>Geophysical</td>\n      <td>Earthquake</td>\n      <td>Ground movement</td>\n      <td>NaN</td>\n      <td>NaN</td>\n      <td>...</td>\n      <td>NaN</td>\n      <td>NaN</td>\n      <td>NaN</td>\n      <td>25000.0</td>\n      <td>781207.0</td>\n      <td>3.200175</td>\n      <td>NaN</td>\n      <td>NaN</td>\n      <td>NaN</td>\n      <td>NaN</td>\n    </tr>\n    <tr>\n      <th>4</th>\n      <td>1902-0003-GTM</td>\n      <td>1902</td>\n      <td>3</td>\n      <td>NaN</td>\n      <td>Natural</td>\n      <td>Geophysical</td>\n      <td>Volcanic activity</td>\n      <td>Ash fall</td>\n      <td>NaN</td>\n      <td>Santa Maria</td>\n      <td>...</td>\n      <td>NaN</td>\n      <td>NaN</td>\n      <td>NaN</td>\n      <td>NaN</td>\n      <td>NaN</td>\n      <td>3.200175</td>\n      <td>NaN</td>\n      <td>NaN</td>\n      <td>NaN</td>\n      <td>NaN</td>\n    </tr>\n  </tbody>\n</table>\n<p>5 rows × 50 columns</p>\n</div>"
     },
     "execution_count": 75,
     "metadata": {},
     "output_type": "execute_result"
    }
   ],
   "source": [
    "disasters_all.head()"
   ]
  },
  {
   "cell_type": "code",
   "execution_count": 76,
   "metadata": {
    "scrolled": true
   },
   "outputs": [
    {
     "data": {
      "text/plain": "Index(['dis_no', 'year', 'seq', 'glide', 'disaster_group', 'disaster_subgroup',\n       'disaster_type', 'disaster_subtype', 'disaster_subsubtype',\n       'event_name', 'country', 'iso', 'region', 'continent', 'location',\n       'origin', 'associated_dis', 'associated_dis2', 'ofda_response',\n       'appeal', 'declaration', 'aid_contribution_('000_us$)', 'dis_mag_value',\n       'dis_mag_scale', 'latitude', 'longitude', 'local_time', 'river_basin',\n       'start_year', 'start_month', 'start_day', 'end_year', 'end_month',\n       'end_day', 'total_deaths', 'no_injured', 'no_affected', 'no_homeless',\n       'total_affected', 'reconstruction_costs_('000_us$)',\n       'reconstruction_costs,_adjusted_('000_us$)',\n       'insured_damages_('000_us$)', 'insured_damages,_adjusted_('000_us$)',\n       'total_damages_('000_us$)', 'total_damages,_adjusted_('000_us$)', 'cpi',\n       'adm_level', 'admin1_code', 'admin2_code', 'geo_locations'],\n      dtype='object')"
     },
     "execution_count": 76,
     "metadata": {},
     "output_type": "execute_result"
    }
   ],
   "source": [
    "# Remove whitespaces from all col-names and convert them to lower-case\n",
    "disasters_all.columns = [c.replace(' ', '_').lower() for c in disasters_all.columns]\n",
    "disasters_all.columns"
   ]
  },
  {
   "cell_type": "code",
   "execution_count": 77,
   "metadata": {},
   "outputs": [],
   "source": [
    "disasters_all = disasters_all[disasters_all.disaster_group == \"Natural\"]"
   ]
  },
  {
   "cell_type": "code",
   "execution_count": 78,
   "metadata": {},
   "outputs": [],
   "source": [
    "relevant_col_names = [\"year\", \"country\", \"iso\", \"disaster_type\", \"disaster_subtype\", \"total_deaths\"]\n",
    "disasters_all = disasters_all.filter(items=relevant_col_names)\n",
    "disasters_all.rename(columns={'country':'country_name', 'iso':'country_code', 'disaster_subtype':'subtype', 'disaster_type':'type', 'total_deaths':'deaths'}, inplace=True)"
   ]
  },
  {
   "cell_type": "code",
   "execution_count": 79,
   "metadata": {},
   "outputs": [
    {
     "ename": "NameError",
     "evalue": "name 'filepath' is not defined",
     "output_type": "error",
     "traceback": [
      "\u001B[0;31m---------------------------------------------------------------------------\u001B[0m",
      "\u001B[0;31mNameError\u001B[0m                                 Traceback (most recent call last)",
      "Cell \u001B[0;32mIn [79], line 4\u001B[0m\n\u001B[1;32m      2\u001B[0m disasters_global \u001B[38;5;241m=\u001B[39m disasters_all[disasters_global_attributes]\n\u001B[1;32m      3\u001B[0m disasters_global_filepath \u001B[38;5;241m=\u001B[39m Path(\u001B[38;5;124m'\u001B[39m\u001B[38;5;124mdata/disaster-global.csv\u001B[39m\u001B[38;5;124m'\u001B[39m)\n\u001B[0;32m----> 4\u001B[0m disasters_global\u001B[38;5;241m.\u001B[39mto_csv(\u001B[43mfilepath\u001B[49m)\n",
      "\u001B[0;31mNameError\u001B[0m: name 'filepath' is not defined"
     ]
    }
   ],
   "source": [
    "disasters_global_attributes = [\"year\", \"type\", \"subtype\", \"deaths\"]\n",
    "disasters_global = disasters_all[disasters_global_attributes]\n",
    "disasters_global_filepath = Path('data/disaster-global.csv')\n",
    "disasters_global.to_csv(filepath) "
   ]
  },
  {
   "cell_type": "code",
   "execution_count": null,
   "metadata": {},
   "outputs": [],
   "source": [
    "df.head(20)"
   ]
  },
  {
   "cell_type": "code",
   "execution_count": null,
   "metadata": {},
   "outputs": [],
   "source": [
    "for col in df:\n",
    "    print(col + \": \" + str(df.loc[:, col].isnull().sum()))\n",
    "print(\"Total: \" + str(len(df)))"
   ]
  },
  {
   "cell_type": "code",
   "execution_count": null,
   "metadata": {},
   "outputs": [],
   "source": [
    "un_country_codes = pd.read_csv(\"data/raw/country-codes/un-country-codes.csv\", sep=\";\")\n",
    "un_country_codes.columns = [c.replace(' ', '_').replace('-','_') for c in un_country_codes.columns]"
   ]
  },
  {
   "cell_type": "code",
   "execution_count": null,
   "metadata": {},
   "outputs": [],
   "source": [
    "countries_with_iso = df.merge(un_country_codes, how=\"left\", left_on='country_name', right_on='Country_or_Area')[[\"country_name\", \"country_code\", \"ISO_alpha3_Code\"]]"
   ]
  },
  {
   "cell_type": "code",
   "execution_count": null,
   "metadata": {},
   "outputs": [],
   "source": [
    "countries_with_iso.head()"
   ]
  },
  {
   "cell_type": "code",
   "execution_count": null,
   "metadata": {},
   "outputs": [],
   "source": [
    "mismatches = countries_with_iso[countries_with_iso.ISO_alpha3_Code.isnull()]"
   ]
  },
  {
   "cell_type": "code",
   "execution_count": null,
   "metadata": {},
   "outputs": [],
   "source": [
    "mismatches.country_name.unique()"
   ]
  },
  {
   "cell_type": "code",
   "execution_count": null,
   "metadata": {},
   "outputs": [],
   "source": [
    "# Replace suffix\n",
    "df['country_name'] = df['country_name'].apply(lambda x: x.replace(' (the)', ''))\n",
    "# Reorder compley country-names\n",
    "df['country_name'] = df['country_name'].apply(lambda x: x.split(',')[1] + \" \" + x.split(',')[0] if ',' in x else x)\n",
    "# Remove random white-spaces at the start of a name\n",
    "df['country_name'] = df['country_name'].apply(lambda x: x[1:] if x.startswith(' ') else x)\n"
   ]
  },
  {
   "cell_type": "code",
   "execution_count": null,
   "metadata": {},
   "outputs": [],
   "source": [
    "new_country_names = {\n",
    "    \"Germany Fed Rep\": \"Germany\",\n",
    "    \"Germany Dem Rep\": \"Germany\",\n",
    "    \"Hong Kong\": \"China\",\n",
    "    \"Macao\": \"China\",\n",
    "    \"Åland\": \"Åland Islands\",\n",
    "    \"Congo (the Democratic Republic of the)\": \"Congo\",\n",
    "    \"Turkey\": \"Türkiye\",\n",
    "    \"Korea (the Republic of)\": \"Republic of Korea\",\n",
    "    \"Macedonia (the former Yugoslav Republic of)\": \"North Macedonia\",\n",
    "    \"Congo (Democratic Republic of the)\": \"Democratic Republic of the Congo\",\n",
    "    \"Yemen P Dem Rep\": \"Yemen\",\n",
    "    \"Yemen Arab Rep\": \"Yemen\",\n",
    "    \"Korea (the Democratic People's Republic of)\": \"Democratic People's Republic of Korea\",\n",
    "    \"Korea (the Republic of)\": \"Republic of Korea\",\n",
    "    \"Serbia Montenegro\" : \"Serbia\",\n",
    "    \"Moldova (the Republic of)\" : \"Republic of Moldova\",\n",
    "    \"Czech Republic\" : \"Czechia\",\n",
    "    \"Taiwan (Province of China)\" : \"Taiwan\"\n",
    "    \n",
    "}"
   ]
  },
  {
   "cell_type": "code",
   "execution_count": null,
   "metadata": {},
   "outputs": [],
   "source": [
    "df = df.replace({\"country_name\": new_country_names}, inplace=False)"
   ]
  },
  {
   "cell_type": "code",
   "execution_count": null,
   "metadata": {},
   "outputs": [],
   "source": [
    "countries_with_iso = df.merge(un_country_codes, how=\"left\", left_on='country_code', right_on='ISO_alpha3_Code')[[\"country_name\", \"country_code\", \"ISO_alpha3_Code\"]]\n",
    "mismatches = countries_with_iso[countries_with_iso.ISO_alpha3_Code.isnull()]\n",
    "mismatches.country_name.unique()"
   ]
  },
  {
   "cell_type": "code",
   "execution_count": null,
   "metadata": {},
   "outputs": [],
   "source": [
    "countries_with_iso.head(10)\n",
    "mask = countries_with_iso.notnull().all(axis=1)\n",
    "countries_with_iso[~mask].country_name.unique()"
   ]
  },
  {
   "cell_type": "code",
   "execution_count": null,
   "metadata": {},
   "outputs": [],
   "source": [
    "df.loc[df.country_name == \"Germany\", \"country_code\"] = \"DEU\"\n",
    "df.loc[df.country_name == \"Serbia\", \"country_code\"] = \"SRB\"\n",
    "df.loc[df.country_name == \"Yemen\", \"country_code\"] = \"YEM\"\n",
    "df.loc[df.country_name == \"Taiwan\", \"country_code\"] = \"TWM\"\n",
    "df.loc[df.country_name == \"Canary Is\", \"country_code\"] = \"SPI\"\n",
    "df.loc[df.country_name == \"Azores Islands\", \"country_code\"] = \"AZO\""
   ]
  },
  {
   "cell_type": "code",
   "execution_count": null,
   "metadata": {},
   "outputs": [],
   "source": [
    "countries_with_iso = df.merge(un_country_codes, how=\"left\", left_on='country_code', right_on='ISO_alpha3_Code')[[\"country_name\", \"country_code\", \"ISO_alpha3_Code\"]]\n",
    "mismatches = countries_with_iso[countries_with_iso.ISO_alpha3_Code.isnull()]\n",
    "mismatches.country_name.unique()"
   ]
  },
  {
   "cell_type": "code",
   "execution_count": null,
   "metadata": {},
   "outputs": [],
   "source": [
    "df[df.subtype.isnull()].head(20)"
   ]
  },
  {
   "cell_type": "code",
   "execution_count": null,
   "metadata": {},
   "outputs": [],
   "source": [
    "filepath_country = Path('data/disaster-country.csv')\n",
    "df.to_csv(filepath_country) "
   ]
  },
  {
   "cell_type": "code",
   "execution_count": null,
   "metadata": {},
   "outputs": [],
   "source": []
  }
 ],
 "metadata": {
  "kernelspec": {
   "display_name": "Python 3 (ipykernel)",
   "language": "python",
   "name": "python3"
  },
  "language_info": {
   "codemirror_mode": {
    "name": "ipython",
    "version": 3
   },
   "file_extension": ".py",
   "mimetype": "text/x-python",
   "name": "python",
   "nbconvert_exporter": "python",
   "pygments_lexer": "ipython3",
   "version": "3.8.9"
  }
 },
 "nbformat": 4,
 "nbformat_minor": 1
}