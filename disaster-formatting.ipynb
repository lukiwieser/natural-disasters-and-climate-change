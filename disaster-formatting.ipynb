{
 "cells": [
  {
   "cell_type": "markdown",
   "metadata": {
    "collapsed": false
   },
   "source": [
    "# Natural Disaster Data"
   ]
  },
  {
   "cell_type": "markdown",
   "metadata": {
    "collapsed": false
   },
   "source": [
    "## Task:\n",
    "\n",
    "The goal is to convert the data into the following formats for later use.\n",
    "Along the way, this notebook does some data-preparation\n",
    "\n",
    "\n",
    "### Disaster-All\n",
    "disaster/disaster-all:\n",
    "Columns: disaster_no, year, subgroup, type, total_deaths, dis_mag_value, dis_mag_scale, start_year, end_year\n",
    "Other interesting columns?\n",
    "\n",
    "\n",
    "### Disaster-Global\n",
    "disaster/disaster-global.csv\n",
    "Columns: year, subgroup, type, total_deaths\n",
    "\n",
    "\n",
    "### Disaster-Region\n",
    "disaster/disaster-region.csv\n",
    "Columns: region_code, region_name, year, subgroup, type, total_deaths\n",
    "Calculate from country data, use UN Dataset to assign region to each country\n",
    "\n",
    "\n",
    "### Disaster-Country\n",
    "disaster/disaster-country.csv\n",
    "Columns: year, country_code, country_name,  subtype, type, total_deaths\n",
    "\n",
    "Prefix: dis\n"
   ]
  },
  {
   "cell_type": "markdown",
   "metadata": {
    "collapsed": false
   },
   "source": [
    "Publisher: Centre for Research on the Epidemiology of Disasters (CRED)\n",
    "\n",
    "CRED defines a disaster as “a situation or event that overwhelms local capacity, necessitating a\n",
    "request at the national or international level for external assistance; an unforeseen and often sudden\n",
    "event that causes great damage, destruction and human suffering”\n",
    "\n",
    "For a disaster to be entered into the database at least one of the following criteria must be fulfilled:\n",
    "\n",
    "- 10 or more people reported killed\n",
    "- 100 or more people reported affected\n",
    "- Declaration of a state of emergency\n",
    "- Call for international assistance"
   ]
  },
  {
   "cell_type": "markdown",
   "metadata": {
    "collapsed": false
   },
   "source": [
    "## Setup & Imports"
   ]
  },
  {
   "cell_type": "code",
   "execution_count": null,
   "metadata": {},
   "outputs": [],
   "source": [
    "import os\n",
    "import numpy as np\n",
    "import pandas as pd\n",
    "from pathlib import Path\n",
    "filepath_source = Path('data/raw/disaster/emdat_public_2022_12_22_full.xlsx')\n",
    "filepath_all = Path(\"data/processed/disaster/disaster-all.csv\")\n",
    "filepath_global = Path(\"data/processed/disaster/disaster-global.csv\")\n",
    "filepath_country = Path('data/processed/disaster/disaster-country.csv')\n",
    "filepath_region = Path(\"data/processed/disaster/disaster-region.csv\")"
   ]
  },
  {
   "cell_type": "code",
   "execution_count": null,
   "metadata": {},
   "outputs": [],
   "source": [
    "dis = pd.read_excel(filepath_source, skiprows = 6)"
   ]
  },
  {
   "cell_type": "code",
   "execution_count": null,
   "metadata": {},
   "outputs": [],
   "source": [
    "if not os.path.isdir(\"data/processed/disaster/\"):\n",
    "    os.makedirs(\"data/processed/disaster/\")"
   ]
  },
  {
   "cell_type": "markdown",
   "metadata": {
    "collapsed": false
   },
   "source": [
    "## First Look"
   ]
  },
  {
   "cell_type": "code",
   "execution_count": null,
   "metadata": {},
   "outputs": [],
   "source": [
    "dis.head()"
   ]
  },
  {
   "cell_type": "markdown",
   "metadata": {
    "collapsed": false
   },
   "source": [
    "## Reformat Attribute-Names\n",
    "\n",
    "1. Replace whitespaces with underscores\n",
    "2. Convert every character to lowercase\n",
    "3. Rename specific columns to ensure uniformity"
   ]
  },
  {
   "cell_type": "code",
   "execution_count": null,
   "metadata": {},
   "outputs": [],
   "source": [
    "# Remove whitespaces from all col-names and convert them to lower-case\n",
    "dis.columns = [c.replace(' ', '_').lower() for c in dis.columns]\n",
    "dis.rename(columns={'country':'country_name', 'iso':'country_code', 'disaster_subtype':'subtype', 'disaster_type':'type', 'total_deaths':'deaths'}, inplace=True)"
   ]
  },
  {
   "cell_type": "markdown",
   "metadata": {
    "collapsed": false
   },
   "source": [
    "## Filter for all relevant attributes & observations\n",
    "\n",
    "1. We only consider observations of disasters of type natural. (rows)\n",
    "2. We only consider relevant attributes. (columns)"
   ]
  },
  {
   "cell_type": "markdown",
   "metadata": {
    "collapsed": false
   },
   "source": [
    "## Which disaster groups are present in the dataset ?"
   ]
  },
  {
   "cell_type": "code",
   "execution_count": null,
   "metadata": {},
   "outputs": [],
   "source": [
    "dis.disaster_group.unique()"
   ]
  },
  {
   "cell_type": "markdown",
   "metadata": {
    "collapsed": false
   },
   "source": [
    "There are Natural disasters, technological disasters as well as  complex disasters that represent specific events (e.g. famine) which are not directly linked to a natural hazard.\n",
    "\n",
    "We only focus on disasters which have a natural causation"
   ]
  },
  {
   "cell_type": "code",
   "execution_count": null,
   "metadata": {},
   "outputs": [],
   "source": [
    "dis = dis[dis.disaster_group == \"Natural\"]"
   ]
  },
  {
   "cell_type": "markdown",
   "metadata": {
    "collapsed": false
   },
   "source": [
    "### MAYBE\n",
    "\n",
    "***The dataset contains observation starting from the year 1900, since our task is to only analyze observations from the last 100 year, we only take observations into account that happened after the year 1920.****"
   ]
  },
  {
   "cell_type": "code",
   "execution_count": null,
   "metadata": {},
   "outputs": [],
   "source": [
    "#dis = dis[dis.year >= 1920]"
   ]
  },
  {
   "cell_type": "markdown",
   "metadata": {
    "collapsed": false
   },
   "source": [
    "Which types of natural disasters are there ?"
   ]
  },
  {
   "cell_type": "code",
   "execution_count": null,
   "metadata": {},
   "outputs": [],
   "source": [
    "dis[\"type\"].unique()"
   ]
  },
  {
   "cell_type": "markdown",
   "metadata": {
    "collapsed": false
   },
   "source": [
    "The types of disasters are mostly the ones a normal person would expect when thinking about natural disasters.\n",
    "But there are some strange types like insect-infestations or animal-accident which are not that obvious to understand.\n",
    "Therefore, we need to take a closer look at the disasters of those types."
   ]
  },
  {
   "cell_type": "code",
   "execution_count": null,
   "metadata": {},
   "outputs": [],
   "source": [
    "dis[dis.type == \"Insect infestation\"].deaths.sum()"
   ]
  },
  {
   "cell_type": "markdown",
   "metadata": {
    "collapsed": false
   },
   "source": [
    "It is safe to say that we can omit observations of disasters of type insect-infestations since there are no accounts of people dying from those kinds of incidents."
   ]
  },
  {
   "cell_type": "code",
   "execution_count": null,
   "metadata": {},
   "outputs": [],
   "source": [
    "dis[dis.type == \"Impact\"].deaths.sum()"
   ]
  },
  {
   "cell_type": "markdown",
   "metadata": {
    "collapsed": false
   },
   "source": [
    "The same goes for disaster type impact, which only occurred once in Russia with again 0 deaths.\n",
    "We omit this event."
   ]
  },
  {
   "cell_type": "code",
   "execution_count": null,
   "metadata": {},
   "outputs": [],
   "source": [
    "dis[dis.type == \"Animal accident\"].deaths.count()"
   ]
  },
  {
   "cell_type": "markdown",
   "metadata": {
    "collapsed": false
   },
   "source": [
    "We also decided to omit disasters of type animal-accident since there is only one recorded accident over the last 100 years with only 12 people dying. Therefore, it makes not much sense to include it into our further research."
   ]
  },
  {
   "cell_type": "code",
   "execution_count": null,
   "metadata": {},
   "outputs": [],
   "source": [
    "dis = dis[((dis.type != \"Insect infestation\") & (dis.type != \"Animal accident\")) & (dis.type != \"Impact\")]"
   ]
  },
  {
   "cell_type": "markdown",
   "metadata": {
    "collapsed": false
   },
   "source": [
    "We also decided to no include epidemics since it would go beyond the scope of this task."
   ]
  },
  {
   "cell_type": "code",
   "execution_count": null,
   "metadata": {},
   "outputs": [],
   "source": [
    "dis = dis[dis.type != \"Epidemic\"]"
   ]
  },
  {
   "cell_type": "markdown",
   "metadata": {
    "collapsed": false
   },
   "source": [
    "We only consider the following types of disasters"
   ]
  },
  {
   "cell_type": "code",
   "execution_count": null,
   "metadata": {},
   "outputs": [],
   "source": [
    "dis[\"type\"].unique()"
   ]
  },
  {
   "cell_type": "code",
   "execution_count": null,
   "metadata": {},
   "outputs": [],
   "source": [
    "dis[dis.type == \"Impact\"].deaths.head()"
   ]
  },
  {
   "cell_type": "markdown",
   "metadata": {
    "collapsed": false
   },
   "source": [
    "Now we take a look at the different attributes of each observation"
   ]
  },
  {
   "cell_type": "code",
   "execution_count": null,
   "metadata": {},
   "outputs": [],
   "source": [
    "dis.dtypes"
   ]
  },
  {
   "cell_type": "code",
   "execution_count": null,
   "metadata": {},
   "outputs": [],
   "source": [
    "# Disaster-All\n",
    "dis_all_col_names = [\"year\", \"dis_no\", \"region\", \"continent\", \"country_name\", \"country_code\", \"location\",                             \"type\", \"subtype\", \"deaths\", \"dis_mag_value\", \"dis_mag_scale\", \"start_year\", \"end_year\"]\n",
    "dis_all = dis.filter(items=dis_all_col_names)"
   ]
  },
  {
   "cell_type": "markdown",
   "metadata": {
    "collapsed": false
   },
   "source": [
    "## Are there missing values?\n",
    "\n",
    "Fill missing Values for the number of deaths\n",
    "\n",
    "We can assume that missing values for the number of deaths of a particular disaster means that the deathtoll was 0.\n",
    "\n",
    "For the subtype we take a look for which type of natural disasters a subtype is not provided."
   ]
  },
  {
   "cell_type": "code",
   "execution_count": null,
   "metadata": {},
   "outputs": [],
   "source": [
    "for col in dis_all:\n",
    "    print(col + \": \" + str(dis_all.loc[:, col].isnull().sum()))\n",
    "print(\"Total: \" + str(len(dis_all)))"
   ]
  },
  {
   "cell_type": "code",
   "execution_count": null,
   "metadata": {},
   "outputs": [],
   "source": [
    "dis_all[dis_all[\"subtype\"].isna()][\"type\"].unique()"
   ]
  },
  {
   "cell_type": "markdown",
   "metadata": {
    "collapsed": false
   },
   "source": [
    "Unfortunately the missing values in the subtype column do not correspond to specific types of disasters.\n",
    "We can not conclude that easily what caused the values to be missing."
   ]
  },
  {
   "cell_type": "code",
   "execution_count": null,
   "metadata": {},
   "outputs": [],
   "source": [
    "dis_all[['deaths']] = dis_all[['deaths']].fillna(value=0)"
   ]
  },
  {
   "cell_type": "markdown",
   "metadata": {
    "collapsed": false
   },
   "source": [
    "We convert the number of deaths from float to integer since absolute deaths are by definition always integers"
   ]
  },
  {
   "cell_type": "code",
   "execution_count": null,
   "metadata": {},
   "outputs": [],
   "source": [
    "dis_all[\"deaths\"] = dis_all[\"deaths\"].astype(int)"
   ]
  },
  {
   "cell_type": "markdown",
   "metadata": {
    "collapsed": false
   },
   "source": [
    "## ISO-Codes\n",
    "\n",
    "Compare iso-codes to match the id's of each row with the other datasets.\n",
    "We use the ISO3-Codes, which contain 3 letters to identify a country.\n",
    "From now on, if ISO-Codes are mentioned, we are always speaking of ISO3-Codes."
   ]
  },
  {
   "cell_type": "code",
   "execution_count": null,
   "metadata": {},
   "outputs": [],
   "source": [
    "un_country_codes = pd.read_csv(\"data/raw/country-codes/un-country-codes.csv\", sep=\";\")\n",
    "un_country_codes.columns = [c.replace(' ', '_').replace('-','_') for c in un_country_codes.columns]"
   ]
  },
  {
   "cell_type": "code",
   "execution_count": null,
   "metadata": {},
   "outputs": [],
   "source": [
    "countries_with_iso = dis_all.merge(un_country_codes, how=\"left\", left_on='country_name', right_on='Country_or_Area')[[\"country_name\", \"country_code\", \"ISO_alpha3_Code\"]]"
   ]
  },
  {
   "cell_type": "code",
   "execution_count": null,
   "metadata": {},
   "outputs": [],
   "source": [
    "countries_with_iso.head(10)"
   ]
  },
  {
   "cell_type": "markdown",
   "metadata": {
    "collapsed": false
   },
   "source": [
    "## Display all countries for which NO matching ISO-Code was found"
   ]
  },
  {
   "cell_type": "code",
   "execution_count": null,
   "metadata": {},
   "outputs": [],
   "source": [
    "mismatches = countries_with_iso[countries_with_iso.ISO_alpha3_Code.isnull()]\n",
    "mismatches.country_name.unique()"
   ]
  },
  {
   "cell_type": "markdown",
   "metadata": {
    "collapsed": false
   },
   "source": [
    "## Rename remaining Countrynames to a standardized format"
   ]
  },
  {
   "cell_type": "code",
   "execution_count": null,
   "metadata": {},
   "outputs": [],
   "source": [
    "# Replace suffix\n",
    "dis_all['country_name'] = dis_all['country_name'].apply(lambda x: x.replace(' (the)', ''))\n",
    "# Reorder compley country-names\n",
    "dis_all['country_name'] = dis_all['country_name'].apply(lambda x: x.split(',')[1] + \" \" + x.split(',')[0] if ',' in x else x)\n",
    "# Remove random white-spaces at the start of a name\n",
    "dis_all['country_name'] = dis_all['country_name'].apply(lambda x: x[1:] if x.startswith(' ') else x)\n"
   ]
  },
  {
   "cell_type": "code",
   "execution_count": null,
   "metadata": {},
   "outputs": [],
   "source": [
    "new_country_names = {\n",
    "    \"Germany Fed Rep\": \"Germany\",\n",
    "    \"Germany Dem Rep\": \"Germany\",\n",
    "    \"Hong Kong\": \"China\",\n",
    "    \"Macao\": \"China\",\n",
    "    \"Åland\": \"Åland Islands\",\n",
    "    \"Congo (the Democratic Republic of the)\": \"Congo\",\n",
    "    \"Turkey\": \"Türkiye\",\n",
    "    \"Korea (the Republic of)\": \"Republic of Korea\",\n",
    "    \"Macedonia (the former Yugoslav Republic of)\": \"North Macedonia\",\n",
    "    \"Congo (Democratic Republic of the)\": \"Democratic Republic of the Congo\",\n",
    "    \"Yemen P Dem Rep\": \"Yemen\",\n",
    "    \"Yemen Arab Rep\": \"Yemen\",\n",
    "    \"Korea (the Democratic People's Republic of)\": \"Democratic People's Republic of Korea\",\n",
    "    \"Korea (the Republic of)\": \"Republic of Korea\",\n",
    "    \"Serbia Montenegro\" : \"Serbia\",\n",
    "    \"Moldova (the Republic of)\" : \"Republic of Moldova\",\n",
    "    \"Czech Republic\" : \"Czechia\",\n",
    "    \"Taiwan (Province of China)\" : \"Taiwan\"\n",
    "}"
   ]
  },
  {
   "cell_type": "code",
   "execution_count": null,
   "metadata": {},
   "outputs": [],
   "source": [
    "dis_all = dis_all.replace({\"country_name\": new_country_names}, inplace=False)"
   ]
  },
  {
   "cell_type": "markdown",
   "metadata": {
    "collapsed": false
   },
   "source": [
    "## Check for countries with missing ISO-Codes"
   ]
  },
  {
   "cell_type": "code",
   "execution_count": null,
   "metadata": {},
   "outputs": [],
   "source": [
    "countries_with_iso = dis_all.merge(un_country_codes, how=\"left\", left_on='country_code', right_on='ISO_alpha3_Code')[[\"country_name\", \"country_code\", \"ISO_alpha3_Code\"]]\n",
    "mismatches = countries_with_iso[countries_with_iso.ISO_alpha3_Code.isnull()]\n",
    "mismatches.country_name.unique()"
   ]
  },
  {
   "cell_type": "code",
   "execution_count": null,
   "metadata": {},
   "outputs": [],
   "source": [
    "countries_with_iso.head(10)\n",
    "mask = countries_with_iso.notnull().all(axis=1)\n",
    "countries_with_iso[~mask].country_name.unique()"
   ]
  },
  {
   "cell_type": "markdown",
   "metadata": {
    "collapsed": false
   },
   "source": [
    "## Assign ISO-Codes (we know of) to countries"
   ]
  },
  {
   "cell_type": "code",
   "execution_count": null,
   "metadata": {},
   "outputs": [],
   "source": [
    "dis_all.loc[dis_all.country_name == \"Germany\", \"country_code\"] = \"DEU\"\n",
    "dis_all.loc[dis_all.country_name == \"Serbia\", \"country_code\"] = \"SRB\"\n",
    "dis_all.loc[dis_all.country_name == \"Yemen\", \"country_code\"] = \"YEM\"\n",
    "dis_all.loc[dis_all.country_name == \"Taiwan\", \"country_code\"] = \"TWM\"\n",
    "dis_all.loc[dis_all.country_name == \"Canary Is\", \"country_code\"] = \"SPI\"\n",
    "dis_all.loc[dis_all.country_name == \"Azores Islands\", \"country_code\"] = \"AZO\""
   ]
  },
  {
   "cell_type": "markdown",
   "metadata": {
    "collapsed": false
   },
   "source": [
    "## Check which countries still do not have an ISO-Code\n",
    "\n",
    "The following countries either do not have an ISO-Code assigned because they do not exist anymore or are not recognized internationally.\n",
    "\n",
    "For small countries like Azore-Islands or the netherlands antilles it is not that tragic, since they probably contribute only marginally to the total number of deaths by natural disasters globally or for a specific region.\n",
    "They are therefore negligible.\n",
    "\n",
    "For internationally unrecognized countries (Taiwan) we can default to a specifically assigned ISO-Code by us.\n",
    "\n",
    "The difficult part is to make sense of the observations belonging to a larger country which has been split up into smaller nations in the last 100 years. (Soviet Union, Czechoslovakia, Yugoslavia)"
   ]
  },
  {
   "cell_type": "code",
   "execution_count": null,
   "metadata": {},
   "outputs": [],
   "source": [
    "countries_with_iso = dis_all.merge(un_country_codes, how=\"left\", left_on='country_code', right_on='ISO_alpha3_Code')[[\"country_name\", \"country_code\", \"ISO_alpha3_Code\", \"Region_Code\"]]\n",
    "mismatches = countries_with_iso[countries_with_iso.ISO_alpha3_Code.isnull()]\n",
    "mismatches.country_name.unique()"
   ]
  },
  {
   "cell_type": "markdown",
   "metadata": {
    "collapsed": false
   },
   "source": [
    "## Taiwan: Assign ISO-Code manually (TWN)"
   ]
  },
  {
   "cell_type": "code",
   "execution_count": null,
   "metadata": {},
   "outputs": [],
   "source": [
    "dis_all.loc[dis_all.country_name == \"Taiwan\", \"country_code\"] = \"TWN\""
   ]
  },
  {
   "cell_type": "markdown",
   "metadata": {
    "collapsed": false
   },
   "source": [
    "## Count all disasters that happened in the Soviet Union"
   ]
  },
  {
   "cell_type": "code",
   "execution_count": null,
   "metadata": {},
   "outputs": [],
   "source": [
    "dis_all[dis_all.country_code == \"SUN\"].deaths.count()"
   ]
  },
  {
   "cell_type": "markdown",
   "metadata": {
    "collapsed": false
   },
   "source": [
    "## Count all disasters that happened in Czechoslovakia"
   ]
  },
  {
   "cell_type": "code",
   "execution_count": null,
   "metadata": {},
   "outputs": [],
   "source": [
    "dis_all[dis_all.country_code == \"CSK\"].deaths.count()"
   ]
  },
  {
   "cell_type": "markdown",
   "metadata": {
    "collapsed": false
   },
   "source": [
    "## Count all disasters that happened in Yugoslavia"
   ]
  },
  {
   "cell_type": "code",
   "execution_count": null,
   "metadata": {},
   "outputs": [],
   "source": [
    "dis_all[dis_all.country_code == \"YUG\"].deaths.count()"
   ]
  },
  {
   "cell_type": "markdown",
   "metadata": {
    "collapsed": false
   },
   "source": [
    "## Check in which part of the country the disaster occured"
   ]
  },
  {
   "cell_type": "code",
   "execution_count": null,
   "metadata": {},
   "outputs": [],
   "source": [
    "dis_all[dis_all.country_code == \"CSK\"].location"
   ]
  },
  {
   "cell_type": "markdown",
   "metadata": {
    "collapsed": false
   },
   "source": [
    "## Determine Location\n",
    "\n",
    "To determine in which currently existing country those disasters happened,\n",
    "we need to take a look at the location-attribute\n",
    "\n",
    "Fortunately only the disasters in Czechoslovakia have missing values for the location attribute.\n",
    "For all disasters in the other dissolved countries an exact location is provided.\n",
    "\n",
    "Now we proceed by checking matching the location with the now existing countries that were part of the former nations.\n",
    "\n",
    "Soviet Union (SUN):\n",
    "- Armenia\n",
    "- Azerbaijan\n",
    "- Belarus\n",
    "- Estonia\n",
    "- Georgia\n",
    "- Kazakhstan\n",
    "- Kyrgyzstan\n",
    "- Latvia\n",
    "- Lithuania\n",
    "- Moldova\n",
    "- Russia\n",
    "- Tajikistan\n",
    "- Turkmenistan\n",
    "- Ukraine\n",
    "- Uzbekistan\n",
    "\n",
    "Yugoslavia (YUG):\n",
    "- Bosnia and Herzegovina\n",
    "- Croatia\n",
    "- Kosovo (included but not part of the dataset)\n",
    "- Montenegro\n",
    "- North Macedonia\n",
    "- Serbia\n",
    "\n",
    "Czechoslovakia (CSK):\n",
    "- The Czech Republic\n",
    "- Slovakia"
   ]
  },
  {
   "cell_type": "code",
   "execution_count": null,
   "metadata": {},
   "outputs": [],
   "source": [
    "former_sum_country_names = [\"Russian Federation\", \"Armenia\", \"Azerbaijan\", \"Belarus\", \"Estonia\", \"Georgia\", \"Kazakhstan\", \"Kyrgyzstan\", \"Latvia\", \"Lithuania\", \"Moldova\", \"Tajikistan\", \"Turkmenistan\", \"Ukraine\", \"Uzbekistan\"]\n",
    "\n",
    "former_yug_country_names = [\"Bosnia and Herzegovina\", \"Croatia\", \"Kosovo\", \"Montenegro\", \"North Macedonia\",\"Serbia\"]\n",
    "\n",
    "former_csk_country_names = [\"Czechia\", \"Slovakia\"]"
   ]
  },
  {
   "cell_type": "code",
   "execution_count": null,
   "metadata": {},
   "outputs": [],
   "source": [
    "dis_all[dis_all.country_code == \"SUN\"].location"
   ]
  },
  {
   "cell_type": "code",
   "execution_count": null,
   "metadata": {},
   "outputs": [],
   "source": [
    "dis_sun_with_region = dis_all[dis_all.country_code == \"SUN\"].copy()\n",
    "dis_sun_with_region[\"region\"] = np.nan\n",
    "\n",
    "mask_europe = dis_sun_with_region[\"location\"].str.contains(\"Russian Federation|Ukraine|Moldavia|Siberia\").fillna(False)\n",
    "mask_asia = dis_sun_with_region[\"location\"].str.contains(\"Kazakhstan|Azerbaijan|Uzbekistan|Turkmenistan|Georgia|Armenia|Kyrgystan|Tajikistan|Tajiskistan|Tadzhikistan|Tadjikistan|Caucasus region|Dushanbe\", case=False).fillna(False)\n",
    "\n",
    "# disasters in europe and asia\n",
    "dis_sun_with_region[mask_europe & mask_asia]"
   ]
  },
  {
   "cell_type": "markdown",
   "metadata": {
    "collapsed": false
   },
   "source": [
    "Only one Event happened in both the asian as well as the european part of the soviet union.\n",
    "It is also a major event since it is a drought which caused the death of 1.2 million people.\n",
    "\n",
    "Researching the details of this event one can conclude that this observation can only be the Russian famine of 1921–1922.\n",
    "It mostly affected people living in europe, hence we assign this single observation the region europe.\n",
    "(https://en.wikipedia.org/wiki/Russian_famine_of_1921%E2%80%931922)\n",
    "\n",
    "For all other observations, the region should be unambiguous."
   ]
  },
  {
   "cell_type": "code",
   "execution_count": null,
   "metadata": {},
   "outputs": [],
   "source": [
    "dis_sun_with_region.loc[mask_europe, \"region\"] = \"Europe\"\n",
    "dis_sun_with_region.loc[mask_asia, \"region\"] = \"Asia\"\n",
    "dis_sun_with_region.loc[1262, \"region\"] = \"Europe\""
   ]
  },
  {
   "cell_type": "markdown",
   "metadata": {
    "collapsed": false
   },
   "source": [
    "The observations which still have missing region values, all have no recorded deaths and can therefore be safely ignored."
   ]
  },
  {
   "cell_type": "code",
   "execution_count": null,
   "metadata": {},
   "outputs": [],
   "source": [
    "# Czechoslovakia\n",
    "dis_all[dis_all.country_code == \"CSK\"].region"
   ]
  },
  {
   "cell_type": "code",
   "execution_count": null,
   "metadata": {},
   "outputs": [],
   "source": [
    "# Yugoslavia\n",
    "dis_all[dis_all.country_code == \"YUG\"].region"
   ]
  },
  {
   "cell_type": "markdown",
   "metadata": {
    "collapsed": false
   },
   "source": [
    "## Save the Disaster-All file"
   ]
  },
  {
   "cell_type": "code",
   "execution_count": null,
   "metadata": {},
   "outputs": [],
   "source": [
    "dis_all.to_csv(filepath_all, index=False)"
   ]
  },
  {
   "cell_type": "code",
   "execution_count": null,
   "metadata": {},
   "outputs": [],
   "source": [
    "dis_all.head()"
   ]
  },
  {
   "cell_type": "markdown",
   "metadata": {
    "collapsed": false
   },
   "source": [
    "## Create/Save the Disaster-Country file"
   ]
  },
  {
   "cell_type": "code",
   "execution_count": null,
   "metadata": {},
   "outputs": [],
   "source": [
    "dis_country_col_names = [\"year\", \"country_name\", \"country_code\", \"type\", \"subtype\", \"deaths\"]\n",
    "dis_country = dis_all.filter(items=dis_country_col_names)\n",
    "dis_country.to_csv(filepath_country, index=False)"
   ]
  },
  {
   "cell_type": "code",
   "execution_count": null,
   "metadata": {},
   "outputs": [],
   "source": [
    "dis_country.head()"
   ]
  },
  {
   "cell_type": "markdown",
   "metadata": {
    "collapsed": false
   },
   "source": [
    "## Create/Save the Disaster-Region file"
   ]
  },
  {
   "cell_type": "code",
   "execution_count": null,
   "metadata": {},
   "outputs": [],
   "source": [
    "dis_region_col_names = [\"year\", \"region\", \"country_code\", \"type\", \"subtype\", \"deaths\"]\n",
    "dis_region = dis_all.filter(items=dis_region_col_names)\n",
    "dis_region.to_csv(filepath_region, index=False)"
   ]
  },
  {
   "cell_type": "code",
   "execution_count": null,
   "metadata": {},
   "outputs": [],
   "source": [
    "dis_region.head()"
   ]
  },
  {
   "cell_type": "markdown",
   "metadata": {
    "collapsed": false
   },
   "source": [
    "## Create/Save the Disaster-global file"
   ]
  },
  {
   "cell_type": "code",
   "execution_count": null,
   "metadata": {},
   "outputs": [],
   "source": [
    "dis_global_attributes = [\"year\", \"type\", \"subtype\", \"deaths\"]\n",
    "dis_global = dis_all[dis_global_attributes]\n",
    "dis_global.to_csv(filepath_global, index=False)"
   ]
  },
  {
   "cell_type": "code",
   "execution_count": null,
   "metadata": {},
   "outputs": [],
   "source": [
    "dis_region.head()"
   ]
  }
 ],
 "metadata": {
  "kernelspec": {
   "display_name": "Python 3 (ipykernel)",
   "language": "python",
   "name": "python3"
  },
  "language_info": {
   "codemirror_mode": {
    "name": "ipython",
    "version": 3
   },
   "file_extension": ".py",
   "mimetype": "text/x-python",
   "name": "python",
   "nbconvert_exporter": "python",
   "pygments_lexer": "ipython3",
   "version": "3.8.9"
  }
 },
 "nbformat": 4,
 "nbformat_minor": 1
}