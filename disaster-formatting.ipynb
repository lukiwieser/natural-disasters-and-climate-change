{
 "cells": [
  {
   "cell_type": "markdown",
   "source": [
    "# Natural Disaster Data"
   ],
   "metadata": {
    "collapsed": false,
    "pycharm": {
     "name": "#%% md\n"
    }
   }
  },
  {
   "cell_type": "markdown",
   "source": [
    "## Task:\n",
    "\n",
    "The goal is to convert the data into the following formats for later use.\n",
    "Along the way, this notebook does some data-preparation\n",
    "\n",
    "\n",
    "### Disaster-All\n",
    "disaster/disaster-all:\n",
    "Columns: disaster_no, year, subgroup, type, total_deaths, dis_mag_value, dis_mag_scale, start_year, end_year\n",
    "Other interesting columns?\n",
    "\n",
    "\n",
    "### Disaster-Global\n",
    "disaster/disaster-global.csv\n",
    "Columns: year, subgroup, type, total_deaths\n",
    "\n",
    "\n",
    "### Disaster-Region\n",
    "disaster/disaster-region.csv\n",
    "Columns: region_code, region_name, year, subgroup, type, total_deaths\n",
    "Calculate from country data, use UN Dataset to assign region to each country\n",
    "\n",
    "\n",
    "### Disaster-Country\n",
    "disaster/disaster-country.csv\n",
    "Columns: year, country_code, country_name,  subtype, type, total_deaths\n",
    "\n",
    "Prefix: dis\n"
   ],
   "metadata": {
    "collapsed": false,
    "pycharm": {
     "name": "#%% md\n"
    }
   }
  },
  {
   "cell_type": "markdown",
   "source": [
    "## Setup & Imports"
   ],
   "metadata": {
    "collapsed": false,
    "pycharm": {
     "name": "#%% md\n"
    }
   }
  },
  {
   "cell_type": "code",
   "execution_count": 1,
   "outputs": [],
   "source": [
    "import numpy as np\n",
    "import pandas as pd\n",
    "from pathlib import Path\n",
    "\n",
    "filepath_source = Path('data/raw/disaster/emdat_public_2022_12_22_full.xlsx')\n",
    "filepath_all = Path(\"data/processed/disaster/disaster-all.csv\")"
   ],
   "metadata": {
    "collapsed": false,
    "pycharm": {
     "name": "#%%\n"
    }
   }
  },
  {
   "cell_type": "code",
   "execution_count": 2,
   "metadata": {
    "pycharm": {
     "name": "#%%\n"
    }
   },
   "outputs": [
    {
     "name": "stderr",
     "output_type": "stream",
     "text": [
      "C:\\Users\\lukas\\anaconda3\\envs\\dopp-a2\\lib\\site-packages\\openpyxl\\styles\\stylesheet.py:226: UserWarning: Workbook contains no default style, apply openpyxl's default\n",
      "  warn(\"Workbook contains no default style, apply openpyxl's default\")\n"
     ]
    }
   ],
   "source": [
    "dis = pd.read_excel(filepath_source, skiprows = 6)\n",
    "un_country_codes = pd.read_csv(\"data/raw/country-codes/un-country-codes.csv\", sep=\";\")"
   ]
  },
  {
   "cell_type": "markdown",
   "source": [
    "## First Look"
   ],
   "metadata": {
    "collapsed": false,
    "pycharm": {
     "name": "#%% md\n"
    }
   }
  },
  {
   "cell_type": "code",
   "execution_count": 3,
   "metadata": {
    "pycharm": {
     "name": "#%%\n"
    }
   },
   "outputs": [
    {
     "data": {
      "text/plain": "          Dis No  Year   Seq Glide Disaster Group Disaster Subgroup  \\\n0  1900-9002-CPV  1900  9002   NaN        Natural    Climatological   \n1  1900-9001-IND  1900  9001   NaN        Natural    Climatological   \n2  1901-0003-BEL  1901     3   NaN  Technological     Technological   \n3  1902-0012-GTM  1902    12   NaN        Natural       Geophysical   \n4  1902-0003-GTM  1902     3   NaN        Natural       Geophysical   \n\n         Disaster Type Disaster Subtype Disaster Subsubtype   Event Name  ...  \\\n0              Drought          Drought                 NaN          NaN  ...   \n1              Drought          Drought                 NaN          NaN  ...   \n2  Industrial accident        Explosion                 NaN    Coal mine  ...   \n3           Earthquake  Ground movement                 NaN          NaN  ...   \n4    Volcanic activity         Ash fall                 NaN  Santa Maria  ...   \n\n  Reconstruction Costs, Adjusted ('000 US$) Insured Damages ('000 US$)  \\\n0                                       NaN                        NaN   \n1                                       NaN                        NaN   \n2                                       NaN                        NaN   \n3                                       NaN                        NaN   \n4                                       NaN                        NaN   \n\n  Insured Damages, Adjusted ('000 US$) Total Damages ('000 US$)  \\\n0                                  NaN                      NaN   \n1                                  NaN                      NaN   \n2                                  NaN                      NaN   \n3                                  NaN                  25000.0   \n4                                  NaN                      NaN   \n\n  Total Damages, Adjusted ('000 US$)       CPI Adm Level Admin1 Code  \\\n0                                NaN  3.077091       NaN         NaN   \n1                                NaN  3.077091       NaN         NaN   \n2                                NaN  3.077091       NaN         NaN   \n3                           781207.0  3.200175       NaN         NaN   \n4                                NaN  3.200175       NaN         NaN   \n\n  Admin2 Code Geo Locations  \n0         NaN           NaN  \n1         NaN           NaN  \n2         NaN           NaN  \n3         NaN           NaN  \n4         NaN           NaN  \n\n[5 rows x 50 columns]",
      "text/html": "<div>\n<style scoped>\n    .dataframe tbody tr th:only-of-type {\n        vertical-align: middle;\n    }\n\n    .dataframe tbody tr th {\n        vertical-align: top;\n    }\n\n    .dataframe thead th {\n        text-align: right;\n    }\n</style>\n<table border=\"1\" class=\"dataframe\">\n  <thead>\n    <tr style=\"text-align: right;\">\n      <th></th>\n      <th>Dis No</th>\n      <th>Year</th>\n      <th>Seq</th>\n      <th>Glide</th>\n      <th>Disaster Group</th>\n      <th>Disaster Subgroup</th>\n      <th>Disaster Type</th>\n      <th>Disaster Subtype</th>\n      <th>Disaster Subsubtype</th>\n      <th>Event Name</th>\n      <th>...</th>\n      <th>Reconstruction Costs, Adjusted ('000 US$)</th>\n      <th>Insured Damages ('000 US$)</th>\n      <th>Insured Damages, Adjusted ('000 US$)</th>\n      <th>Total Damages ('000 US$)</th>\n      <th>Total Damages, Adjusted ('000 US$)</th>\n      <th>CPI</th>\n      <th>Adm Level</th>\n      <th>Admin1 Code</th>\n      <th>Admin2 Code</th>\n      <th>Geo Locations</th>\n    </tr>\n  </thead>\n  <tbody>\n    <tr>\n      <th>0</th>\n      <td>1900-9002-CPV</td>\n      <td>1900</td>\n      <td>9002</td>\n      <td>NaN</td>\n      <td>Natural</td>\n      <td>Climatological</td>\n      <td>Drought</td>\n      <td>Drought</td>\n      <td>NaN</td>\n      <td>NaN</td>\n      <td>...</td>\n      <td>NaN</td>\n      <td>NaN</td>\n      <td>NaN</td>\n      <td>NaN</td>\n      <td>NaN</td>\n      <td>3.077091</td>\n      <td>NaN</td>\n      <td>NaN</td>\n      <td>NaN</td>\n      <td>NaN</td>\n    </tr>\n    <tr>\n      <th>1</th>\n      <td>1900-9001-IND</td>\n      <td>1900</td>\n      <td>9001</td>\n      <td>NaN</td>\n      <td>Natural</td>\n      <td>Climatological</td>\n      <td>Drought</td>\n      <td>Drought</td>\n      <td>NaN</td>\n      <td>NaN</td>\n      <td>...</td>\n      <td>NaN</td>\n      <td>NaN</td>\n      <td>NaN</td>\n      <td>NaN</td>\n      <td>NaN</td>\n      <td>3.077091</td>\n      <td>NaN</td>\n      <td>NaN</td>\n      <td>NaN</td>\n      <td>NaN</td>\n    </tr>\n    <tr>\n      <th>2</th>\n      <td>1901-0003-BEL</td>\n      <td>1901</td>\n      <td>3</td>\n      <td>NaN</td>\n      <td>Technological</td>\n      <td>Technological</td>\n      <td>Industrial accident</td>\n      <td>Explosion</td>\n      <td>NaN</td>\n      <td>Coal mine</td>\n      <td>...</td>\n      <td>NaN</td>\n      <td>NaN</td>\n      <td>NaN</td>\n      <td>NaN</td>\n      <td>NaN</td>\n      <td>3.077091</td>\n      <td>NaN</td>\n      <td>NaN</td>\n      <td>NaN</td>\n      <td>NaN</td>\n    </tr>\n    <tr>\n      <th>3</th>\n      <td>1902-0012-GTM</td>\n      <td>1902</td>\n      <td>12</td>\n      <td>NaN</td>\n      <td>Natural</td>\n      <td>Geophysical</td>\n      <td>Earthquake</td>\n      <td>Ground movement</td>\n      <td>NaN</td>\n      <td>NaN</td>\n      <td>...</td>\n      <td>NaN</td>\n      <td>NaN</td>\n      <td>NaN</td>\n      <td>25000.0</td>\n      <td>781207.0</td>\n      <td>3.200175</td>\n      <td>NaN</td>\n      <td>NaN</td>\n      <td>NaN</td>\n      <td>NaN</td>\n    </tr>\n    <tr>\n      <th>4</th>\n      <td>1902-0003-GTM</td>\n      <td>1902</td>\n      <td>3</td>\n      <td>NaN</td>\n      <td>Natural</td>\n      <td>Geophysical</td>\n      <td>Volcanic activity</td>\n      <td>Ash fall</td>\n      <td>NaN</td>\n      <td>Santa Maria</td>\n      <td>...</td>\n      <td>NaN</td>\n      <td>NaN</td>\n      <td>NaN</td>\n      <td>NaN</td>\n      <td>NaN</td>\n      <td>3.200175</td>\n      <td>NaN</td>\n      <td>NaN</td>\n      <td>NaN</td>\n      <td>NaN</td>\n    </tr>\n  </tbody>\n</table>\n<p>5 rows × 50 columns</p>\n</div>"
     },
     "execution_count": 3,
     "metadata": {},
     "output_type": "execute_result"
    }
   ],
   "source": [
    "dis.head()"
   ]
  },
  {
   "cell_type": "markdown",
   "source": [
    "## Select & Rename Attributes\n",
    "\n",
    "1. Replace whitespaces with underscores\n",
    "2. Convert every character to lowercase\n",
    "3. Rename specific columns to ensure uniformity"
   ],
   "metadata": {
    "collapsed": false,
    "pycharm": {
     "name": "#%% md\n"
    }
   }
  },
  {
   "cell_type": "code",
   "execution_count": 4,
   "outputs": [],
   "source": [
    "# Remove whitespaces from all col-names and convert them to lower-case\n",
    "dis.columns = [c.replace(' ', '_').lower() for c in dis.columns]\n",
    "dis.rename(columns={'country':'country_name', 'iso':'country_code', 'disaster_subgroup':'subgroup', 'disaster_subtype':'subtype', 'disaster_type':'type', 'total_deaths':'deaths'}, inplace=True)"
   ],
   "metadata": {
    "collapsed": false,
    "pycharm": {
     "name": "#%%\n"
    }
   }
  },
  {
   "cell_type": "code",
   "execution_count": 5,
   "metadata": {
    "pycharm": {
     "name": "#%%\n"
    }
   },
   "outputs": [],
   "source": [
    "# Select the most interesting columns\n",
    "dis_all_col_names = [\"year\", \"dis_no\", \"country_name\", \"country_code\", \"location\", \"subgroup\", \"type\", \"subtype\", \"deaths\", \"dis_mag_value\", \"dis_mag_scale\", \"start_year\", \"end_year\"]\n",
    "dis_all = dis.filter(items=dis_all_col_names)"
   ]
  },
  {
   "cell_type": "markdown",
   "source": [
    "## Which disaster groups are present in the dataset ?"
   ],
   "metadata": {
    "collapsed": false,
    "pycharm": {
     "name": "#%% md\n"
    }
   }
  },
  {
   "cell_type": "code",
   "execution_count": 6,
   "outputs": [
    {
     "data": {
      "text/plain": "array(['Natural', 'Technological', 'Complex Disasters'], dtype=object)"
     },
     "execution_count": 6,
     "metadata": {},
     "output_type": "execute_result"
    }
   ],
   "source": [
    "dis.disaster_group.unique()"
   ],
   "metadata": {
    "collapsed": false,
    "pycharm": {
     "name": "#%%\n"
    }
   }
  },
  {
   "cell_type": "markdown",
   "source": [
    "We only focus on disasters which have a natural causation"
   ],
   "metadata": {
    "collapsed": false,
    "pycharm": {
     "name": "#%% md\n"
    }
   }
  },
  {
   "cell_type": "code",
   "execution_count": 7,
   "outputs": [],
   "source": [
    "dis = dis[dis.disaster_group == \"Natural\"]"
   ],
   "metadata": {
    "collapsed": false,
    "pycharm": {
     "name": "#%%\n"
    }
   }
  },
  {
   "cell_type": "markdown",
   "source": [
    "Which types of natural disasters are there ?"
   ],
   "metadata": {
    "collapsed": false,
    "pycharm": {
     "name": "#%% md\n"
    }
   }
  },
  {
   "cell_type": "code",
   "execution_count": 8,
   "outputs": [
    {
     "data": {
      "text/plain": "             subgroup                   type      deaths\n0          Biological        Animal accident        12.0\n1          Biological               Epidemic   9618804.0\n2          Biological     Insect infestation         0.0\n3      Climatological                Drought  11733889.0\n4      Climatological  Glacial lake outburst       262.0\n5      Climatological               Wildfire      4653.0\n6   Extra-terrestrial                 Impact         0.0\n7         Geophysical             Earthquake   2343912.0\n8         Geophysical    Mass movement (dry)      4644.0\n9         Geophysical      Volcanic activity     86893.0\n10       Hydrological                  Flood   7002992.0\n11       Hydrological              Landslide     67477.0\n12     Meteorological   Extreme temperature     194056.0\n13     Meteorological                    Fog      4000.0\n14     Meteorological                  Storm   1403609.0",
      "text/html": "<div>\n<style scoped>\n    .dataframe tbody tr th:only-of-type {\n        vertical-align: middle;\n    }\n\n    .dataframe tbody tr th {\n        vertical-align: top;\n    }\n\n    .dataframe thead th {\n        text-align: right;\n    }\n</style>\n<table border=\"1\" class=\"dataframe\">\n  <thead>\n    <tr style=\"text-align: right;\">\n      <th></th>\n      <th>subgroup</th>\n      <th>type</th>\n      <th>deaths</th>\n    </tr>\n  </thead>\n  <tbody>\n    <tr>\n      <th>0</th>\n      <td>Biological</td>\n      <td>Animal accident</td>\n      <td>12.0</td>\n    </tr>\n    <tr>\n      <th>1</th>\n      <td>Biological</td>\n      <td>Epidemic</td>\n      <td>9618804.0</td>\n    </tr>\n    <tr>\n      <th>2</th>\n      <td>Biological</td>\n      <td>Insect infestation</td>\n      <td>0.0</td>\n    </tr>\n    <tr>\n      <th>3</th>\n      <td>Climatological</td>\n      <td>Drought</td>\n      <td>11733889.0</td>\n    </tr>\n    <tr>\n      <th>4</th>\n      <td>Climatological</td>\n      <td>Glacial lake outburst</td>\n      <td>262.0</td>\n    </tr>\n    <tr>\n      <th>5</th>\n      <td>Climatological</td>\n      <td>Wildfire</td>\n      <td>4653.0</td>\n    </tr>\n    <tr>\n      <th>6</th>\n      <td>Extra-terrestrial</td>\n      <td>Impact</td>\n      <td>0.0</td>\n    </tr>\n    <tr>\n      <th>7</th>\n      <td>Geophysical</td>\n      <td>Earthquake</td>\n      <td>2343912.0</td>\n    </tr>\n    <tr>\n      <th>8</th>\n      <td>Geophysical</td>\n      <td>Mass movement (dry)</td>\n      <td>4644.0</td>\n    </tr>\n    <tr>\n      <th>9</th>\n      <td>Geophysical</td>\n      <td>Volcanic activity</td>\n      <td>86893.0</td>\n    </tr>\n    <tr>\n      <th>10</th>\n      <td>Hydrological</td>\n      <td>Flood</td>\n      <td>7002992.0</td>\n    </tr>\n    <tr>\n      <th>11</th>\n      <td>Hydrological</td>\n      <td>Landslide</td>\n      <td>67477.0</td>\n    </tr>\n    <tr>\n      <th>12</th>\n      <td>Meteorological</td>\n      <td>Extreme temperature</td>\n      <td>194056.0</td>\n    </tr>\n    <tr>\n      <th>13</th>\n      <td>Meteorological</td>\n      <td>Fog</td>\n      <td>4000.0</td>\n    </tr>\n    <tr>\n      <th>14</th>\n      <td>Meteorological</td>\n      <td>Storm</td>\n      <td>1403609.0</td>\n    </tr>\n  </tbody>\n</table>\n</div>"
     },
     "execution_count": 8,
     "metadata": {},
     "output_type": "execute_result"
    }
   ],
   "source": [
    "dis.groupby([\"subgroup\",\"type\"]).agg({\"deaths\":\"sum\"}).reset_index()"
   ],
   "metadata": {
    "collapsed": false,
    "pycharm": {
     "name": "#%%\n"
    }
   }
  },
  {
   "cell_type": "markdown",
   "source": [
    "The types of disasters are mostly the ones a normal person would expect when thinking about natural disasters. But there are some strange types like insect-infestations or animal-accident which are not that obvious to understand, they also have basically no deaths. Also for our research we want to exclude Epidemics.\n",
    "\n",
    "Therefore also decided to omit disasters of the subgroups `Biological` and `Extra-terrestrial`."
   ],
   "metadata": {
    "collapsed": false,
    "pycharm": {
     "name": "#%% md\n"
    }
   }
  },
  {
   "cell_type": "code",
   "execution_count": 9,
   "outputs": [],
   "source": [
    "dis = dis[(dis[\"subgroup\"] != \"Biological\") & (dis[\"subgroup\"] != \"Extra-terrestrial\")]"
   ],
   "metadata": {
    "collapsed": false,
    "pycharm": {
     "name": "#%%\n"
    }
   }
  },
  {
   "cell_type": "markdown",
   "source": [
    "We only consider the following types of disasters"
   ],
   "metadata": {
    "collapsed": false,
    "pycharm": {
     "name": "#%% md\n"
    }
   }
  },
  {
   "cell_type": "code",
   "execution_count": 10,
   "outputs": [
    {
     "data": {
      "text/plain": "array(['Drought', 'Earthquake', 'Volcanic activity',\n       'Mass movement (dry)', 'Storm', 'Flood', 'Landslide', 'Wildfire',\n       'Extreme temperature ', 'Fog', 'Glacial lake outburst'],\n      dtype=object)"
     },
     "execution_count": 10,
     "metadata": {},
     "output_type": "execute_result"
    }
   ],
   "source": [
    "dis[\"type\"].unique()"
   ],
   "metadata": {
    "collapsed": false,
    "pycharm": {
     "name": "#%%\n"
    }
   }
  },
  {
   "cell_type": "markdown",
   "source": [
    "## Handle Missing Values\n",
    "\n",
    "Fill missing Values for the number of deaths\n",
    "\n",
    "We can assume that missing values for the number of deaths of a particular disaster means that the deathtoll was 0.\n",
    "\n",
    "For the subtype we take a look for which type of natural disasters a subtype is not provided."
   ],
   "metadata": {
    "collapsed": false,
    "pycharm": {
     "name": "#%% md\n"
    }
   }
  },
  {
   "cell_type": "code",
   "execution_count": 11,
   "outputs": [
    {
     "data": {
      "text/plain": "year                 0\ndis_no               0\ncountry_name         0\ncountry_code         0\nlocation          2340\nsubgroup             0\ntype                 0\nsubtype           3279\ndeaths            5316\ndis_mag_value    20722\ndis_mag_scale     8931\nstart_year           0\nend_year             0\ndtype: int64"
     },
     "execution_count": 11,
     "metadata": {},
     "output_type": "execute_result"
    }
   ],
   "source": [
    "dis_all.isna().sum()"
   ],
   "metadata": {
    "collapsed": false,
    "pycharm": {
     "name": "#%%\n"
    }
   }
  },
  {
   "cell_type": "code",
   "execution_count": 12,
   "outputs": [
    {
     "data": {
      "text/plain": "array(['Flood', 'Storm', 'Landslide', 'Wildfire', 'Fog', 'Epidemic',\n       'Complex Disasters', 'Miscellaneous accident',\n       'Insect infestation', 'Mass movement (dry)', 'Impact',\n       'Volcanic activity', 'Animal accident', 'Drought', 'Earthquake',\n       'Glacial lake outburst', 'Industrial accident'], dtype=object)"
     },
     "execution_count": 12,
     "metadata": {},
     "output_type": "execute_result"
    }
   ],
   "source": [
    "dis_all[dis_all[\"subtype\"].isna()][\"type\"].unique()"
   ],
   "metadata": {
    "collapsed": false,
    "pycharm": {
     "name": "#%%\n"
    }
   }
  },
  {
   "cell_type": "markdown",
   "source": [
    "Unfortunately the missing values in the subtype column do not correspond to specific types of disasters.\n",
    "We can not conclude that easily what caused the values to be missing."
   ],
   "metadata": {
    "collapsed": false,
    "pycharm": {
     "name": "#%% md\n"
    }
   }
  },
  {
   "cell_type": "code",
   "execution_count": 13,
   "outputs": [],
   "source": [
    "dis_all[[\"subtype\"]] = dis_all[[\"subtype\"]].fillna(\"Uncategorized\")"
   ],
   "metadata": {
    "collapsed": false,
    "pycharm": {
     "name": "#%%\n"
    }
   }
  },
  {
   "cell_type": "markdown",
   "source": [
    "We assume that disasters with no death toll reported have a death toll of 0.\n",
    "This also aligns with the information we get from emdat (deaths < 10 are missing)"
   ],
   "metadata": {
    "collapsed": false,
    "pycharm": {
     "name": "#%% md\n"
    }
   }
  },
  {
   "cell_type": "code",
   "execution_count": 14,
   "outputs": [],
   "source": [
    "dis_all[['deaths']] = dis_all[['deaths']].fillna(value=0)"
   ],
   "metadata": {
    "collapsed": false,
    "pycharm": {
     "name": "#%%\n"
    }
   }
  },
  {
   "cell_type": "markdown",
   "source": [
    "## Determine Regions"
   ],
   "metadata": {
    "collapsed": false,
    "pycharm": {
     "name": "#%% md\n"
    }
   }
  },
  {
   "cell_type": "markdown",
   "source": [
    "As mentioned in `data integration` we want to compute the region of each disaster, by taking the UN Region that is assigned to each UN Country.\n",
    "Some country codes are not in the list of UN countries, thus we handle them specifically."
   ],
   "metadata": {
    "collapsed": false,
    "pycharm": {
     "name": "#%% md\n"
    }
   }
  },
  {
   "cell_type": "code",
   "execution_count": 15,
   "outputs": [
    {
     "name": "stdout",
     "output_type": "stream",
     "text": [
      "countries in emdat, but not un (12): \n",
      "{'SCG', 'YMD', 'ANT', 'TWN', 'AZO', 'YUG', 'YMN', 'DFR', 'DDR', 'CSK', 'SUN', 'SPI'}\n"
     ]
    }
   ],
   "source": [
    "dis_iso_codes = set(dis_all[\"country_code\"].unique())\n",
    "un_iso_codes = set(un_country_codes[\"ISO-alpha3 Code\"].tolist())\n",
    "emdat_without_un = dis_iso_codes-un_iso_codes\n",
    "print(f\"countries in emdat, but not un ({len(emdat_without_un)}): \\n{emdat_without_un}\")"
   ],
   "metadata": {
    "collapsed": false,
    "pycharm": {
     "name": "#%%\n"
    }
   }
  },
  {
   "cell_type": "markdown",
   "source": [
    "### Automatically assign regions with UN Dataset"
   ],
   "metadata": {
    "collapsed": false,
    "pycharm": {
     "name": "#%% md\n"
    }
   }
  },
  {
   "cell_type": "markdown",
   "source": [
    "For countries that were split in the past, but are now unified, we can just assign the unified country."
   ],
   "metadata": {
    "collapsed": false,
    "pycharm": {
     "name": "#%% md\n"
    }
   }
  },
  {
   "cell_type": "code",
   "execution_count": 16,
   "outputs": [],
   "source": [
    "# Germany\n",
    "dis_all.loc[dis_all['country_code'] == \"DFR\",'country_code'] = \"DEU\"\n",
    "dis_all.loc[dis_all['country_code'] == \"DDR\",'country_code'] = \"DEU\"\n",
    "# Yemen\n",
    "dis_all.loc[dis_all['country_code'] == \"YMD\",'country_code'] = \"YEM\"\n",
    "dis_all.loc[dis_all['country_code'] == \"YMN\",'country_code'] = \"YEM\""
   ],
   "metadata": {
    "collapsed": false,
    "pycharm": {
     "name": "#%%\n"
    }
   }
  },
  {
   "cell_type": "markdown",
   "source": [
    "Next we determine the region by using the un dataset:"
   ],
   "metadata": {
    "collapsed": false,
    "pycharm": {
     "name": "#%% md\n"
    }
   }
  },
  {
   "cell_type": "code",
   "execution_count": 17,
   "outputs": [],
   "source": [
    "dis_all = pd.merge(dis_all, un_country_codes[[\"ISO-alpha3 Code\",\"Region Name\", \"Region Code\"]], left_on='country_code', right_on='ISO-alpha3 Code', how='left')\n",
    "dis_all.rename(columns={\"Region Code\": \"region_code\", \"Region Name\": \"region_name\"}, inplace=True)\n",
    "dis_all.drop(columns=[\"ISO-alpha3 Code\"],inplace=True)"
   ],
   "metadata": {
    "collapsed": false,
    "pycharm": {
     "name": "#%%\n"
    }
   }
  },
  {
   "cell_type": "markdown",
   "source": [
    "### Manually Assign Regions"
   ],
   "metadata": {
    "collapsed": false,
    "pycharm": {
     "name": "#%% md\n"
    }
   }
  },
  {
   "cell_type": "markdown",
   "source": [
    "Some countries clearly belong to one region, so we can assign the disasters manually"
   ],
   "metadata": {
    "collapsed": false,
    "pycharm": {
     "name": "#%% md\n"
    }
   }
  },
  {
   "cell_type": "code",
   "execution_count": 18,
   "outputs": [],
   "source": [
    "# Taiwan\n",
    "dis_all.loc[dis_all['country_code']=='TWN','region_name'] = 'Asia'\n",
    "dis_all.loc[dis_all['country_code']=='TWN','region_code'] = 142\n",
    "# Czechoslovakia\n",
    "dis_all.loc[dis_all['country_code']=='CSK','region_name'] = 'Europe'\n",
    "dis_all.loc[dis_all['country_code']=='CSK','region_code'] = 150\n",
    "# Yugoslavia\n",
    "dis_all.loc[dis_all['country_code']=='YUG','region_name'] = 'Europe'\n",
    "dis_all.loc[dis_all['country_code']=='YUG','region_code'] = 150\n",
    "# Serbia Montenegro\n",
    "dis_all.loc[dis_all['country_code']=='SCG','region_name'] = 'Europe'\n",
    "dis_all.loc[dis_all['country_code']=='SCG','region_code'] = 150\n",
    "# Netherlands Antilles\n",
    "dis_all.loc[dis_all['country_code']=='ANT','region_name'] = 'Americas'\n",
    "dis_all.loc[dis_all['country_code']=='ANT','region_code'] = 19\n",
    "# Azores Islands\n",
    "dis_all.loc[dis_all['country_code']=='AZO','region_name'] = 'Europe'\n",
    "dis_all.loc[dis_all['country_code']=='AZO','region_code'] = 150\n",
    "# Canary Islands\n",
    "dis_all.loc[dis_all['country_code']=='SPI','region_name'] = 'Europe'\n",
    "dis_all.loc[dis_all['country_code']=='SPI','region_code'] = 150"
   ],
   "metadata": {
    "collapsed": false,
    "pycharm": {
     "name": "#%%\n"
    }
   }
  },
  {
   "cell_type": "markdown",
   "source": [
    "### Manually Assign Regions of Disasters Soviet Union"
   ],
   "metadata": {
    "collapsed": false,
    "pycharm": {
     "name": "#%% md\n"
    }
   }
  },
  {
   "cell_type": "markdown",
   "source": [
    "For the Soviet Union disasters can occur in the european and/or asian parts.\n",
    "Thus we also take the \"location\" attribute into account and try to derive if the disaster was in europe or asia."
   ],
   "metadata": {
    "collapsed": false,
    "pycharm": {
     "name": "#%% md\n"
    }
   }
  },
  {
   "cell_type": "code",
   "execution_count": 19,
   "outputs": [],
   "source": [
    "mask_europe = dis_all.loc[dis_all['country_code']=='SUN'][\"location\"].str.contains(\"Russian Federation|Ukraine|Moldavia|Siberia\").fillna(False)\n",
    "mask_asia = dis_all.loc[dis_all['country_code']=='SUN'][\"location\"].str.contains(\"Kazakhstan|Azerbaijan|Uzbekistan|Turkmenistan|Georgia|Armenia|Kyrgystan|Tajikistan|Tajiskistan|Tadzhikistan|Tadjikistan|Caucasus region|Dushanbe\", case=False).fillna(False)"
   ],
   "metadata": {
    "collapsed": false,
    "pycharm": {
     "name": "#%%\n"
    }
   }
  },
  {
   "cell_type": "code",
   "execution_count": 20,
   "outputs": [
    {
     "data": {
      "text/plain": "      year         dis_no  country_name country_code  \\\n1262  1921  1921-9001-SUN  Soviet Union          SUN   \n1275  1923  1923-0001-SUN  Soviet Union          SUN   \n1316  1932  1932-9001-SUN  Soviet Union          SUN   \n\n                                               location           subgroup  \\\n1262  South Ukraine, Volga, Ural (Kazakhstan,Russian...     Climatological   \n1275  Nationwide (Ukraine, Georgia, Russian Federati...         Biological   \n1316  Nationwide (Russian Federation, Ukraine, Kazak...  Complex Disasters   \n\n                   type            subtype     deaths  dis_mag_value  \\\n1262            Drought            Drought  1200000.0            NaN   \n1275           Epidemic  Parasitic disease        0.0            NaN   \n1316  Complex Disasters      Uncategorized  5000000.0            NaN   \n\n     dis_mag_scale  start_year  end_year region_name  region_code  \n1262           Km2        1921      1921         NaN          NaN  \n1275    Vaccinated        1923      1923         NaN          NaN  \n1316           NaN        1932      1932         NaN          NaN  ",
      "text/html": "<div>\n<style scoped>\n    .dataframe tbody tr th:only-of-type {\n        vertical-align: middle;\n    }\n\n    .dataframe tbody tr th {\n        vertical-align: top;\n    }\n\n    .dataframe thead th {\n        text-align: right;\n    }\n</style>\n<table border=\"1\" class=\"dataframe\">\n  <thead>\n    <tr style=\"text-align: right;\">\n      <th></th>\n      <th>year</th>\n      <th>dis_no</th>\n      <th>country_name</th>\n      <th>country_code</th>\n      <th>location</th>\n      <th>subgroup</th>\n      <th>type</th>\n      <th>subtype</th>\n      <th>deaths</th>\n      <th>dis_mag_value</th>\n      <th>dis_mag_scale</th>\n      <th>start_year</th>\n      <th>end_year</th>\n      <th>region_name</th>\n      <th>region_code</th>\n    </tr>\n  </thead>\n  <tbody>\n    <tr>\n      <th>1262</th>\n      <td>1921</td>\n      <td>1921-9001-SUN</td>\n      <td>Soviet Union</td>\n      <td>SUN</td>\n      <td>South Ukraine, Volga, Ural (Kazakhstan,Russian...</td>\n      <td>Climatological</td>\n      <td>Drought</td>\n      <td>Drought</td>\n      <td>1200000.0</td>\n      <td>NaN</td>\n      <td>Km2</td>\n      <td>1921</td>\n      <td>1921</td>\n      <td>NaN</td>\n      <td>NaN</td>\n    </tr>\n    <tr>\n      <th>1275</th>\n      <td>1923</td>\n      <td>1923-0001-SUN</td>\n      <td>Soviet Union</td>\n      <td>SUN</td>\n      <td>Nationwide (Ukraine, Georgia, Russian Federati...</td>\n      <td>Biological</td>\n      <td>Epidemic</td>\n      <td>Parasitic disease</td>\n      <td>0.0</td>\n      <td>NaN</td>\n      <td>Vaccinated</td>\n      <td>1923</td>\n      <td>1923</td>\n      <td>NaN</td>\n      <td>NaN</td>\n    </tr>\n    <tr>\n      <th>1316</th>\n      <td>1932</td>\n      <td>1932-9001-SUN</td>\n      <td>Soviet Union</td>\n      <td>SUN</td>\n      <td>Nationwide (Russian Federation, Ukraine, Kazak...</td>\n      <td>Complex Disasters</td>\n      <td>Complex Disasters</td>\n      <td>Uncategorized</td>\n      <td>5000000.0</td>\n      <td>NaN</td>\n      <td>NaN</td>\n      <td>1932</td>\n      <td>1932</td>\n      <td>NaN</td>\n      <td>NaN</td>\n    </tr>\n  </tbody>\n</table>\n</div>"
     },
     "execution_count": 20,
     "metadata": {},
     "output_type": "execute_result"
    }
   ],
   "source": [
    "dis_all[dis_all['country_code']=='SUN'][mask_europe & mask_asia]"
   ],
   "metadata": {
    "collapsed": false,
    "pycharm": {
     "name": "#%%\n"
    }
   }
  },
  {
   "cell_type": "markdown",
   "source": [
    "Only one Event happened in both the asian as well as the european part of the soviet union.\n",
    "It is also a major event since it is a drought which caused the death of 1.2 million people.\n",
    "\n",
    "Researching the details of this event one can conclude that this observation can only be the Russian famine of 1921–1922.\n",
    "It mostly affected people living in europe, hence we assign this single observation the region europe.\n",
    "(https://en.wikipedia.org/wiki/Russian_famine_of_1921%E2%80%931922)\n",
    "\n",
    "For all other observations, the region should be unambiguous."
   ],
   "metadata": {
    "collapsed": false,
    "pycharm": {
     "name": "#%% md\n"
    }
   }
  },
  {
   "cell_type": "code",
   "execution_count": 21,
   "outputs": [],
   "source": [
    "dis_all.loc[(dis_all['country_code']=='SUN') & mask_europe, \"region_name\"] = \"Europe\"\n",
    "dis_all.loc[(dis_all['country_code']=='SUN') & mask_europe, \"region_code\"] = 150\n",
    "\n",
    "dis_all.loc[(dis_all['country_code']=='SUN') & mask_asia, \"region_name\"] = \"Asia\"\n",
    "dis_all.loc[(dis_all['country_code']=='SUN') & mask_asia, \"region_code\"] = 142\n",
    "\n",
    "dis_all.loc[dis_all['dis_no']=='1921-9001-SUN', \"region_name\"] = \"Europe\"\n",
    "dis_all.loc[dis_all['dis_no']=='1921-9001-SUN', \"region_code\"] = 150"
   ],
   "metadata": {
    "collapsed": false,
    "pycharm": {
     "name": "#%%\n"
    }
   }
  },
  {
   "cell_type": "markdown",
   "source": [
    "The only disasters without a region are now these 3 in the soviet Union. However, since they have no death count we can safely ignore them."
   ],
   "metadata": {
    "collapsed": false,
    "pycharm": {
     "name": "#%% md\n"
    }
   }
  },
  {
   "cell_type": "code",
   "execution_count": 22,
   "outputs": [
    {
     "data": {
      "text/plain": "      year         dis_no  country_name country_code    location  \\\n1250  1917  1917-0002-SUN  Soviet Union          SUN  Nationwide   \n4787  1981  1981-0280-SUN  Soviet Union          SUN        East   \n4788  1981  1981-0301-SUN  Soviet Union          SUN         NaN   \n4822  1982  1982-0346-SUN  Soviet Union          SUN        East   \n\n            subgroup      type        subtype     deaths  dis_mag_value  \\\n1250      Biological  Epidemic  Uncategorized  2500000.0            NaN   \n4787  Meteorological     Storm  Uncategorized        0.0            NaN   \n4788    Hydrological     Flood  Uncategorized        0.0            NaN   \n4822    Hydrological     Flood  Uncategorized        0.0          150.0   \n\n     dis_mag_scale  start_year  end_year region_name  region_code  \n1250    Vaccinated        1917      1917         NaN          NaN  \n4787           Kph        1981      1981         NaN          NaN  \n4788           Km2        1981      1981         NaN          NaN  \n4822           Km2        1982      1982         NaN          NaN  ",
      "text/html": "<div>\n<style scoped>\n    .dataframe tbody tr th:only-of-type {\n        vertical-align: middle;\n    }\n\n    .dataframe tbody tr th {\n        vertical-align: top;\n    }\n\n    .dataframe thead th {\n        text-align: right;\n    }\n</style>\n<table border=\"1\" class=\"dataframe\">\n  <thead>\n    <tr style=\"text-align: right;\">\n      <th></th>\n      <th>year</th>\n      <th>dis_no</th>\n      <th>country_name</th>\n      <th>country_code</th>\n      <th>location</th>\n      <th>subgroup</th>\n      <th>type</th>\n      <th>subtype</th>\n      <th>deaths</th>\n      <th>dis_mag_value</th>\n      <th>dis_mag_scale</th>\n      <th>start_year</th>\n      <th>end_year</th>\n      <th>region_name</th>\n      <th>region_code</th>\n    </tr>\n  </thead>\n  <tbody>\n    <tr>\n      <th>1250</th>\n      <td>1917</td>\n      <td>1917-0002-SUN</td>\n      <td>Soviet Union</td>\n      <td>SUN</td>\n      <td>Nationwide</td>\n      <td>Biological</td>\n      <td>Epidemic</td>\n      <td>Uncategorized</td>\n      <td>2500000.0</td>\n      <td>NaN</td>\n      <td>Vaccinated</td>\n      <td>1917</td>\n      <td>1917</td>\n      <td>NaN</td>\n      <td>NaN</td>\n    </tr>\n    <tr>\n      <th>4787</th>\n      <td>1981</td>\n      <td>1981-0280-SUN</td>\n      <td>Soviet Union</td>\n      <td>SUN</td>\n      <td>East</td>\n      <td>Meteorological</td>\n      <td>Storm</td>\n      <td>Uncategorized</td>\n      <td>0.0</td>\n      <td>NaN</td>\n      <td>Kph</td>\n      <td>1981</td>\n      <td>1981</td>\n      <td>NaN</td>\n      <td>NaN</td>\n    </tr>\n    <tr>\n      <th>4788</th>\n      <td>1981</td>\n      <td>1981-0301-SUN</td>\n      <td>Soviet Union</td>\n      <td>SUN</td>\n      <td>NaN</td>\n      <td>Hydrological</td>\n      <td>Flood</td>\n      <td>Uncategorized</td>\n      <td>0.0</td>\n      <td>NaN</td>\n      <td>Km2</td>\n      <td>1981</td>\n      <td>1981</td>\n      <td>NaN</td>\n      <td>NaN</td>\n    </tr>\n    <tr>\n      <th>4822</th>\n      <td>1982</td>\n      <td>1982-0346-SUN</td>\n      <td>Soviet Union</td>\n      <td>SUN</td>\n      <td>East</td>\n      <td>Hydrological</td>\n      <td>Flood</td>\n      <td>Uncategorized</td>\n      <td>0.0</td>\n      <td>150.0</td>\n      <td>Km2</td>\n      <td>1982</td>\n      <td>1982</td>\n      <td>NaN</td>\n      <td>NaN</td>\n    </tr>\n  </tbody>\n</table>\n</div>"
     },
     "execution_count": 22,
     "metadata": {},
     "output_type": "execute_result"
    }
   ],
   "source": [
    "dis_all[dis_all[\"region_name\"].isna()]"
   ],
   "metadata": {
    "collapsed": false,
    "pycharm": {
     "name": "#%%\n"
    }
   }
  },
  {
   "cell_type": "markdown",
   "source": [
    "## Save File"
   ],
   "metadata": {
    "collapsed": false,
    "pycharm": {
     "name": "#%% md\n"
    }
   }
  },
  {
   "cell_type": "code",
   "execution_count": 23,
   "outputs": [],
   "source": [
    "dis_all.to_csv(filepath_all)"
   ],
   "metadata": {
    "collapsed": false,
    "pycharm": {
     "name": "#%%\n"
    }
   }
  },
  {
   "cell_type": "markdown",
   "source": [],
   "metadata": {
    "collapsed": false,
    "pycharm": {
     "name": "#%% md\n"
    }
   }
  }
 ],
 "metadata": {
  "kernelspec": {
   "display_name": "Python 3 (ipykernel)",
   "language": "python",
   "name": "python3"
  },
  "language_info": {
   "codemirror_mode": {
    "name": "ipython",
    "version": 3
   },
   "file_extension": ".py",
   "mimetype": "text/x-python",
   "name": "python",
   "nbconvert_exporter": "python",
   "pygments_lexer": "ipython3",
   "version": "3.8.9"
  }
 },
 "nbformat": 4,
 "nbformat_minor": 1
}