{
 "cells": [
  {
   "cell_type": "markdown",
   "source": [
    "# Natural Disaster Data"
   ],
   "metadata": {
    "collapsed": false
   }
  },
  {
   "cell_type": "markdown",
   "source": [
    "## Task:\n",
    "\n",
    "The goal is to convert the data into the following formats for later use.\n",
    "Along the way, this notebook does some data-preparation\n",
    "\n",
    "\n",
    "### Disaster-All\n",
    "disaster/disaster-all:\n",
    "Columns: disaster_no, year, subgroup, type, total_deaths, dis_mag_value, dis_mag_scale, start_year, end_year\n",
    "Other interesting columns?\n",
    "\n",
    "\n",
    "### Disaster-Global\n",
    "disaster/disaster-global.csv\n",
    "Columns: year, subgroup, type, total_deaths\n",
    "\n",
    "\n",
    "### Disaster-Region\n",
    "disaster/disaster-region.csv\n",
    "Columns: region_code, region_name, year, subgroup, type, total_deaths\n",
    "Calculate from country data, use UN Dataset to assign region to each country\n",
    "\n",
    "\n",
    "### Disaster-Country\n",
    "disaster/disaster-country.csv\n",
    "Columns: year, country_code, country_name,  subtype, type, total_deaths\n"
   ],
   "metadata": {
    "collapsed": false
   }
  },
  {
   "cell_type": "markdown",
   "source": [
    "## Setup & Imports"
   ],
   "metadata": {
    "collapsed": false
   }
  },
  {
   "cell_type": "code",
   "execution_count": 168,
   "outputs": [],
   "source": [
    "import pandas as pd\n",
    "from pathlib import Path\n",
    "filepath_source = Path('data/raw/disaster/emdat_public_2022_12_22_full.xlsx')\n",
    "filepath_all = Path(\"data/processed/disaster/disaster-all.csv\")\n",
    "filepath_global = Path(\"data/processed/disaster/disaster-global.csv\")\n",
    "filepath_country = Path('data/processed/disaster/disaster-country.csv')\n",
    "filepath_region = Path(\"data/processed/disaster/disaster-region.csv\")"
   ],
   "metadata": {
    "collapsed": false
   }
  },
  {
   "cell_type": "code",
   "execution_count": 169,
   "metadata": {},
   "outputs": [
    {
     "name": "stderr",
     "output_type": "stream",
     "text": [
      "/Users/paulschmitt/miniforge3/envs/dopp-a2/lib/python3.11/site-packages/openpyxl/styles/stylesheet.py:226: UserWarning: Workbook contains no default style, apply openpyxl's default\n",
      "  warn(\"Workbook contains no default style, apply openpyxl's default\")\n"
     ]
    }
   ],
   "source": [
    "disasters = pd.read_excel(filepath_source, skiprows = 6)"
   ]
  },
  {
   "cell_type": "markdown",
   "source": [
    "## First Look"
   ],
   "metadata": {
    "collapsed": false
   }
  },
  {
   "cell_type": "code",
   "execution_count": 170,
   "metadata": {},
   "outputs": [
    {
     "data": {
      "text/plain": "          Dis No  Year   Seq Glide Disaster Group Disaster Subgroup  \\\n0  1900-9002-CPV  1900  9002   NaN        Natural    Climatological   \n1  1900-9001-IND  1900  9001   NaN        Natural    Climatological   \n2  1901-0003-BEL  1901     3   NaN  Technological     Technological   \n3  1902-0012-GTM  1902    12   NaN        Natural       Geophysical   \n4  1902-0003-GTM  1902     3   NaN        Natural       Geophysical   \n\n         Disaster Type Disaster Subtype Disaster Subsubtype   Event Name  ...  \\\n0              Drought          Drought                 NaN          NaN  ...   \n1              Drought          Drought                 NaN          NaN  ...   \n2  Industrial accident        Explosion                 NaN    Coal mine  ...   \n3           Earthquake  Ground movement                 NaN          NaN  ...   \n4    Volcanic activity         Ash fall                 NaN  Santa Maria  ...   \n\n  Reconstruction Costs, Adjusted ('000 US$) Insured Damages ('000 US$)  \\\n0                                       NaN                        NaN   \n1                                       NaN                        NaN   \n2                                       NaN                        NaN   \n3                                       NaN                        NaN   \n4                                       NaN                        NaN   \n\n  Insured Damages, Adjusted ('000 US$) Total Damages ('000 US$)  \\\n0                                  NaN                      NaN   \n1                                  NaN                      NaN   \n2                                  NaN                      NaN   \n3                                  NaN                  25000.0   \n4                                  NaN                      NaN   \n\n  Total Damages, Adjusted ('000 US$)       CPI Adm Level Admin1 Code  \\\n0                                NaN  3.077091       NaN         NaN   \n1                                NaN  3.077091       NaN         NaN   \n2                                NaN  3.077091       NaN         NaN   \n3                           781207.0  3.200175       NaN         NaN   \n4                                NaN  3.200175       NaN         NaN   \n\n  Admin2 Code Geo Locations  \n0         NaN           NaN  \n1         NaN           NaN  \n2         NaN           NaN  \n3         NaN           NaN  \n4         NaN           NaN  \n\n[5 rows x 50 columns]",
      "text/html": "<div>\n<style scoped>\n    .dataframe tbody tr th:only-of-type {\n        vertical-align: middle;\n    }\n\n    .dataframe tbody tr th {\n        vertical-align: top;\n    }\n\n    .dataframe thead th {\n        text-align: right;\n    }\n</style>\n<table border=\"1\" class=\"dataframe\">\n  <thead>\n    <tr style=\"text-align: right;\">\n      <th></th>\n      <th>Dis No</th>\n      <th>Year</th>\n      <th>Seq</th>\n      <th>Glide</th>\n      <th>Disaster Group</th>\n      <th>Disaster Subgroup</th>\n      <th>Disaster Type</th>\n      <th>Disaster Subtype</th>\n      <th>Disaster Subsubtype</th>\n      <th>Event Name</th>\n      <th>...</th>\n      <th>Reconstruction Costs, Adjusted ('000 US$)</th>\n      <th>Insured Damages ('000 US$)</th>\n      <th>Insured Damages, Adjusted ('000 US$)</th>\n      <th>Total Damages ('000 US$)</th>\n      <th>Total Damages, Adjusted ('000 US$)</th>\n      <th>CPI</th>\n      <th>Adm Level</th>\n      <th>Admin1 Code</th>\n      <th>Admin2 Code</th>\n      <th>Geo Locations</th>\n    </tr>\n  </thead>\n  <tbody>\n    <tr>\n      <th>0</th>\n      <td>1900-9002-CPV</td>\n      <td>1900</td>\n      <td>9002</td>\n      <td>NaN</td>\n      <td>Natural</td>\n      <td>Climatological</td>\n      <td>Drought</td>\n      <td>Drought</td>\n      <td>NaN</td>\n      <td>NaN</td>\n      <td>...</td>\n      <td>NaN</td>\n      <td>NaN</td>\n      <td>NaN</td>\n      <td>NaN</td>\n      <td>NaN</td>\n      <td>3.077091</td>\n      <td>NaN</td>\n      <td>NaN</td>\n      <td>NaN</td>\n      <td>NaN</td>\n    </tr>\n    <tr>\n      <th>1</th>\n      <td>1900-9001-IND</td>\n      <td>1900</td>\n      <td>9001</td>\n      <td>NaN</td>\n      <td>Natural</td>\n      <td>Climatological</td>\n      <td>Drought</td>\n      <td>Drought</td>\n      <td>NaN</td>\n      <td>NaN</td>\n      <td>...</td>\n      <td>NaN</td>\n      <td>NaN</td>\n      <td>NaN</td>\n      <td>NaN</td>\n      <td>NaN</td>\n      <td>3.077091</td>\n      <td>NaN</td>\n      <td>NaN</td>\n      <td>NaN</td>\n      <td>NaN</td>\n    </tr>\n    <tr>\n      <th>2</th>\n      <td>1901-0003-BEL</td>\n      <td>1901</td>\n      <td>3</td>\n      <td>NaN</td>\n      <td>Technological</td>\n      <td>Technological</td>\n      <td>Industrial accident</td>\n      <td>Explosion</td>\n      <td>NaN</td>\n      <td>Coal mine</td>\n      <td>...</td>\n      <td>NaN</td>\n      <td>NaN</td>\n      <td>NaN</td>\n      <td>NaN</td>\n      <td>NaN</td>\n      <td>3.077091</td>\n      <td>NaN</td>\n      <td>NaN</td>\n      <td>NaN</td>\n      <td>NaN</td>\n    </tr>\n    <tr>\n      <th>3</th>\n      <td>1902-0012-GTM</td>\n      <td>1902</td>\n      <td>12</td>\n      <td>NaN</td>\n      <td>Natural</td>\n      <td>Geophysical</td>\n      <td>Earthquake</td>\n      <td>Ground movement</td>\n      <td>NaN</td>\n      <td>NaN</td>\n      <td>...</td>\n      <td>NaN</td>\n      <td>NaN</td>\n      <td>NaN</td>\n      <td>25000.0</td>\n      <td>781207.0</td>\n      <td>3.200175</td>\n      <td>NaN</td>\n      <td>NaN</td>\n      <td>NaN</td>\n      <td>NaN</td>\n    </tr>\n    <tr>\n      <th>4</th>\n      <td>1902-0003-GTM</td>\n      <td>1902</td>\n      <td>3</td>\n      <td>NaN</td>\n      <td>Natural</td>\n      <td>Geophysical</td>\n      <td>Volcanic activity</td>\n      <td>Ash fall</td>\n      <td>NaN</td>\n      <td>Santa Maria</td>\n      <td>...</td>\n      <td>NaN</td>\n      <td>NaN</td>\n      <td>NaN</td>\n      <td>NaN</td>\n      <td>NaN</td>\n      <td>3.200175</td>\n      <td>NaN</td>\n      <td>NaN</td>\n      <td>NaN</td>\n      <td>NaN</td>\n    </tr>\n  </tbody>\n</table>\n<p>5 rows × 50 columns</p>\n</div>"
     },
     "execution_count": 170,
     "metadata": {},
     "output_type": "execute_result"
    }
   ],
   "source": [
    "disasters.head()"
   ]
  },
  {
   "cell_type": "markdown",
   "source": [
    "## Reformat Attribute-Names\n",
    "\n",
    "1. Replace whitespaces with underscores\n",
    "2. Convert every character to lowercase\n",
    "3. Rename specific columns to ensure uniformity"
   ],
   "metadata": {
    "collapsed": false
   }
  },
  {
   "cell_type": "code",
   "execution_count": 171,
   "outputs": [],
   "source": [
    "# Remove whitespaces from all col-names and convert them to lower-case\n",
    "disasters.columns = [c.replace(' ', '_').lower() for c in disasters.columns]\n",
    "disasters.rename(columns={'country':'country_name', 'iso':'country_code', 'disaster_subtype':'subtype', 'disaster_type':'type', 'total_deaths':'deaths'}, inplace=True)"
   ],
   "metadata": {
    "collapsed": false
   }
  },
  {
   "cell_type": "markdown",
   "source": [
    "## Filter for all relevant attributes & observations\n",
    "\n",
    "1. We only consider observations of disasters of type natural. (rows)\n",
    "2. We only consider relevant attributes. (columns)"
   ],
   "metadata": {
    "collapsed": false
   }
  },
  {
   "cell_type": "code",
   "execution_count": 172,
   "outputs": [],
   "source": [
    "disasters = disasters[disasters.disaster_group == \"Natural\"]"
   ],
   "metadata": {
    "collapsed": false
   }
  },
  {
   "cell_type": "code",
   "execution_count": 173,
   "outputs": [
    {
     "data": {
      "text/plain": "dis_no                                        object\nyear                                           int64\nseq                                            int64\nglide                                         object\ndisaster_group                                object\ndisaster_subgroup                             object\ntype                                          object\nsubtype                                       object\ndisaster_subsubtype                           object\nevent_name                                    object\ncountry_name                                  object\ncountry_code                                  object\nregion                                        object\ncontinent                                     object\nlocation                                      object\norigin                                        object\nassociated_dis                                object\nassociated_dis2                               object\nofda_response                                 object\nappeal                                        object\ndeclaration                                   object\naid_contribution_('000_us$)                  float64\ndis_mag_value                                float64\ndis_mag_scale                                 object\nlatitude                                      object\nlongitude                                     object\nlocal_time                                    object\nriver_basin                                   object\nstart_year                                     int64\nstart_month                                  float64\nstart_day                                    float64\nend_year                                       int64\nend_month                                    float64\nend_day                                      float64\ndeaths                                       float64\nno_injured                                   float64\nno_affected                                  float64\nno_homeless                                  float64\ntotal_affected                               float64\nreconstruction_costs_('000_us$)              float64\nreconstruction_costs,_adjusted_('000_us$)    float64\ninsured_damages_('000_us$)                   float64\ninsured_damages,_adjusted_('000_us$)         float64\ntotal_damages_('000_us$)                     float64\ntotal_damages,_adjusted_('000_us$)           float64\ncpi                                          float64\nadm_level                                     object\nadmin1_code                                   object\nadmin2_code                                   object\ngeo_locations                                 object\ndtype: object"
     },
     "execution_count": 173,
     "metadata": {},
     "output_type": "execute_result"
    }
   ],
   "source": [
    "disasters.dtypes"
   ],
   "metadata": {
    "collapsed": false
   }
  },
  {
   "cell_type": "code",
   "execution_count": 174,
   "metadata": {},
   "outputs": [],
   "source": [
    "# Disaster-All\n",
    "disaster_all_col_names = [\"year\", \"dis_no\", \"region\", \"continent\", \"country_name\", \"country_code\", \"type\",\n",
    "                           \"subtype\", \"deaths\", \"dis_mag_value\", \"dis_mag_scale\", \"start_year\", \"end_year\"]\n",
    "disasters_all = disasters.filter(items=disaster_all_col_names)"
   ]
  },
  {
   "cell_type": "markdown",
   "source": [
    "## Check which attributes contain how many missing values"
   ],
   "metadata": {
    "collapsed": false
   }
  },
  {
   "cell_type": "code",
   "execution_count": 175,
   "metadata": {},
   "outputs": [
    {
     "name": "stdout",
     "output_type": "stream",
     "text": [
      "year: 0\n",
      "dis_no: 0\n",
      "region: 0\n",
      "continent: 0\n",
      "country_name: 0\n",
      "country_code: 0\n",
      "type: 0\n",
      "subtype: 3269\n",
      "deaths: 4748\n",
      "dis_mag_value: 11458\n",
      "dis_mag_scale: 1211\n",
      "start_year: 0\n",
      "end_year: 0\n",
      "Total: 16488\n"
     ]
    }
   ],
   "source": [
    "for col in disasters_all:\n",
    "    print(col + \": \" + str(disasters_all.loc[:, col].isnull().sum()))\n",
    "print(\"Total: \" + str(len(disasters_all)))"
   ]
  },
  {
   "cell_type": "markdown",
   "source": [
    "## ISO-Codes\n",
    "\n",
    "Compare iso-codes to match the id's of each row with the other datasets"
   ],
   "metadata": {
    "collapsed": false
   }
  },
  {
   "cell_type": "code",
   "execution_count": 176,
   "metadata": {},
   "outputs": [],
   "source": [
    "un_country_codes = pd.read_csv(\"data/raw/country-codes/un-country-codes.csv\", sep=\";\")\n",
    "un_country_codes.columns = [c.replace(' ', '_').replace('-','_') for c in un_country_codes.columns]"
   ]
  },
  {
   "cell_type": "code",
   "execution_count": 177,
   "metadata": {},
   "outputs": [],
   "source": [
    "countries_with_iso = disasters_all.merge(un_country_codes, how=\"left\", left_on='country_name', right_on='Country_or_Area')[[\"country_name\", \"country_code\", \"ISO_alpha3_Code\"]]"
   ]
  },
  {
   "cell_type": "code",
   "execution_count": 178,
   "metadata": {},
   "outputs": [
    {
     "data": {
      "text/plain": "    country_name country_code ISO_alpha3_Code\n0     Cabo Verde          CPV             CPV\n1          India          IND             IND\n2      Guatemala          GTM             GTM\n3      Guatemala          GTM             GTM\n4      Guatemala          GTM             GTM\n5         Canada          CAN             CAN\n6  Comoros (the)          COM             NaN\n7     Bangladesh          BGD             BGD\n8         Canada          CAN             CAN\n9          India          IND             IND",
      "text/html": "<div>\n<style scoped>\n    .dataframe tbody tr th:only-of-type {\n        vertical-align: middle;\n    }\n\n    .dataframe tbody tr th {\n        vertical-align: top;\n    }\n\n    .dataframe thead th {\n        text-align: right;\n    }\n</style>\n<table border=\"1\" class=\"dataframe\">\n  <thead>\n    <tr style=\"text-align: right;\">\n      <th></th>\n      <th>country_name</th>\n      <th>country_code</th>\n      <th>ISO_alpha3_Code</th>\n    </tr>\n  </thead>\n  <tbody>\n    <tr>\n      <th>0</th>\n      <td>Cabo Verde</td>\n      <td>CPV</td>\n      <td>CPV</td>\n    </tr>\n    <tr>\n      <th>1</th>\n      <td>India</td>\n      <td>IND</td>\n      <td>IND</td>\n    </tr>\n    <tr>\n      <th>2</th>\n      <td>Guatemala</td>\n      <td>GTM</td>\n      <td>GTM</td>\n    </tr>\n    <tr>\n      <th>3</th>\n      <td>Guatemala</td>\n      <td>GTM</td>\n      <td>GTM</td>\n    </tr>\n    <tr>\n      <th>4</th>\n      <td>Guatemala</td>\n      <td>GTM</td>\n      <td>GTM</td>\n    </tr>\n    <tr>\n      <th>5</th>\n      <td>Canada</td>\n      <td>CAN</td>\n      <td>CAN</td>\n    </tr>\n    <tr>\n      <th>6</th>\n      <td>Comoros (the)</td>\n      <td>COM</td>\n      <td>NaN</td>\n    </tr>\n    <tr>\n      <th>7</th>\n      <td>Bangladesh</td>\n      <td>BGD</td>\n      <td>BGD</td>\n    </tr>\n    <tr>\n      <th>8</th>\n      <td>Canada</td>\n      <td>CAN</td>\n      <td>CAN</td>\n    </tr>\n    <tr>\n      <th>9</th>\n      <td>India</td>\n      <td>IND</td>\n      <td>IND</td>\n    </tr>\n  </tbody>\n</table>\n</div>"
     },
     "execution_count": 178,
     "metadata": {},
     "output_type": "execute_result"
    }
   ],
   "source": [
    "countries_with_iso.head(10)"
   ]
  },
  {
   "cell_type": "markdown",
   "source": [
    "## Display all countries for which NO matching ISO-Code was found"
   ],
   "metadata": {
    "collapsed": false
   }
  },
  {
   "cell_type": "code",
   "execution_count": 179,
   "metadata": {},
   "outputs": [
    {
     "data": {
      "text/plain": "array(['Comoros (the)', 'Hong Kong', 'Gambia (the)', 'Germany Fed Rep',\n       'Bahamas (the)', 'Dominican Republic (the)', 'Cook Islands (the)',\n       'Azores Islands',\n       'United Kingdom of Great Britain and Northern Ireland (the)',\n       'Netherlands Antilles', 'Congo (the)', 'Czechoslovakia',\n       'United States of America (the)', 'Soviet Union', 'Niger (the)',\n       'Turkey', 'Philippines (the)', 'Taiwan (Province of China)',\n       'Korea (the Republic of)', 'Sudan (the)', 'Netherlands (the)',\n       'Canary Is', 'Tanzania, United Republic of',\n       \"Lao People's Democratic Republic (the)\", 'Yemen Arab Rep',\n       'Yugoslavia', 'Wallis and Futuna',\n       'Congo (the Democratic Republic of the)', 'Yemen P Dem Rep',\n       'Germany Dem Rep', 'Palestine, State of',\n       \"Korea (the Democratic People's Republic of)\",\n       'Turks and Caicos Islands (the)', 'Marshall Islands (the)',\n       'Russian Federation (the)',\n       'Macedonia (the former Yugoslav Republic of)', 'Macao',\n       'Virgin Island (U.S.)', 'Serbia Montenegro',\n       'Moldova (the Republic of)', 'Czech Republic (the)',\n       'Virgin Island (British)', 'Cayman Islands (the)',\n       'Saint Helena, Ascension and Tristan da Cunha',\n       'Northern Mariana Islands (the)', 'United Arab Emirates (the)'],\n      dtype=object)"
     },
     "execution_count": 179,
     "metadata": {},
     "output_type": "execute_result"
    }
   ],
   "source": [
    "mismatches = countries_with_iso[countries_with_iso.ISO_alpha3_Code.isnull()]\n",
    "mismatches.country_name.unique()"
   ]
  },
  {
   "cell_type": "markdown",
   "source": [
    "## Rename remaining Countrynames to a standardized format"
   ],
   "metadata": {
    "collapsed": false
   }
  },
  {
   "cell_type": "code",
   "execution_count": 180,
   "outputs": [],
   "source": [
    "# Replace suffix\n",
    "disasters_all['country_name'] = disasters_all['country_name'].apply(lambda x: x.replace(' (the)', ''))\n",
    "# Reorder compley country-names\n",
    "disasters_all['country_name'] = disasters_all['country_name'].apply(lambda x: x.split(',')[1] + \" \" + x.split(',')[0] if ',' in x else x)\n",
    "# Remove random white-spaces at the start of a name\n",
    "disasters_all['country_name'] = disasters_all['country_name'].apply(lambda x: x[1:] if x.startswith(' ') else x)\n"
   ],
   "metadata": {
    "collapsed": false
   }
  },
  {
   "cell_type": "code",
   "execution_count": 181,
   "metadata": {},
   "outputs": [],
   "source": [
    "new_country_names = {\n",
    "    \"Germany Fed Rep\": \"Germany\",\n",
    "    \"Germany Dem Rep\": \"Germany\",\n",
    "    \"Hong Kong\": \"China\",\n",
    "    \"Macao\": \"China\",\n",
    "    \"Åland\": \"Åland Islands\",\n",
    "    \"Congo (the Democratic Republic of the)\": \"Congo\",\n",
    "    \"Turkey\": \"Türkiye\",\n",
    "    \"Korea (the Republic of)\": \"Republic of Korea\",\n",
    "    \"Macedonia (the former Yugoslav Republic of)\": \"North Macedonia\",\n",
    "    \"Congo (Democratic Republic of the)\": \"Democratic Republic of the Congo\",\n",
    "    \"Yemen P Dem Rep\": \"Yemen\",\n",
    "    \"Yemen Arab Rep\": \"Yemen\",\n",
    "    \"Korea (the Democratic People's Republic of)\": \"Democratic People's Republic of Korea\",\n",
    "    \"Korea (the Republic of)\": \"Republic of Korea\",\n",
    "    \"Serbia Montenegro\" : \"Serbia\",\n",
    "    \"Moldova (the Republic of)\" : \"Republic of Moldova\",\n",
    "    \"Czech Republic\" : \"Czechia\",\n",
    "    \"Taiwan (Province of China)\" : \"Taiwan\"   \n",
    "}"
   ]
  },
  {
   "cell_type": "code",
   "execution_count": 182,
   "metadata": {},
   "outputs": [],
   "source": [
    "disasters_all = disasters_all.replace({\"country_name\": new_country_names}, inplace=False)"
   ]
  },
  {
   "cell_type": "markdown",
   "source": [
    "## Check for countries with missing ISO-Codes"
   ],
   "metadata": {
    "collapsed": false
   }
  },
  {
   "cell_type": "code",
   "execution_count": 183,
   "metadata": {},
   "outputs": [
    {
     "data": {
      "text/plain": "array(['Germany', 'Azores Islands', 'Netherlands Antilles',\n       'Czechoslovakia', 'Soviet Union', 'Taiwan', 'Canary Is', 'Yemen',\n       'Yugoslavia', 'Serbia'], dtype=object)"
     },
     "execution_count": 183,
     "metadata": {},
     "output_type": "execute_result"
    }
   ],
   "source": [
    "countries_with_iso = disasters_all.merge(un_country_codes, how=\"left\", left_on='country_code', right_on='ISO_alpha3_Code')[[\"country_name\", \"country_code\", \"ISO_alpha3_Code\"]]\n",
    "mismatches = countries_with_iso[countries_with_iso.ISO_alpha3_Code.isnull()]\n",
    "mismatches.country_name.unique()"
   ]
  },
  {
   "cell_type": "code",
   "execution_count": 184,
   "metadata": {},
   "outputs": [
    {
     "data": {
      "text/plain": "array(['Germany', 'Azores Islands', 'Netherlands Antilles',\n       'Czechoslovakia', 'Soviet Union', 'Taiwan', 'Canary Is', 'Yemen',\n       'Yugoslavia', 'Serbia'], dtype=object)"
     },
     "execution_count": 184,
     "metadata": {},
     "output_type": "execute_result"
    }
   ],
   "source": [
    "countries_with_iso.head(10)\n",
    "mask = countries_with_iso.notnull().all(axis=1)\n",
    "countries_with_iso[~mask].country_name.unique()"
   ]
  },
  {
   "cell_type": "markdown",
   "source": [
    "## Assign ISO-Codes (we know of) to countries"
   ],
   "metadata": {
    "collapsed": false
   }
  },
  {
   "cell_type": "code",
   "execution_count": 185,
   "metadata": {},
   "outputs": [],
   "source": [
    "disasters_all.loc[disasters_all.country_name == \"Germany\", \"country_code\"] = \"DEU\"\n",
    "disasters_all.loc[disasters_all.country_name == \"Serbia\", \"country_code\"] = \"SRB\"\n",
    "disasters_all.loc[disasters_all.country_name == \"Yemen\", \"country_code\"] = \"YEM\"\n",
    "disasters_all.loc[disasters_all.country_name == \"Taiwan\", \"country_code\"] = \"TWM\"\n",
    "disasters_all.loc[disasters_all.country_name == \"Canary Is\", \"country_code\"] = \"SPI\"\n",
    "disasters_all.loc[disasters_all.country_name == \"Azores Islands\", \"country_code\"] = \"AZO\""
   ]
  },
  {
   "cell_type": "markdown",
   "source": [
    "## Check which countries still do not have an ISO-Code\n",
    "\n",
    "The following countries either do not have an ISO-Code assigned because they do not exist anymore or are not recognized internationally.\n",
    "\n",
    "For small countries like Azore-Islands or the netherlands antilles it is not that tragic, since they probably contribute only marginally to the total number of deaths by natural disasters globally or for a specific region.\n",
    "They are therefore negligible.\n",
    "\n",
    "For internationally unrecognized countries (Taiwan) we can default to a specifically assigned ISO-Code by us.\n",
    "\n",
    "The difficult part is to make sense of the observations belonging to a larger country which has been split up into smaller nations in the last 100 years. (Soviet Union, Czechoslovakia, Yugoslavia)"
   ],
   "metadata": {
    "collapsed": false
   }
  },
  {
   "cell_type": "code",
   "execution_count": 186,
   "metadata": {},
   "outputs": [
    {
     "data": {
      "text/plain": "array(['Azores Islands', 'Netherlands Antilles', 'Czechoslovakia',\n       'Soviet Union', 'Taiwan', 'Canary Is', 'Yugoslavia'], dtype=object)"
     },
     "execution_count": 186,
     "metadata": {},
     "output_type": "execute_result"
    }
   ],
   "source": [
    "countries_with_iso = disasters_all.merge(un_country_codes, how=\"left\", left_on='country_code', right_on='ISO_alpha3_Code')[[\"country_name\", \"country_code\", \"ISO_alpha3_Code\"]]\n",
    "mismatches = countries_with_iso[countries_with_iso.ISO_alpha3_Code.isnull()]\n",
    "mismatches.country_name.unique()"
   ]
  },
  {
   "cell_type": "markdown",
   "source": [
    "## Display all disasters that happened in the Soviet Union"
   ],
   "metadata": {
    "collapsed": false
   }
  },
  {
   "cell_type": "code",
   "execution_count": 187,
   "metadata": {},
   "outputs": [
    {
     "data": {
      "text/plain": "year             64\ndis_no           64\nregion           64\ncontinent        64\ncountry_name     64\ncountry_code     64\ntype             64\nsubtype          47\ndeaths           37\ndis_mag_value    34\ndis_mag_scale    53\nstart_year       64\nend_year         64\ndtype: int64"
     },
     "execution_count": 187,
     "metadata": {},
     "output_type": "execute_result"
    }
   ],
   "source": [
    "disasters_all[disasters_all.country_code == \"SUN\"].count()"
   ]
  },
  {
   "cell_type": "markdown",
   "source": [
    "## Display all disasters that happened in Czechoslovakia"
   ],
   "metadata": {
    "collapsed": false
   }
  },
  {
   "cell_type": "code",
   "execution_count": 188,
   "outputs": [
    {
     "data": {
      "text/plain": "year             9\ndis_no           9\nregion           9\ncontinent        9\ncountry_name     9\ncountry_code     9\ntype             9\nsubtype          7\ndeaths           2\ndis_mag_value    0\ndis_mag_scale    7\nstart_year       9\nend_year         9\ndtype: int64"
     },
     "execution_count": 188,
     "metadata": {},
     "output_type": "execute_result"
    }
   ],
   "source": [
    "disasters_all[disasters_all.country_code == \"CSK\"].count()"
   ],
   "metadata": {
    "collapsed": false
   }
  },
  {
   "cell_type": "markdown",
   "source": [
    "## Display all disasters that happened in Yugoslavia"
   ],
   "metadata": {
    "collapsed": false
   }
  },
  {
   "cell_type": "code",
   "execution_count": 189,
   "outputs": [
    {
     "data": {
      "text/plain": "year             22\ndis_no           22\nregion           22\ncontinent        22\ncountry_name     22\ncountry_code     22\ntype             22\nsubtype          18\ndeaths           12\ndis_mag_value     9\ndis_mag_scale    22\nstart_year       22\nend_year         22\ndtype: int64"
     },
     "execution_count": 189,
     "metadata": {},
     "output_type": "execute_result"
    }
   ],
   "source": [
    "disasters_all[disasters_all.country_code == \"YUG\"].count()"
   ],
   "metadata": {
    "collapsed": false
   }
  },
  {
   "cell_type": "code",
   "execution_count": 190,
   "outputs": [
    {
     "data": {
      "text/plain": "year               int64\ndis_no            object\nregion            object\ncontinent         object\ncountry_name      object\ncountry_code      object\ntype              object\nsubtype           object\ndeaths           float64\ndis_mag_value    float64\ndis_mag_scale     object\nstart_year         int64\nend_year           int64\ndtype: object"
     },
     "execution_count": 190,
     "metadata": {},
     "output_type": "execute_result"
    }
   ],
   "source": [
    "disasters_all.dtypes"
   ],
   "metadata": {
    "collapsed": false
   }
  },
  {
   "cell_type": "markdown",
   "source": [
    "## Save the Disaster-All file"
   ],
   "metadata": {
    "collapsed": false
   }
  },
  {
   "cell_type": "code",
   "execution_count": 191,
   "metadata": {},
   "outputs": [],
   "source": [
    "disasters_all.to_csv(filepath_all)"
   ]
  },
  {
   "cell_type": "markdown",
   "source": [
    "## Create/Save the Disaster-Country file"
   ],
   "metadata": {
    "collapsed": false
   }
  },
  {
   "cell_type": "code",
   "execution_count": 192,
   "metadata": {},
   "outputs": [],
   "source": [
    "disaster_country_col_names = [\"year\", \"country_name\", \"country_code\", \"type\", \"subtype\", \"deaths\"]\n",
    "disasters_country = disasters_all.filter(items=disaster_country_col_names)\n",
    "disasters_country.to_csv(filepath_country)"
   ]
  },
  {
   "cell_type": "code",
   "execution_count": 193,
   "outputs": [
    {
     "data": {
      "text/plain": "    year country_name country_code                 type           subtype  \\\n0   1900   Cabo Verde          CPV              Drought           Drought   \n1   1900        India          IND              Drought           Drought   \n3   1902    Guatemala          GTM           Earthquake   Ground movement   \n4   1902    Guatemala          GTM    Volcanic activity          Ash fall   \n5   1902    Guatemala          GTM    Volcanic activity          Ash fall   \n6   1903       Canada          CAN  Mass movement (dry)          Rockfall   \n7   1903      Comoros          COM    Volcanic activity          Ash fall   \n10  1904   Bangladesh          BGD                Storm  Tropical cyclone   \n12  1905       Canada          CAN  Mass movement (dry)          Rockfall   \n13  1905        India          IND           Earthquake   Ground movement   \n\n       deaths  \n0     11000.0  \n1   1250000.0  \n3      2000.0  \n4      1000.0  \n5      6000.0  \n6        76.0  \n7        17.0  \n10        NaN  \n12       18.0  \n13    20000.0  ",
      "text/html": "<div>\n<style scoped>\n    .dataframe tbody tr th:only-of-type {\n        vertical-align: middle;\n    }\n\n    .dataframe tbody tr th {\n        vertical-align: top;\n    }\n\n    .dataframe thead th {\n        text-align: right;\n    }\n</style>\n<table border=\"1\" class=\"dataframe\">\n  <thead>\n    <tr style=\"text-align: right;\">\n      <th></th>\n      <th>year</th>\n      <th>country_name</th>\n      <th>country_code</th>\n      <th>type</th>\n      <th>subtype</th>\n      <th>deaths</th>\n    </tr>\n  </thead>\n  <tbody>\n    <tr>\n      <th>0</th>\n      <td>1900</td>\n      <td>Cabo Verde</td>\n      <td>CPV</td>\n      <td>Drought</td>\n      <td>Drought</td>\n      <td>11000.0</td>\n    </tr>\n    <tr>\n      <th>1</th>\n      <td>1900</td>\n      <td>India</td>\n      <td>IND</td>\n      <td>Drought</td>\n      <td>Drought</td>\n      <td>1250000.0</td>\n    </tr>\n    <tr>\n      <th>3</th>\n      <td>1902</td>\n      <td>Guatemala</td>\n      <td>GTM</td>\n      <td>Earthquake</td>\n      <td>Ground movement</td>\n      <td>2000.0</td>\n    </tr>\n    <tr>\n      <th>4</th>\n      <td>1902</td>\n      <td>Guatemala</td>\n      <td>GTM</td>\n      <td>Volcanic activity</td>\n      <td>Ash fall</td>\n      <td>1000.0</td>\n    </tr>\n    <tr>\n      <th>5</th>\n      <td>1902</td>\n      <td>Guatemala</td>\n      <td>GTM</td>\n      <td>Volcanic activity</td>\n      <td>Ash fall</td>\n      <td>6000.0</td>\n    </tr>\n    <tr>\n      <th>6</th>\n      <td>1903</td>\n      <td>Canada</td>\n      <td>CAN</td>\n      <td>Mass movement (dry)</td>\n      <td>Rockfall</td>\n      <td>76.0</td>\n    </tr>\n    <tr>\n      <th>7</th>\n      <td>1903</td>\n      <td>Comoros</td>\n      <td>COM</td>\n      <td>Volcanic activity</td>\n      <td>Ash fall</td>\n      <td>17.0</td>\n    </tr>\n    <tr>\n      <th>10</th>\n      <td>1904</td>\n      <td>Bangladesh</td>\n      <td>BGD</td>\n      <td>Storm</td>\n      <td>Tropical cyclone</td>\n      <td>NaN</td>\n    </tr>\n    <tr>\n      <th>12</th>\n      <td>1905</td>\n      <td>Canada</td>\n      <td>CAN</td>\n      <td>Mass movement (dry)</td>\n      <td>Rockfall</td>\n      <td>18.0</td>\n    </tr>\n    <tr>\n      <th>13</th>\n      <td>1905</td>\n      <td>India</td>\n      <td>IND</td>\n      <td>Earthquake</td>\n      <td>Ground movement</td>\n      <td>20000.0</td>\n    </tr>\n  </tbody>\n</table>\n</div>"
     },
     "execution_count": 193,
     "metadata": {},
     "output_type": "execute_result"
    }
   ],
   "source": [
    "disasters_country.head(10)"
   ],
   "metadata": {
    "collapsed": false
   }
  },
  {
   "cell_type": "markdown",
   "source": [
    "## Create/Save the Disaster-Region file"
   ],
   "metadata": {
    "collapsed": false
   }
  },
  {
   "cell_type": "code",
   "execution_count": 194,
   "outputs": [],
   "source": [
    "disaster_region_col_names = [\"year\", \"region_name\", \"region_code\", \"iso\", \"type\", \"subtype\", \"deaths\"]\n",
    "disasters_region = disasters_all.filter(items=disaster_region_col_names)\n",
    "disasters_region.to_csv(filepath_region)"
   ],
   "metadata": {
    "collapsed": false
   }
  },
  {
   "cell_type": "code",
   "execution_count": 195,
   "outputs": [
    {
     "data": {
      "text/plain": "    year                 type           subtype     deaths\n0   1900              Drought           Drought    11000.0\n1   1900              Drought           Drought  1250000.0\n3   1902           Earthquake   Ground movement     2000.0\n4   1902    Volcanic activity          Ash fall     1000.0\n5   1902    Volcanic activity          Ash fall     6000.0\n6   1903  Mass movement (dry)          Rockfall       76.0\n7   1903    Volcanic activity          Ash fall       17.0\n10  1904                Storm  Tropical cyclone        NaN\n12  1905  Mass movement (dry)          Rockfall       18.0\n13  1905           Earthquake   Ground movement    20000.0",
      "text/html": "<div>\n<style scoped>\n    .dataframe tbody tr th:only-of-type {\n        vertical-align: middle;\n    }\n\n    .dataframe tbody tr th {\n        vertical-align: top;\n    }\n\n    .dataframe thead th {\n        text-align: right;\n    }\n</style>\n<table border=\"1\" class=\"dataframe\">\n  <thead>\n    <tr style=\"text-align: right;\">\n      <th></th>\n      <th>year</th>\n      <th>type</th>\n      <th>subtype</th>\n      <th>deaths</th>\n    </tr>\n  </thead>\n  <tbody>\n    <tr>\n      <th>0</th>\n      <td>1900</td>\n      <td>Drought</td>\n      <td>Drought</td>\n      <td>11000.0</td>\n    </tr>\n    <tr>\n      <th>1</th>\n      <td>1900</td>\n      <td>Drought</td>\n      <td>Drought</td>\n      <td>1250000.0</td>\n    </tr>\n    <tr>\n      <th>3</th>\n      <td>1902</td>\n      <td>Earthquake</td>\n      <td>Ground movement</td>\n      <td>2000.0</td>\n    </tr>\n    <tr>\n      <th>4</th>\n      <td>1902</td>\n      <td>Volcanic activity</td>\n      <td>Ash fall</td>\n      <td>1000.0</td>\n    </tr>\n    <tr>\n      <th>5</th>\n      <td>1902</td>\n      <td>Volcanic activity</td>\n      <td>Ash fall</td>\n      <td>6000.0</td>\n    </tr>\n    <tr>\n      <th>6</th>\n      <td>1903</td>\n      <td>Mass movement (dry)</td>\n      <td>Rockfall</td>\n      <td>76.0</td>\n    </tr>\n    <tr>\n      <th>7</th>\n      <td>1903</td>\n      <td>Volcanic activity</td>\n      <td>Ash fall</td>\n      <td>17.0</td>\n    </tr>\n    <tr>\n      <th>10</th>\n      <td>1904</td>\n      <td>Storm</td>\n      <td>Tropical cyclone</td>\n      <td>NaN</td>\n    </tr>\n    <tr>\n      <th>12</th>\n      <td>1905</td>\n      <td>Mass movement (dry)</td>\n      <td>Rockfall</td>\n      <td>18.0</td>\n    </tr>\n    <tr>\n      <th>13</th>\n      <td>1905</td>\n      <td>Earthquake</td>\n      <td>Ground movement</td>\n      <td>20000.0</td>\n    </tr>\n  </tbody>\n</table>\n</div>"
     },
     "execution_count": 195,
     "metadata": {},
     "output_type": "execute_result"
    }
   ],
   "source": [
    "disasters_region.head(10)"
   ],
   "metadata": {
    "collapsed": false
   }
  },
  {
   "cell_type": "markdown",
   "source": [
    "## Create/Save the Disaster-global file"
   ],
   "metadata": {
    "collapsed": false
   }
  },
  {
   "cell_type": "code",
   "execution_count": 196,
   "outputs": [],
   "source": [
    "disasters_global_attributes = [\"year\", \"type\", \"subtype\", \"deaths\"]\n",
    "disasters_global = disasters_all[disasters_global_attributes]\n",
    "disasters_global.to_csv(filepath_global)"
   ],
   "metadata": {
    "collapsed": false
   }
  },
  {
   "cell_type": "code",
   "execution_count": 197,
   "outputs": [
    {
     "data": {
      "text/plain": "    year                 type           subtype     deaths\n0   1900              Drought           Drought    11000.0\n1   1900              Drought           Drought  1250000.0\n3   1902           Earthquake   Ground movement     2000.0\n4   1902    Volcanic activity          Ash fall     1000.0\n5   1902    Volcanic activity          Ash fall     6000.0\n6   1903  Mass movement (dry)          Rockfall       76.0\n7   1903    Volcanic activity          Ash fall       17.0\n10  1904                Storm  Tropical cyclone        NaN\n12  1905  Mass movement (dry)          Rockfall       18.0\n13  1905           Earthquake   Ground movement    20000.0",
      "text/html": "<div>\n<style scoped>\n    .dataframe tbody tr th:only-of-type {\n        vertical-align: middle;\n    }\n\n    .dataframe tbody tr th {\n        vertical-align: top;\n    }\n\n    .dataframe thead th {\n        text-align: right;\n    }\n</style>\n<table border=\"1\" class=\"dataframe\">\n  <thead>\n    <tr style=\"text-align: right;\">\n      <th></th>\n      <th>year</th>\n      <th>type</th>\n      <th>subtype</th>\n      <th>deaths</th>\n    </tr>\n  </thead>\n  <tbody>\n    <tr>\n      <th>0</th>\n      <td>1900</td>\n      <td>Drought</td>\n      <td>Drought</td>\n      <td>11000.0</td>\n    </tr>\n    <tr>\n      <th>1</th>\n      <td>1900</td>\n      <td>Drought</td>\n      <td>Drought</td>\n      <td>1250000.0</td>\n    </tr>\n    <tr>\n      <th>3</th>\n      <td>1902</td>\n      <td>Earthquake</td>\n      <td>Ground movement</td>\n      <td>2000.0</td>\n    </tr>\n    <tr>\n      <th>4</th>\n      <td>1902</td>\n      <td>Volcanic activity</td>\n      <td>Ash fall</td>\n      <td>1000.0</td>\n    </tr>\n    <tr>\n      <th>5</th>\n      <td>1902</td>\n      <td>Volcanic activity</td>\n      <td>Ash fall</td>\n      <td>6000.0</td>\n    </tr>\n    <tr>\n      <th>6</th>\n      <td>1903</td>\n      <td>Mass movement (dry)</td>\n      <td>Rockfall</td>\n      <td>76.0</td>\n    </tr>\n    <tr>\n      <th>7</th>\n      <td>1903</td>\n      <td>Volcanic activity</td>\n      <td>Ash fall</td>\n      <td>17.0</td>\n    </tr>\n    <tr>\n      <th>10</th>\n      <td>1904</td>\n      <td>Storm</td>\n      <td>Tropical cyclone</td>\n      <td>NaN</td>\n    </tr>\n    <tr>\n      <th>12</th>\n      <td>1905</td>\n      <td>Mass movement (dry)</td>\n      <td>Rockfall</td>\n      <td>18.0</td>\n    </tr>\n    <tr>\n      <th>13</th>\n      <td>1905</td>\n      <td>Earthquake</td>\n      <td>Ground movement</td>\n      <td>20000.0</td>\n    </tr>\n  </tbody>\n</table>\n</div>"
     },
     "execution_count": 197,
     "metadata": {},
     "output_type": "execute_result"
    }
   ],
   "source": [
    "disasters_region.head(10)"
   ],
   "metadata": {
    "collapsed": false
   }
  }
 ],
 "metadata": {
  "kernelspec": {
   "display_name": "Python 3 (ipykernel)",
   "language": "python",
   "name": "python3"
  },
  "language_info": {
   "codemirror_mode": {
    "name": "ipython",
    "version": 3
   },
   "file_extension": ".py",
   "mimetype": "text/x-python",
   "name": "python",
   "nbconvert_exporter": "python",
   "pygments_lexer": "ipython3",
   "version": "3.8.9"
  }
 },
 "nbformat": 4,
 "nbformat_minor": 1
}
