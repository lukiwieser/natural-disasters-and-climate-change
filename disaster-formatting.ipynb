{
 "cells": [
  {
   "cell_type": "code",
   "execution_count": 169,
   "metadata": {},
   "outputs": [],
   "source": [
    "import pandas as pd\n",
    "from pathlib import Path\n",
    "filepath_source = Path('data/raw/disaster/emdat_public_2022_12_22_full.xlsx')\n",
    "filepath_global = Path(\"data/processed/disaster/disaster-global.csv\")\n",
    "filepath_country = Path('data/processed/disaster/disaster-country.csv')\n",
    "filepath_region = Path(\"data/processed/disaster/disaster-region.csv\")"
   ]
  },
  {
   "cell_type": "code",
   "execution_count": 170,
   "metadata": {},
   "outputs": [
    {
     "name": "stderr",
     "output_type": "stream",
     "text": [
      "/Users/paulschmitt/PycharmProjects/tuw-python-2022WS/venv/lib/python3.8/site-packages/openpyxl/styles/stylesheet.py:226: UserWarning: Workbook contains no default style, apply openpyxl's default\n",
      "  warn(\"Workbook contains no default style, apply openpyxl's default\")\n"
     ]
    }
   ],
   "source": [
    "disasters_all = pd.read_excel(filepath_source, skiprows = 6)"
   ]
  },
  {
   "cell_type": "code",
   "execution_count": 171,
   "metadata": {},
   "outputs": [
    {
     "data": {
      "text/html": [
       "<div>\n",
       "<style scoped>\n",
       "    .dataframe tbody tr th:only-of-type {\n",
       "        vertical-align: middle;\n",
       "    }\n",
       "\n",
       "    .dataframe tbody tr th {\n",
       "        vertical-align: top;\n",
       "    }\n",
       "\n",
       "    .dataframe thead th {\n",
       "        text-align: right;\n",
       "    }\n",
       "</style>\n",
       "<table border=\"1\" class=\"dataframe\">\n",
       "  <thead>\n",
       "    <tr style=\"text-align: right;\">\n",
       "      <th></th>\n",
       "      <th>Dis No</th>\n",
       "      <th>Year</th>\n",
       "      <th>Seq</th>\n",
       "      <th>Glide</th>\n",
       "      <th>Disaster Group</th>\n",
       "      <th>Disaster Subgroup</th>\n",
       "      <th>Disaster Type</th>\n",
       "      <th>Disaster Subtype</th>\n",
       "      <th>Disaster Subsubtype</th>\n",
       "      <th>Event Name</th>\n",
       "      <th>...</th>\n",
       "      <th>Reconstruction Costs, Adjusted ('000 US$)</th>\n",
       "      <th>Insured Damages ('000 US$)</th>\n",
       "      <th>Insured Damages, Adjusted ('000 US$)</th>\n",
       "      <th>Total Damages ('000 US$)</th>\n",
       "      <th>Total Damages, Adjusted ('000 US$)</th>\n",
       "      <th>CPI</th>\n",
       "      <th>Adm Level</th>\n",
       "      <th>Admin1 Code</th>\n",
       "      <th>Admin2 Code</th>\n",
       "      <th>Geo Locations</th>\n",
       "    </tr>\n",
       "  </thead>\n",
       "  <tbody>\n",
       "    <tr>\n",
       "      <th>0</th>\n",
       "      <td>1900-9002-CPV</td>\n",
       "      <td>1900</td>\n",
       "      <td>9002</td>\n",
       "      <td>NaN</td>\n",
       "      <td>Natural</td>\n",
       "      <td>Climatological</td>\n",
       "      <td>Drought</td>\n",
       "      <td>Drought</td>\n",
       "      <td>NaN</td>\n",
       "      <td>NaN</td>\n",
       "      <td>...</td>\n",
       "      <td>NaN</td>\n",
       "      <td>NaN</td>\n",
       "      <td>NaN</td>\n",
       "      <td>NaN</td>\n",
       "      <td>NaN</td>\n",
       "      <td>3.077091</td>\n",
       "      <td>NaN</td>\n",
       "      <td>NaN</td>\n",
       "      <td>NaN</td>\n",
       "      <td>NaN</td>\n",
       "    </tr>\n",
       "    <tr>\n",
       "      <th>1</th>\n",
       "      <td>1900-9001-IND</td>\n",
       "      <td>1900</td>\n",
       "      <td>9001</td>\n",
       "      <td>NaN</td>\n",
       "      <td>Natural</td>\n",
       "      <td>Climatological</td>\n",
       "      <td>Drought</td>\n",
       "      <td>Drought</td>\n",
       "      <td>NaN</td>\n",
       "      <td>NaN</td>\n",
       "      <td>...</td>\n",
       "      <td>NaN</td>\n",
       "      <td>NaN</td>\n",
       "      <td>NaN</td>\n",
       "      <td>NaN</td>\n",
       "      <td>NaN</td>\n",
       "      <td>3.077091</td>\n",
       "      <td>NaN</td>\n",
       "      <td>NaN</td>\n",
       "      <td>NaN</td>\n",
       "      <td>NaN</td>\n",
       "    </tr>\n",
       "    <tr>\n",
       "      <th>2</th>\n",
       "      <td>1901-0003-BEL</td>\n",
       "      <td>1901</td>\n",
       "      <td>3</td>\n",
       "      <td>NaN</td>\n",
       "      <td>Technological</td>\n",
       "      <td>Technological</td>\n",
       "      <td>Industrial accident</td>\n",
       "      <td>Explosion</td>\n",
       "      <td>NaN</td>\n",
       "      <td>Coal mine</td>\n",
       "      <td>...</td>\n",
       "      <td>NaN</td>\n",
       "      <td>NaN</td>\n",
       "      <td>NaN</td>\n",
       "      <td>NaN</td>\n",
       "      <td>NaN</td>\n",
       "      <td>3.077091</td>\n",
       "      <td>NaN</td>\n",
       "      <td>NaN</td>\n",
       "      <td>NaN</td>\n",
       "      <td>NaN</td>\n",
       "    </tr>\n",
       "    <tr>\n",
       "      <th>3</th>\n",
       "      <td>1902-0012-GTM</td>\n",
       "      <td>1902</td>\n",
       "      <td>12</td>\n",
       "      <td>NaN</td>\n",
       "      <td>Natural</td>\n",
       "      <td>Geophysical</td>\n",
       "      <td>Earthquake</td>\n",
       "      <td>Ground movement</td>\n",
       "      <td>NaN</td>\n",
       "      <td>NaN</td>\n",
       "      <td>...</td>\n",
       "      <td>NaN</td>\n",
       "      <td>NaN</td>\n",
       "      <td>NaN</td>\n",
       "      <td>25000.0</td>\n",
       "      <td>781207.0</td>\n",
       "      <td>3.200175</td>\n",
       "      <td>NaN</td>\n",
       "      <td>NaN</td>\n",
       "      <td>NaN</td>\n",
       "      <td>NaN</td>\n",
       "    </tr>\n",
       "    <tr>\n",
       "      <th>4</th>\n",
       "      <td>1902-0003-GTM</td>\n",
       "      <td>1902</td>\n",
       "      <td>3</td>\n",
       "      <td>NaN</td>\n",
       "      <td>Natural</td>\n",
       "      <td>Geophysical</td>\n",
       "      <td>Volcanic activity</td>\n",
       "      <td>Ash fall</td>\n",
       "      <td>NaN</td>\n",
       "      <td>Santa Maria</td>\n",
       "      <td>...</td>\n",
       "      <td>NaN</td>\n",
       "      <td>NaN</td>\n",
       "      <td>NaN</td>\n",
       "      <td>NaN</td>\n",
       "      <td>NaN</td>\n",
       "      <td>3.200175</td>\n",
       "      <td>NaN</td>\n",
       "      <td>NaN</td>\n",
       "      <td>NaN</td>\n",
       "      <td>NaN</td>\n",
       "    </tr>\n",
       "  </tbody>\n",
       "</table>\n",
       "<p>5 rows × 50 columns</p>\n",
       "</div>"
      ],
      "text/plain": [
       "          Dis No  Year   Seq Glide Disaster Group Disaster Subgroup  \\\n",
       "0  1900-9002-CPV  1900  9002   NaN        Natural    Climatological   \n",
       "1  1900-9001-IND  1900  9001   NaN        Natural    Climatological   \n",
       "2  1901-0003-BEL  1901     3   NaN  Technological     Technological   \n",
       "3  1902-0012-GTM  1902    12   NaN        Natural       Geophysical   \n",
       "4  1902-0003-GTM  1902     3   NaN        Natural       Geophysical   \n",
       "\n",
       "         Disaster Type Disaster Subtype Disaster Subsubtype   Event Name  ...  \\\n",
       "0              Drought          Drought                 NaN          NaN  ...   \n",
       "1              Drought          Drought                 NaN          NaN  ...   \n",
       "2  Industrial accident        Explosion                 NaN    Coal mine  ...   \n",
       "3           Earthquake  Ground movement                 NaN          NaN  ...   \n",
       "4    Volcanic activity         Ash fall                 NaN  Santa Maria  ...   \n",
       "\n",
       "  Reconstruction Costs, Adjusted ('000 US$) Insured Damages ('000 US$)  \\\n",
       "0                                       NaN                        NaN   \n",
       "1                                       NaN                        NaN   \n",
       "2                                       NaN                        NaN   \n",
       "3                                       NaN                        NaN   \n",
       "4                                       NaN                        NaN   \n",
       "\n",
       "  Insured Damages, Adjusted ('000 US$) Total Damages ('000 US$)  \\\n",
       "0                                  NaN                      NaN   \n",
       "1                                  NaN                      NaN   \n",
       "2                                  NaN                      NaN   \n",
       "3                                  NaN                  25000.0   \n",
       "4                                  NaN                      NaN   \n",
       "\n",
       "  Total Damages, Adjusted ('000 US$)       CPI Adm Level Admin1 Code  \\\n",
       "0                                NaN  3.077091       NaN         NaN   \n",
       "1                                NaN  3.077091       NaN         NaN   \n",
       "2                                NaN  3.077091       NaN         NaN   \n",
       "3                           781207.0  3.200175       NaN         NaN   \n",
       "4                                NaN  3.200175       NaN         NaN   \n",
       "\n",
       "  Admin2 Code Geo Locations  \n",
       "0         NaN           NaN  \n",
       "1         NaN           NaN  \n",
       "2         NaN           NaN  \n",
       "3         NaN           NaN  \n",
       "4         NaN           NaN  \n",
       "\n",
       "[5 rows x 50 columns]"
      ]
     },
     "execution_count": 171,
     "metadata": {},
     "output_type": "execute_result"
    }
   ],
   "source": [
    "disasters_all.head()"
   ]
  },
  {
   "cell_type": "code",
   "execution_count": 172,
   "metadata": {
    "scrolled": true
   },
   "outputs": [
    {
     "data": {
      "text/plain": [
       "Index(['dis_no', 'year', 'seq', 'glide', 'disaster_group', 'disaster_subgroup',\n",
       "       'disaster_type', 'disaster_subtype', 'disaster_subsubtype',\n",
       "       'event_name', 'country', 'iso', 'region', 'continent', 'location',\n",
       "       'origin', 'associated_dis', 'associated_dis2', 'ofda_response',\n",
       "       'appeal', 'declaration', 'aid_contribution_('000_us$)', 'dis_mag_value',\n",
       "       'dis_mag_scale', 'latitude', 'longitude', 'local_time', 'river_basin',\n",
       "       'start_year', 'start_month', 'start_day', 'end_year', 'end_month',\n",
       "       'end_day', 'total_deaths', 'no_injured', 'no_affected', 'no_homeless',\n",
       "       'total_affected', 'reconstruction_costs_('000_us$)',\n",
       "       'reconstruction_costs,_adjusted_('000_us$)',\n",
       "       'insured_damages_('000_us$)', 'insured_damages,_adjusted_('000_us$)',\n",
       "       'total_damages_('000_us$)', 'total_damages,_adjusted_('000_us$)', 'cpi',\n",
       "       'adm_level', 'admin1_code', 'admin2_code', 'geo_locations'],\n",
       "      dtype='object')"
      ]
     },
     "execution_count": 172,
     "metadata": {},
     "output_type": "execute_result"
    }
   ],
   "source": [
    "# Remove whitespaces from all col-names and convert them to lower-case\n",
    "disasters_all.columns = [c.replace(' ', '_').lower() for c in disasters_all.columns]\n",
    "disasters_all.columns"
   ]
  },
  {
   "cell_type": "code",
   "execution_count": 173,
   "metadata": {},
   "outputs": [],
   "source": [
    "disasters_all = disasters_all[disasters_all.disaster_group == \"Natural\"]"
   ]
  },
  {
   "cell_type": "code",
   "execution_count": 174,
   "metadata": {},
   "outputs": [],
   "source": [
    "relevant_col_names = [\"year\", \"country\", \"iso\", \"disaster_type\", \"disaster_subtype\", \"total_deaths\"]\n",
    "disasters_all = disasters_all.filter(items=relevant_col_names)\n",
    "disasters_all.rename(columns={'country':'country_name', 'iso':'country_code', 'disaster_subtype':'subtype', 'disaster_type':'type', 'total_deaths':'deaths'}, inplace=True)"
   ]
  },
  {
   "cell_type": "code",
   "execution_count": 175,
   "metadata": {},
   "outputs": [],
   "source": [
    "disasters_global_attributes = [\"year\", \"type\", \"subtype\", \"deaths\"]\n",
    "disasters_global = disasters_all[disasters_global_attributes]\n",
    "disasters_global.to_csv(filepath_global) "
   ]
  },
  {
   "cell_type": "code",
   "execution_count": 176,
   "metadata": {},
   "outputs": [
    {
     "data": {
      "text/html": [
       "<div>\n",
       "<style scoped>\n",
       "    .dataframe tbody tr th:only-of-type {\n",
       "        vertical-align: middle;\n",
       "    }\n",
       "\n",
       "    .dataframe tbody tr th {\n",
       "        vertical-align: top;\n",
       "    }\n",
       "\n",
       "    .dataframe thead th {\n",
       "        text-align: right;\n",
       "    }\n",
       "</style>\n",
       "<table border=\"1\" class=\"dataframe\">\n",
       "  <thead>\n",
       "    <tr style=\"text-align: right;\">\n",
       "      <th></th>\n",
       "      <th>year</th>\n",
       "      <th>country_name</th>\n",
       "      <th>country_code</th>\n",
       "      <th>type</th>\n",
       "      <th>subtype</th>\n",
       "      <th>deaths</th>\n",
       "    </tr>\n",
       "  </thead>\n",
       "  <tbody>\n",
       "    <tr>\n",
       "      <th>0</th>\n",
       "      <td>1900</td>\n",
       "      <td>Cabo Verde</td>\n",
       "      <td>CPV</td>\n",
       "      <td>Drought</td>\n",
       "      <td>Drought</td>\n",
       "      <td>11000.0</td>\n",
       "    </tr>\n",
       "    <tr>\n",
       "      <th>1</th>\n",
       "      <td>1900</td>\n",
       "      <td>India</td>\n",
       "      <td>IND</td>\n",
       "      <td>Drought</td>\n",
       "      <td>Drought</td>\n",
       "      <td>1250000.0</td>\n",
       "    </tr>\n",
       "    <tr>\n",
       "      <th>3</th>\n",
       "      <td>1902</td>\n",
       "      <td>Guatemala</td>\n",
       "      <td>GTM</td>\n",
       "      <td>Earthquake</td>\n",
       "      <td>Ground movement</td>\n",
       "      <td>2000.0</td>\n",
       "    </tr>\n",
       "    <tr>\n",
       "      <th>4</th>\n",
       "      <td>1902</td>\n",
       "      <td>Guatemala</td>\n",
       "      <td>GTM</td>\n",
       "      <td>Volcanic activity</td>\n",
       "      <td>Ash fall</td>\n",
       "      <td>1000.0</td>\n",
       "    </tr>\n",
       "    <tr>\n",
       "      <th>5</th>\n",
       "      <td>1902</td>\n",
       "      <td>Guatemala</td>\n",
       "      <td>GTM</td>\n",
       "      <td>Volcanic activity</td>\n",
       "      <td>Ash fall</td>\n",
       "      <td>6000.0</td>\n",
       "    </tr>\n",
       "    <tr>\n",
       "      <th>6</th>\n",
       "      <td>1903</td>\n",
       "      <td>Canada</td>\n",
       "      <td>CAN</td>\n",
       "      <td>Mass movement (dry)</td>\n",
       "      <td>Rockfall</td>\n",
       "      <td>76.0</td>\n",
       "    </tr>\n",
       "    <tr>\n",
       "      <th>7</th>\n",
       "      <td>1903</td>\n",
       "      <td>Comoros</td>\n",
       "      <td>COM</td>\n",
       "      <td>Volcanic activity</td>\n",
       "      <td>Ash fall</td>\n",
       "      <td>17.0</td>\n",
       "    </tr>\n",
       "    <tr>\n",
       "      <th>10</th>\n",
       "      <td>1904</td>\n",
       "      <td>Bangladesh</td>\n",
       "      <td>BGD</td>\n",
       "      <td>Storm</td>\n",
       "      <td>Tropical cyclone</td>\n",
       "      <td>NaN</td>\n",
       "    </tr>\n",
       "    <tr>\n",
       "      <th>12</th>\n",
       "      <td>1905</td>\n",
       "      <td>Canada</td>\n",
       "      <td>CAN</td>\n",
       "      <td>Mass movement (dry)</td>\n",
       "      <td>Rockfall</td>\n",
       "      <td>18.0</td>\n",
       "    </tr>\n",
       "    <tr>\n",
       "      <th>13</th>\n",
       "      <td>1905</td>\n",
       "      <td>India</td>\n",
       "      <td>IND</td>\n",
       "      <td>Earthquake</td>\n",
       "      <td>Ground movement</td>\n",
       "      <td>20000.0</td>\n",
       "    </tr>\n",
       "    <tr>\n",
       "      <th>14</th>\n",
       "      <td>1906</td>\n",
       "      <td>Chile</td>\n",
       "      <td>CHL</td>\n",
       "      <td>Earthquake</td>\n",
       "      <td>Ground movement</td>\n",
       "      <td>20000.0</td>\n",
       "    </tr>\n",
       "    <tr>\n",
       "      <th>15</th>\n",
       "      <td>1906</td>\n",
       "      <td>Colombia</td>\n",
       "      <td>COL</td>\n",
       "      <td>Earthquake</td>\n",
       "      <td>Ground movement</td>\n",
       "      <td>400.0</td>\n",
       "    </tr>\n",
       "    <tr>\n",
       "      <th>16</th>\n",
       "      <td>1906</td>\n",
       "      <td>Belgium</td>\n",
       "      <td>BEL</td>\n",
       "      <td>Flood</td>\n",
       "      <td>NaN</td>\n",
       "      <td>6.0</td>\n",
       "    </tr>\n",
       "    <tr>\n",
       "      <th>17</th>\n",
       "      <td>1906</td>\n",
       "      <td>Belgium</td>\n",
       "      <td>BEL</td>\n",
       "      <td>Flood</td>\n",
       "      <td>NaN</td>\n",
       "      <td>NaN</td>\n",
       "    </tr>\n",
       "    <tr>\n",
       "      <th>21</th>\n",
       "      <td>1906</td>\n",
       "      <td>China</td>\n",
       "      <td>HKG</td>\n",
       "      <td>Storm</td>\n",
       "      <td>Tropical cyclone</td>\n",
       "      <td>10000.0</td>\n",
       "    </tr>\n",
       "    <tr>\n",
       "      <th>23</th>\n",
       "      <td>1907</td>\n",
       "      <td>China</td>\n",
       "      <td>CHN</td>\n",
       "      <td>Earthquake</td>\n",
       "      <td>Ground movement</td>\n",
       "      <td>12000.0</td>\n",
       "    </tr>\n",
       "    <tr>\n",
       "      <th>24</th>\n",
       "      <td>1907</td>\n",
       "      <td>India</td>\n",
       "      <td>IND</td>\n",
       "      <td>Epidemic</td>\n",
       "      <td>Bacterial disease</td>\n",
       "      <td>1300000.0</td>\n",
       "    </tr>\n",
       "    <tr>\n",
       "      <th>26</th>\n",
       "      <td>1908</td>\n",
       "      <td>Canada</td>\n",
       "      <td>CAN</td>\n",
       "      <td>Mass movement (dry)</td>\n",
       "      <td>Landslide</td>\n",
       "      <td>33.0</td>\n",
       "    </tr>\n",
       "    <tr>\n",
       "      <th>30</th>\n",
       "      <td>1909</td>\n",
       "      <td>Bangladesh</td>\n",
       "      <td>BGD</td>\n",
       "      <td>Storm</td>\n",
       "      <td>Tropical cyclone</td>\n",
       "      <td>172.0</td>\n",
       "    </tr>\n",
       "    <tr>\n",
       "      <th>31</th>\n",
       "      <td>1909</td>\n",
       "      <td>Bangladesh</td>\n",
       "      <td>BGD</td>\n",
       "      <td>Storm</td>\n",
       "      <td>Tropical cyclone</td>\n",
       "      <td>NaN</td>\n",
       "    </tr>\n",
       "  </tbody>\n",
       "</table>\n",
       "</div>"
      ],
      "text/plain": [
       "    year country_name country_code                 type            subtype  \\\n",
       "0   1900   Cabo Verde          CPV              Drought            Drought   \n",
       "1   1900        India          IND              Drought            Drought   \n",
       "3   1902    Guatemala          GTM           Earthquake    Ground movement   \n",
       "4   1902    Guatemala          GTM    Volcanic activity           Ash fall   \n",
       "5   1902    Guatemala          GTM    Volcanic activity           Ash fall   \n",
       "6   1903       Canada          CAN  Mass movement (dry)           Rockfall   \n",
       "7   1903      Comoros          COM    Volcanic activity           Ash fall   \n",
       "10  1904   Bangladesh          BGD                Storm   Tropical cyclone   \n",
       "12  1905       Canada          CAN  Mass movement (dry)           Rockfall   \n",
       "13  1905        India          IND           Earthquake    Ground movement   \n",
       "14  1906        Chile          CHL           Earthquake    Ground movement   \n",
       "15  1906     Colombia          COL           Earthquake    Ground movement   \n",
       "16  1906      Belgium          BEL                Flood                NaN   \n",
       "17  1906      Belgium          BEL                Flood                NaN   \n",
       "21  1906        China          HKG                Storm   Tropical cyclone   \n",
       "23  1907        China          CHN           Earthquake    Ground movement   \n",
       "24  1907        India          IND             Epidemic  Bacterial disease   \n",
       "26  1908       Canada          CAN  Mass movement (dry)          Landslide   \n",
       "30  1909   Bangladesh          BGD                Storm   Tropical cyclone   \n",
       "31  1909   Bangladesh          BGD                Storm   Tropical cyclone   \n",
       "\n",
       "       deaths  \n",
       "0     11000.0  \n",
       "1   1250000.0  \n",
       "3      2000.0  \n",
       "4      1000.0  \n",
       "5      6000.0  \n",
       "6        76.0  \n",
       "7        17.0  \n",
       "10        NaN  \n",
       "12       18.0  \n",
       "13    20000.0  \n",
       "14    20000.0  \n",
       "15      400.0  \n",
       "16        6.0  \n",
       "17        NaN  \n",
       "21    10000.0  \n",
       "23    12000.0  \n",
       "24  1300000.0  \n",
       "26       33.0  \n",
       "30      172.0  \n",
       "31        NaN  "
      ]
     },
     "execution_count": 176,
     "metadata": {},
     "output_type": "execute_result"
    }
   ],
   "source": [
    "df.head(20)"
   ]
  },
  {
   "cell_type": "code",
   "execution_count": 177,
   "metadata": {},
   "outputs": [
    {
     "name": "stdout",
     "output_type": "stream",
     "text": [
      "year: 0\n",
      "country_name: 0\n",
      "country_code: 0\n",
      "type: 0\n",
      "subtype: 3269\n",
      "deaths: 4748\n",
      "Total: 16488\n"
     ]
    }
   ],
   "source": [
    "for col in df:\n",
    "    print(col + \": \" + str(df.loc[:, col].isnull().sum()))\n",
    "print(\"Total: \" + str(len(df)))"
   ]
  },
  {
   "cell_type": "code",
   "execution_count": 178,
   "metadata": {},
   "outputs": [],
   "source": [
    "un_country_codes = pd.read_csv(\"data/raw/country-codes/un-country-codes.csv\", sep=\";\")\n",
    "un_country_codes.columns = [c.replace(' ', '_').replace('-','_') for c in un_country_codes.columns]"
   ]
  },
  {
   "cell_type": "code",
   "execution_count": 179,
   "metadata": {},
   "outputs": [],
   "source": [
    "countries_with_iso = df.merge(un_country_codes, how=\"left\", left_on='country_name', right_on='Country_or_Area')[[\"country_name\", \"country_code\", \"ISO_alpha3_Code\"]]"
   ]
  },
  {
   "cell_type": "code",
   "execution_count": 180,
   "metadata": {},
   "outputs": [
    {
     "data": {
      "text/html": [
       "<div>\n",
       "<style scoped>\n",
       "    .dataframe tbody tr th:only-of-type {\n",
       "        vertical-align: middle;\n",
       "    }\n",
       "\n",
       "    .dataframe tbody tr th {\n",
       "        vertical-align: top;\n",
       "    }\n",
       "\n",
       "    .dataframe thead th {\n",
       "        text-align: right;\n",
       "    }\n",
       "</style>\n",
       "<table border=\"1\" class=\"dataframe\">\n",
       "  <thead>\n",
       "    <tr style=\"text-align: right;\">\n",
       "      <th></th>\n",
       "      <th>country_name</th>\n",
       "      <th>country_code</th>\n",
       "      <th>ISO_alpha3_Code</th>\n",
       "    </tr>\n",
       "  </thead>\n",
       "  <tbody>\n",
       "    <tr>\n",
       "      <th>0</th>\n",
       "      <td>Cabo Verde</td>\n",
       "      <td>CPV</td>\n",
       "      <td>CPV</td>\n",
       "    </tr>\n",
       "    <tr>\n",
       "      <th>1</th>\n",
       "      <td>India</td>\n",
       "      <td>IND</td>\n",
       "      <td>IND</td>\n",
       "    </tr>\n",
       "    <tr>\n",
       "      <th>2</th>\n",
       "      <td>Guatemala</td>\n",
       "      <td>GTM</td>\n",
       "      <td>GTM</td>\n",
       "    </tr>\n",
       "    <tr>\n",
       "      <th>3</th>\n",
       "      <td>Guatemala</td>\n",
       "      <td>GTM</td>\n",
       "      <td>GTM</td>\n",
       "    </tr>\n",
       "    <tr>\n",
       "      <th>4</th>\n",
       "      <td>Guatemala</td>\n",
       "      <td>GTM</td>\n",
       "      <td>GTM</td>\n",
       "    </tr>\n",
       "  </tbody>\n",
       "</table>\n",
       "</div>"
      ],
      "text/plain": [
       "  country_name country_code ISO_alpha3_Code\n",
       "0   Cabo Verde          CPV             CPV\n",
       "1        India          IND             IND\n",
       "2    Guatemala          GTM             GTM\n",
       "3    Guatemala          GTM             GTM\n",
       "4    Guatemala          GTM             GTM"
      ]
     },
     "execution_count": 180,
     "metadata": {},
     "output_type": "execute_result"
    }
   ],
   "source": [
    "countries_with_iso.head()"
   ]
  },
  {
   "cell_type": "code",
   "execution_count": 181,
   "metadata": {},
   "outputs": [],
   "source": [
    "mismatches = countries_with_iso[countries_with_iso.ISO_alpha3_Code.isnull()]"
   ]
  },
  {
   "cell_type": "code",
   "execution_count": 182,
   "metadata": {},
   "outputs": [
    {
     "data": {
      "text/plain": [
       "array(['Azores Islands', 'Netherlands Antilles', 'Czechoslovakia',\n",
       "       'Soviet Union', 'Taiwan', 'Canary Is', 'Yugoslavia',\n",
       "       'Wallis and Futuna', 'Virgin Island (U.S.)',\n",
       "       'Virgin Island (British)',\n",
       "       'Ascension and Tristan da Cunha Saint Helena'], dtype=object)"
      ]
     },
     "execution_count": 182,
     "metadata": {},
     "output_type": "execute_result"
    }
   ],
   "source": [
    "mismatches.country_name.unique()"
   ]
  },
  {
   "cell_type": "code",
   "execution_count": 183,
   "metadata": {},
   "outputs": [],
   "source": [
    "# Replace suffix\n",
    "df['country_name'] = df['country_name'].apply(lambda x: x.replace(' (the)', ''))\n",
    "# Reorder compley country-names\n",
    "df['country_name'] = df['country_name'].apply(lambda x: x.split(',')[1] + \" \" + x.split(',')[0] if ',' in x else x)\n",
    "# Remove random white-spaces at the start of a name\n",
    "df['country_name'] = df['country_name'].apply(lambda x: x[1:] if x.startswith(' ') else x)\n"
   ]
  },
  {
   "cell_type": "code",
   "execution_count": 184,
   "metadata": {},
   "outputs": [],
   "source": [
    "new_country_names = {\n",
    "    \"Germany Fed Rep\": \"Germany\",\n",
    "    \"Germany Dem Rep\": \"Germany\",\n",
    "    \"Hong Kong\": \"China\",\n",
    "    \"Macao\": \"China\",\n",
    "    \"Åland\": \"Åland Islands\",\n",
    "    \"Congo (the Democratic Republic of the)\": \"Congo\",\n",
    "    \"Turkey\": \"Türkiye\",\n",
    "    \"Korea (the Republic of)\": \"Republic of Korea\",\n",
    "    \"Macedonia (the former Yugoslav Republic of)\": \"North Macedonia\",\n",
    "    \"Congo (Democratic Republic of the)\": \"Democratic Republic of the Congo\",\n",
    "    \"Yemen P Dem Rep\": \"Yemen\",\n",
    "    \"Yemen Arab Rep\": \"Yemen\",\n",
    "    \"Korea (the Democratic People's Republic of)\": \"Democratic People's Republic of Korea\",\n",
    "    \"Korea (the Republic of)\": \"Republic of Korea\",\n",
    "    \"Serbia Montenegro\" : \"Serbia\",\n",
    "    \"Moldova (the Republic of)\" : \"Republic of Moldova\",\n",
    "    \"Czech Republic\" : \"Czechia\",\n",
    "    \"Taiwan (Province of China)\" : \"Taiwan\"   \n",
    "}"
   ]
  },
  {
   "cell_type": "code",
   "execution_count": 185,
   "metadata": {},
   "outputs": [],
   "source": [
    "df = df.replace({\"country_name\": new_country_names}, inplace=False)"
   ]
  },
  {
   "cell_type": "code",
   "execution_count": 187,
   "metadata": {},
   "outputs": [
    {
     "data": {
      "text/plain": [
       "array(['Azores Islands', 'Netherlands Antilles', 'Czechoslovakia',\n",
       "       'Soviet Union', 'Taiwan', 'Canary Is', 'Yugoslavia'], dtype=object)"
      ]
     },
     "execution_count": 187,
     "metadata": {},
     "output_type": "execute_result"
    }
   ],
   "source": [
    "countries_with_iso = df.merge(un_country_codes, how=\"left\", left_on='country_code', right_on='ISO_alpha3_Code')[[\"country_name\", \"country_code\", \"ISO_alpha3_Code\"]]\n",
    "mismatches = countries_with_iso[countries_with_iso.ISO_alpha3_Code.isnull()]\n",
    "mismatches.country_name.unique()"
   ]
  },
  {
   "cell_type": "code",
   "execution_count": 188,
   "metadata": {},
   "outputs": [
    {
     "data": {
      "text/plain": [
       "array(['Azores Islands', 'Netherlands Antilles', 'Czechoslovakia',\n",
       "       'Soviet Union', 'Taiwan', 'Canary Is', 'Yugoslavia'], dtype=object)"
      ]
     },
     "execution_count": 188,
     "metadata": {},
     "output_type": "execute_result"
    }
   ],
   "source": [
    "countries_with_iso.head(10)\n",
    "mask = countries_with_iso.notnull().all(axis=1)\n",
    "countries_with_iso[~mask].country_name.unique()"
   ]
  },
  {
   "cell_type": "code",
   "execution_count": 189,
   "metadata": {},
   "outputs": [],
   "source": [
    "df.loc[df.country_name == \"Germany\", \"country_code\"] = \"DEU\"\n",
    "df.loc[df.country_name == \"Serbia\", \"country_code\"] = \"SRB\"\n",
    "df.loc[df.country_name == \"Yemen\", \"country_code\"] = \"YEM\"\n",
    "df.loc[df.country_name == \"Taiwan\", \"country_code\"] = \"TWM\"\n",
    "df.loc[df.country_name == \"Canary Is\", \"country_code\"] = \"SPI\"\n",
    "df.loc[df.country_name == \"Azores Islands\", \"country_code\"] = \"AZO\""
   ]
  },
  {
   "cell_type": "code",
   "execution_count": 190,
   "metadata": {},
   "outputs": [
    {
     "data": {
      "text/plain": [
       "array(['Azores Islands', 'Netherlands Antilles', 'Czechoslovakia',\n",
       "       'Soviet Union', 'Taiwan', 'Canary Is', 'Yugoslavia'], dtype=object)"
      ]
     },
     "execution_count": 190,
     "metadata": {},
     "output_type": "execute_result"
    }
   ],
   "source": [
    "countries_with_iso = df.merge(un_country_codes, how=\"left\", left_on='country_code', right_on='ISO_alpha3_Code')[[\"country_name\", \"country_code\", \"ISO_alpha3_Code\"]]\n",
    "mismatches = countries_with_iso[countries_with_iso.ISO_alpha3_Code.isnull()]\n",
    "mismatches.country_name.unique()"
   ]
  },
  {
   "cell_type": "code",
   "execution_count": 198,
   "metadata": {},
   "outputs": [
    {
     "data": {
      "text/plain": [
       "year            22\n",
       "country_name    22\n",
       "country_code    22\n",
       "type            22\n",
       "subtype         18\n",
       "deaths          12\n",
       "dtype: int64"
      ]
     },
     "execution_count": 198,
     "metadata": {},
     "output_type": "execute_result"
    }
   ],
   "source": [
    "#df[df.subtype.isnull()].head(20)\n",
    "df[df.country_name == \"Yugoslavia\"].count()"
   ]
  },
  {
   "cell_type": "code",
   "execution_count": 168,
   "metadata": {},
   "outputs": [],
   "source": [
    "df.to_csv(filepath_country) "
   ]
  },
  {
   "cell_type": "code",
   "execution_count": null,
   "metadata": {},
   "outputs": [],
   "source": []
  },
  {
   "cell_type": "code",
   "execution_count": null,
   "metadata": {},
   "outputs": [],
   "source": []
  }
 ],
 "metadata": {
  "kernelspec": {
   "display_name": "Python 3 (ipykernel)",
   "language": "python",
   "name": "python3"
  },
  "language_info": {
   "codemirror_mode": {
    "name": "ipython",
    "version": 3
   },
   "file_extension": ".py",
   "mimetype": "text/x-python",
   "name": "python",
   "nbconvert_exporter": "python",
   "pygments_lexer": "ipython3",
   "version": "3.8.9"
  }
 },
 "nbformat": 4,
 "nbformat_minor": 1
}