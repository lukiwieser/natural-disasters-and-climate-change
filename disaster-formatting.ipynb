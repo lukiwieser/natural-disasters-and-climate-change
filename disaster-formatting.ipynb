{
 "cells": [
  {
   "cell_type": "markdown",
   "source": [
    "# Natural Disaster Data"
   ],
   "metadata": {
    "collapsed": false
   }
  },
  {
   "cell_type": "markdown",
   "source": [
    "## Task:\n",
    "\n",
    "The goal is to convert the data into the following formats for later use.\n",
    "Along the way, this notebook does some data-preparation\n",
    "\n",
    "\n",
    "### Disaster-All\n",
    "disaster/disaster-all:\n",
    "Columns: disaster_no, year, subgroup, type, total_deaths, dis_mag_value, dis_mag_scale, start_year, end_year\n",
    "Other interesting columns?\n",
    "\n",
    "\n",
    "### Disaster-Global\n",
    "disaster/disaster-global.csv\n",
    "Columns: year, subgroup, type, total_deaths\n",
    "\n",
    "\n",
    "### Disaster-Region\n",
    "disaster/disaster-region.csv\n",
    "Columns: region_code, region_name, year, subgroup, type, total_deaths\n",
    "Calculate from country data, use UN Dataset to assign region to each country\n",
    "\n",
    "\n",
    "### Disaster-Country\n",
    "disaster/disaster-country.csv\n",
    "Columns: year, country_code, country_name,  subtype, type, total_deaths\n",
    "\n",
    "Prefix: dis\n"
   ],
   "metadata": {
    "collapsed": false
   }
  },
  {
   "cell_type": "markdown",
   "source": [
    "## Setup & Imports"
   ],
   "metadata": {
    "collapsed": false
   }
  },
  {
   "cell_type": "code",
   "execution_count": 706,
   "outputs": [],
   "source": [
    "import numpy as np\n",
    "import pandas as pd\n",
    "from pathlib import Path\n",
    "filepath_source = Path('data/raw/disaster/emdat_public_2022_12_22_full.xlsx')\n",
    "filepath_all = Path(\"data/processed/disaster/disaster-all.csv\")\n",
    "filepath_global = Path(\"data/processed/disaster/disaster-global.csv\")\n",
    "filepath_country = Path('data/processed/disaster/disaster-country.csv')\n",
    "filepath_region = Path(\"data/processed/disaster/disaster-region.csv\")"
   ],
   "metadata": {
    "collapsed": false
   }
  },
  {
   "cell_type": "code",
   "execution_count": 707,
   "metadata": {},
   "outputs": [
    {
     "name": "stderr",
     "output_type": "stream",
     "text": [
      "/Users/paulschmitt/miniforge3/envs/dopp-a2/lib/python3.11/site-packages/openpyxl/styles/stylesheet.py:226: UserWarning: Workbook contains no default style, apply openpyxl's default\n",
      "  warn(\"Workbook contains no default style, apply openpyxl's default\")\n"
     ]
    }
   ],
   "source": [
    "dis = pd.read_excel(filepath_source, skiprows = 6)"
   ]
  },
  {
   "cell_type": "markdown",
   "source": [
    "## First Look"
   ],
   "metadata": {
    "collapsed": false
   }
  },
  {
   "cell_type": "code",
   "execution_count": 708,
   "metadata": {},
   "outputs": [
    {
     "data": {
      "text/plain": "          Dis No  Year   Seq Glide Disaster Group Disaster Subgroup  \\\n0  1900-9002-CPV  1900  9002   NaN        Natural    Climatological   \n1  1900-9001-IND  1900  9001   NaN        Natural    Climatological   \n2  1901-0003-BEL  1901     3   NaN  Technological     Technological   \n3  1902-0012-GTM  1902    12   NaN        Natural       Geophysical   \n4  1902-0003-GTM  1902     3   NaN        Natural       Geophysical   \n\n         Disaster Type Disaster Subtype Disaster Subsubtype   Event Name  ...  \\\n0              Drought          Drought                 NaN          NaN  ...   \n1              Drought          Drought                 NaN          NaN  ...   \n2  Industrial accident        Explosion                 NaN    Coal mine  ...   \n3           Earthquake  Ground movement                 NaN          NaN  ...   \n4    Volcanic activity         Ash fall                 NaN  Santa Maria  ...   \n\n  Reconstruction Costs, Adjusted ('000 US$) Insured Damages ('000 US$)  \\\n0                                       NaN                        NaN   \n1                                       NaN                        NaN   \n2                                       NaN                        NaN   \n3                                       NaN                        NaN   \n4                                       NaN                        NaN   \n\n  Insured Damages, Adjusted ('000 US$) Total Damages ('000 US$)  \\\n0                                  NaN                      NaN   \n1                                  NaN                      NaN   \n2                                  NaN                      NaN   \n3                                  NaN                  25000.0   \n4                                  NaN                      NaN   \n\n  Total Damages, Adjusted ('000 US$)       CPI Adm Level Admin1 Code  \\\n0                                NaN  3.077091       NaN         NaN   \n1                                NaN  3.077091       NaN         NaN   \n2                                NaN  3.077091       NaN         NaN   \n3                           781207.0  3.200175       NaN         NaN   \n4                                NaN  3.200175       NaN         NaN   \n\n  Admin2 Code Geo Locations  \n0         NaN           NaN  \n1         NaN           NaN  \n2         NaN           NaN  \n3         NaN           NaN  \n4         NaN           NaN  \n\n[5 rows x 50 columns]",
      "text/html": "<div>\n<style scoped>\n    .dataframe tbody tr th:only-of-type {\n        vertical-align: middle;\n    }\n\n    .dataframe tbody tr th {\n        vertical-align: top;\n    }\n\n    .dataframe thead th {\n        text-align: right;\n    }\n</style>\n<table border=\"1\" class=\"dataframe\">\n  <thead>\n    <tr style=\"text-align: right;\">\n      <th></th>\n      <th>Dis No</th>\n      <th>Year</th>\n      <th>Seq</th>\n      <th>Glide</th>\n      <th>Disaster Group</th>\n      <th>Disaster Subgroup</th>\n      <th>Disaster Type</th>\n      <th>Disaster Subtype</th>\n      <th>Disaster Subsubtype</th>\n      <th>Event Name</th>\n      <th>...</th>\n      <th>Reconstruction Costs, Adjusted ('000 US$)</th>\n      <th>Insured Damages ('000 US$)</th>\n      <th>Insured Damages, Adjusted ('000 US$)</th>\n      <th>Total Damages ('000 US$)</th>\n      <th>Total Damages, Adjusted ('000 US$)</th>\n      <th>CPI</th>\n      <th>Adm Level</th>\n      <th>Admin1 Code</th>\n      <th>Admin2 Code</th>\n      <th>Geo Locations</th>\n    </tr>\n  </thead>\n  <tbody>\n    <tr>\n      <th>0</th>\n      <td>1900-9002-CPV</td>\n      <td>1900</td>\n      <td>9002</td>\n      <td>NaN</td>\n      <td>Natural</td>\n      <td>Climatological</td>\n      <td>Drought</td>\n      <td>Drought</td>\n      <td>NaN</td>\n      <td>NaN</td>\n      <td>...</td>\n      <td>NaN</td>\n      <td>NaN</td>\n      <td>NaN</td>\n      <td>NaN</td>\n      <td>NaN</td>\n      <td>3.077091</td>\n      <td>NaN</td>\n      <td>NaN</td>\n      <td>NaN</td>\n      <td>NaN</td>\n    </tr>\n    <tr>\n      <th>1</th>\n      <td>1900-9001-IND</td>\n      <td>1900</td>\n      <td>9001</td>\n      <td>NaN</td>\n      <td>Natural</td>\n      <td>Climatological</td>\n      <td>Drought</td>\n      <td>Drought</td>\n      <td>NaN</td>\n      <td>NaN</td>\n      <td>...</td>\n      <td>NaN</td>\n      <td>NaN</td>\n      <td>NaN</td>\n      <td>NaN</td>\n      <td>NaN</td>\n      <td>3.077091</td>\n      <td>NaN</td>\n      <td>NaN</td>\n      <td>NaN</td>\n      <td>NaN</td>\n    </tr>\n    <tr>\n      <th>2</th>\n      <td>1901-0003-BEL</td>\n      <td>1901</td>\n      <td>3</td>\n      <td>NaN</td>\n      <td>Technological</td>\n      <td>Technological</td>\n      <td>Industrial accident</td>\n      <td>Explosion</td>\n      <td>NaN</td>\n      <td>Coal mine</td>\n      <td>...</td>\n      <td>NaN</td>\n      <td>NaN</td>\n      <td>NaN</td>\n      <td>NaN</td>\n      <td>NaN</td>\n      <td>3.077091</td>\n      <td>NaN</td>\n      <td>NaN</td>\n      <td>NaN</td>\n      <td>NaN</td>\n    </tr>\n    <tr>\n      <th>3</th>\n      <td>1902-0012-GTM</td>\n      <td>1902</td>\n      <td>12</td>\n      <td>NaN</td>\n      <td>Natural</td>\n      <td>Geophysical</td>\n      <td>Earthquake</td>\n      <td>Ground movement</td>\n      <td>NaN</td>\n      <td>NaN</td>\n      <td>...</td>\n      <td>NaN</td>\n      <td>NaN</td>\n      <td>NaN</td>\n      <td>25000.0</td>\n      <td>781207.0</td>\n      <td>3.200175</td>\n      <td>NaN</td>\n      <td>NaN</td>\n      <td>NaN</td>\n      <td>NaN</td>\n    </tr>\n    <tr>\n      <th>4</th>\n      <td>1902-0003-GTM</td>\n      <td>1902</td>\n      <td>3</td>\n      <td>NaN</td>\n      <td>Natural</td>\n      <td>Geophysical</td>\n      <td>Volcanic activity</td>\n      <td>Ash fall</td>\n      <td>NaN</td>\n      <td>Santa Maria</td>\n      <td>...</td>\n      <td>NaN</td>\n      <td>NaN</td>\n      <td>NaN</td>\n      <td>NaN</td>\n      <td>NaN</td>\n      <td>3.200175</td>\n      <td>NaN</td>\n      <td>NaN</td>\n      <td>NaN</td>\n      <td>NaN</td>\n    </tr>\n  </tbody>\n</table>\n<p>5 rows × 50 columns</p>\n</div>"
     },
     "execution_count": 708,
     "metadata": {},
     "output_type": "execute_result"
    }
   ],
   "source": [
    "dis.head()"
   ]
  },
  {
   "cell_type": "markdown",
   "source": [
    "## Reformat Attribute-Names\n",
    "\n",
    "1. Replace whitespaces with underscores\n",
    "2. Convert every character to lowercase\n",
    "3. Rename specific columns to ensure uniformity"
   ],
   "metadata": {
    "collapsed": false
   }
  },
  {
   "cell_type": "code",
   "execution_count": 709,
   "outputs": [],
   "source": [
    "# Remove whitespaces from all col-names and convert them to lower-case\n",
    "dis.columns = [c.replace(' ', '_').lower() for c in dis.columns]\n",
    "dis.rename(columns={'country':'country_name', 'iso':'country_code', 'disaster_subtype':'subtype', 'disaster_type':'type', 'total_deaths':'deaths'}, inplace=True)"
   ],
   "metadata": {
    "collapsed": false
   }
  },
  {
   "cell_type": "markdown",
   "source": [
    "## Filter for all relevant attributes & observations\n",
    "\n",
    "1. We only consider observations of disasters of type natural. (rows)\n",
    "2. We only consider relevant attributes. (columns)"
   ],
   "metadata": {
    "collapsed": false
   }
  },
  {
   "cell_type": "markdown",
   "source": [
    "## Which disaster groups are present in the dataset ?"
   ],
   "metadata": {
    "collapsed": false
   }
  },
  {
   "cell_type": "code",
   "execution_count": 710,
   "outputs": [
    {
     "data": {
      "text/plain": "array(['Natural', 'Technological', 'Complex Disasters'], dtype=object)"
     },
     "execution_count": 710,
     "metadata": {},
     "output_type": "execute_result"
    }
   ],
   "source": [
    "dis.disaster_group.unique()"
   ],
   "metadata": {
    "collapsed": false
   }
  },
  {
   "cell_type": "markdown",
   "source": [
    "We only focus on disasters which have a natural causation"
   ],
   "metadata": {
    "collapsed": false
   }
  },
  {
   "cell_type": "code",
   "execution_count": 711,
   "outputs": [],
   "source": [
    "dis = dis[dis.disaster_group == \"Natural\"]"
   ],
   "metadata": {
    "collapsed": false
   }
  },
  {
   "cell_type": "markdown",
   "source": [
    "Which types of natural disasters are there ?"
   ],
   "metadata": {
    "collapsed": false
   }
  },
  {
   "cell_type": "code",
   "execution_count": 712,
   "outputs": [
    {
     "data": {
      "text/plain": "array(['Drought', 'Earthquake', 'Volcanic activity',\n       'Mass movement (dry)', 'Storm', 'Flood', 'Epidemic', 'Landslide',\n       'Wildfire', 'Extreme temperature ', 'Fog', 'Insect infestation',\n       'Impact', 'Animal accident', 'Glacial lake outburst'], dtype=object)"
     },
     "execution_count": 712,
     "metadata": {},
     "output_type": "execute_result"
    }
   ],
   "source": [
    "dis[\"type\"].unique()"
   ],
   "metadata": {
    "collapsed": false
   }
  },
  {
   "cell_type": "markdown",
   "source": [
    "The types of disasters are mostly the ones a normal person would expect when thinking about natural disasters.\n",
    "But there are some strange types like insect-infestations or animal-accident which are not that obvious to understand.\n",
    "Therefore, we need to take a closer look at the disasters of those types."
   ],
   "metadata": {
    "collapsed": false
   }
  },
  {
   "cell_type": "code",
   "execution_count": 713,
   "outputs": [
    {
     "data": {
      "text/plain": "0.0"
     },
     "execution_count": 713,
     "metadata": {},
     "output_type": "execute_result"
    }
   ],
   "source": [
    "dis[dis.type == \"Insect infestation\"].deaths.sum()"
   ],
   "metadata": {
    "collapsed": false
   }
  },
  {
   "cell_type": "markdown",
   "source": [
    "It is safe to say that we can omit observations of disasters of type insect-infestations since there are no accounts of people dying from those kinds of incidents."
   ],
   "metadata": {
    "collapsed": false
   }
  },
  {
   "cell_type": "code",
   "execution_count": 714,
   "outputs": [
    {
     "data": {
      "text/plain": "0.0"
     },
     "execution_count": 714,
     "metadata": {},
     "output_type": "execute_result"
    }
   ],
   "source": [
    "dis[dis.type == \"Impact\"].deaths.sum()"
   ],
   "metadata": {
    "collapsed": false
   }
  },
  {
   "cell_type": "markdown",
   "source": [
    "The same goes for disaster type impact, which only occurred once in Russia with again 0 deaths.\n",
    "We omit this event."
   ],
   "metadata": {
    "collapsed": false
   }
  },
  {
   "cell_type": "code",
   "execution_count": 715,
   "outputs": [
    {
     "data": {
      "text/plain": "1"
     },
     "execution_count": 715,
     "metadata": {},
     "output_type": "execute_result"
    }
   ],
   "source": [
    "dis[dis.type == \"Animal accident\"].deaths.count()"
   ],
   "metadata": {
    "collapsed": false
   }
  },
  {
   "cell_type": "markdown",
   "source": [
    "We also decided to omit disasters of type animal-accident since there is only one recorded accident over the last 100 years with only 12 people dying. Therefore, it makes not much sense to include it into our further research."
   ],
   "metadata": {
    "collapsed": false
   }
  },
  {
   "cell_type": "code",
   "execution_count": 716,
   "outputs": [],
   "source": [
    "dis = dis[((dis.type != \"Insect infestation\") & (dis.type != \"Animal accident\")) & (dis.type != \"Impact\")]"
   ],
   "metadata": {
    "collapsed": false
   }
  },
  {
   "cell_type": "markdown",
   "source": [
    "We also decided to no include epidemics since it would go beyond the scope of this task."
   ],
   "metadata": {
    "collapsed": false
   }
  },
  {
   "cell_type": "code",
   "execution_count": 717,
   "outputs": [],
   "source": [
    "dis = dis[dis.type != \"Epidemic\"]"
   ],
   "metadata": {
    "collapsed": false
   }
  },
  {
   "cell_type": "markdown",
   "source": [
    "We only consider the following types of disasters"
   ],
   "metadata": {
    "collapsed": false
   }
  },
  {
   "cell_type": "code",
   "execution_count": 718,
   "outputs": [
    {
     "data": {
      "text/plain": "array(['Drought', 'Earthquake', 'Volcanic activity',\n       'Mass movement (dry)', 'Storm', 'Flood', 'Landslide', 'Wildfire',\n       'Extreme temperature ', 'Fog', 'Glacial lake outburst'],\n      dtype=object)"
     },
     "execution_count": 718,
     "metadata": {},
     "output_type": "execute_result"
    }
   ],
   "source": [
    "dis[\"type\"].unique()"
   ],
   "metadata": {
    "collapsed": false
   }
  },
  {
   "cell_type": "code",
   "execution_count": 719,
   "outputs": [
    {
     "data": {
      "text/plain": "Series([], Name: deaths, dtype: float64)"
     },
     "execution_count": 719,
     "metadata": {},
     "output_type": "execute_result"
    }
   ],
   "source": [
    "dis[dis.type == \"Impact\"].deaths.head()"
   ],
   "metadata": {
    "collapsed": false
   }
  },
  {
   "cell_type": "markdown",
   "source": [
    "Now we take a look at the different attributes of each observation"
   ],
   "metadata": {
    "collapsed": false
   }
  },
  {
   "cell_type": "code",
   "execution_count": 720,
   "outputs": [
    {
     "data": {
      "text/plain": "dis_no                                        object\nyear                                           int64\nseq                                            int64\nglide                                         object\ndisaster_group                                object\ndisaster_subgroup                             object\ntype                                          object\nsubtype                                       object\ndisaster_subsubtype                           object\nevent_name                                    object\ncountry_name                                  object\ncountry_code                                  object\nregion                                        object\ncontinent                                     object\nlocation                                      object\norigin                                        object\nassociated_dis                                object\nassociated_dis2                               object\nofda_response                                 object\nappeal                                        object\ndeclaration                                   object\naid_contribution_('000_us$)                  float64\ndis_mag_value                                float64\ndis_mag_scale                                 object\nlatitude                                      object\nlongitude                                     object\nlocal_time                                    object\nriver_basin                                   object\nstart_year                                     int64\nstart_month                                  float64\nstart_day                                    float64\nend_year                                       int64\nend_month                                    float64\nend_day                                      float64\ndeaths                                       float64\nno_injured                                   float64\nno_affected                                  float64\nno_homeless                                  float64\ntotal_affected                               float64\nreconstruction_costs_('000_us$)              float64\nreconstruction_costs,_adjusted_('000_us$)    float64\ninsured_damages_('000_us$)                   float64\ninsured_damages,_adjusted_('000_us$)         float64\ntotal_damages_('000_us$)                     float64\ntotal_damages,_adjusted_('000_us$)           float64\ncpi                                          float64\nadm_level                                     object\nadmin1_code                                   object\nadmin2_code                                   object\ngeo_locations                                 object\ndtype: object"
     },
     "execution_count": 720,
     "metadata": {},
     "output_type": "execute_result"
    }
   ],
   "source": [
    "dis.dtypes"
   ],
   "metadata": {
    "collapsed": false
   }
  },
  {
   "cell_type": "code",
   "execution_count": 721,
   "metadata": {},
   "outputs": [],
   "source": [
    "# Disaster-All\n",
    "dis_all_col_names = [\"year\", \"dis_no\", \"region\", \"continent\", \"country_name\", \"country_code\", \"location\",                             \"type\", \"subtype\", \"deaths\", \"dis_mag_value\", \"dis_mag_scale\", \"start_year\", \"end_year\"]\n",
    "dis_all = dis.filter(items=dis_all_col_names)"
   ]
  },
  {
   "cell_type": "markdown",
   "source": [
    "## Are there missing values?\n",
    "\n",
    "Fill missing Values for the number of deaths\n",
    "\n",
    "We can assume that missing values for the number of deaths of a particular disaster means that the deathtoll was 0.\n",
    "\n",
    "For the subtype we take a look for which type of natural disasters a subtype is not provided."
   ],
   "metadata": {
    "collapsed": false
   }
  },
  {
   "cell_type": "code",
   "execution_count": 722,
   "outputs": [
    {
     "name": "stdout",
     "output_type": "stream",
     "text": [
      "year: 0\n",
      "dis_no: 0\n",
      "region: 0\n",
      "continent: 0\n",
      "country_name: 0\n",
      "country_code: 0\n",
      "location: 1449\n",
      "type: 0\n",
      "subtype: 3116\n",
      "deaths: 4412\n",
      "dis_mag_value: 9903\n",
      "dis_mag_scale: 1114\n",
      "start_year: 0\n",
      "end_year: 0\n",
      "Total: 14871\n"
     ]
    }
   ],
   "source": [
    "for col in dis_all:\n",
    "    print(col + \": \" + str(dis_all.loc[:, col].isnull().sum()))\n",
    "print(\"Total: \" + str(len(dis_all)))"
   ],
   "metadata": {
    "collapsed": false
   }
  },
  {
   "cell_type": "code",
   "execution_count": 723,
   "outputs": [
    {
     "data": {
      "text/plain": "array(['Flood', 'Storm', 'Landslide', 'Wildfire', 'Fog',\n       'Mass movement (dry)', 'Volcanic activity', 'Drought',\n       'Earthquake', 'Glacial lake outburst'], dtype=object)"
     },
     "execution_count": 723,
     "metadata": {},
     "output_type": "execute_result"
    }
   ],
   "source": [
    "dis_all[dis_all[\"subtype\"].isna()][\"type\"].unique()"
   ],
   "metadata": {
    "collapsed": false
   }
  },
  {
   "cell_type": "markdown",
   "source": [
    "Unfortunately the missing values in the subtype column do not correspond to specific types of disasters.\n",
    "We can not conclude that easily what caused the values to be missing."
   ],
   "metadata": {
    "collapsed": false
   }
  },
  {
   "cell_type": "code",
   "execution_count": 724,
   "outputs": [],
   "source": [
    "dis_all[['deaths']] = dis_all[['deaths']].fillna(value=0)"
   ],
   "metadata": {
    "collapsed": false
   }
  },
  {
   "cell_type": "markdown",
   "source": [
    "## ISO-Codes\n",
    "\n",
    "Compare iso-codes to match the id's of each row with the other datasets.\n",
    "We use the ISO3-Codes, which contain 3 letters to identify a country.\n",
    "From now on, if ISO-Codes are mentioned, we are always speaking of ISO3-Codes."
   ],
   "metadata": {
    "collapsed": false
   }
  },
  {
   "cell_type": "code",
   "execution_count": 725,
   "metadata": {},
   "outputs": [],
   "source": [
    "un_country_codes = pd.read_csv(\"data/raw/country-codes/un-country-codes.csv\", sep=\";\")\n",
    "un_country_codes.columns = [c.replace(' ', '_').replace('-','_') for c in un_country_codes.columns]"
   ]
  },
  {
   "cell_type": "code",
   "execution_count": 726,
   "metadata": {},
   "outputs": [],
   "source": [
    "countries_with_iso = dis_all.merge(un_country_codes, how=\"left\", left_on='country_name', right_on='Country_or_Area')[[\"country_name\", \"country_code\", \"ISO_alpha3_Code\"]]"
   ]
  },
  {
   "cell_type": "code",
   "execution_count": 727,
   "metadata": {},
   "outputs": [
    {
     "data": {
      "text/plain": "    country_name country_code ISO_alpha3_Code\n0     Cabo Verde          CPV             CPV\n1          India          IND             IND\n2      Guatemala          GTM             GTM\n3      Guatemala          GTM             GTM\n4      Guatemala          GTM             GTM\n5         Canada          CAN             CAN\n6  Comoros (the)          COM             NaN\n7     Bangladesh          BGD             BGD\n8         Canada          CAN             CAN\n9          India          IND             IND",
      "text/html": "<div>\n<style scoped>\n    .dataframe tbody tr th:only-of-type {\n        vertical-align: middle;\n    }\n\n    .dataframe tbody tr th {\n        vertical-align: top;\n    }\n\n    .dataframe thead th {\n        text-align: right;\n    }\n</style>\n<table border=\"1\" class=\"dataframe\">\n  <thead>\n    <tr style=\"text-align: right;\">\n      <th></th>\n      <th>country_name</th>\n      <th>country_code</th>\n      <th>ISO_alpha3_Code</th>\n    </tr>\n  </thead>\n  <tbody>\n    <tr>\n      <th>0</th>\n      <td>Cabo Verde</td>\n      <td>CPV</td>\n      <td>CPV</td>\n    </tr>\n    <tr>\n      <th>1</th>\n      <td>India</td>\n      <td>IND</td>\n      <td>IND</td>\n    </tr>\n    <tr>\n      <th>2</th>\n      <td>Guatemala</td>\n      <td>GTM</td>\n      <td>GTM</td>\n    </tr>\n    <tr>\n      <th>3</th>\n      <td>Guatemala</td>\n      <td>GTM</td>\n      <td>GTM</td>\n    </tr>\n    <tr>\n      <th>4</th>\n      <td>Guatemala</td>\n      <td>GTM</td>\n      <td>GTM</td>\n    </tr>\n    <tr>\n      <th>5</th>\n      <td>Canada</td>\n      <td>CAN</td>\n      <td>CAN</td>\n    </tr>\n    <tr>\n      <th>6</th>\n      <td>Comoros (the)</td>\n      <td>COM</td>\n      <td>NaN</td>\n    </tr>\n    <tr>\n      <th>7</th>\n      <td>Bangladesh</td>\n      <td>BGD</td>\n      <td>BGD</td>\n    </tr>\n    <tr>\n      <th>8</th>\n      <td>Canada</td>\n      <td>CAN</td>\n      <td>CAN</td>\n    </tr>\n    <tr>\n      <th>9</th>\n      <td>India</td>\n      <td>IND</td>\n      <td>IND</td>\n    </tr>\n  </tbody>\n</table>\n</div>"
     },
     "execution_count": 727,
     "metadata": {},
     "output_type": "execute_result"
    }
   ],
   "source": [
    "countries_with_iso.head(10)"
   ]
  },
  {
   "cell_type": "markdown",
   "source": [
    "## Display all countries for which NO matching ISO-Code was found"
   ],
   "metadata": {
    "collapsed": false
   }
  },
  {
   "cell_type": "code",
   "execution_count": 728,
   "metadata": {},
   "outputs": [
    {
     "data": {
      "text/plain": "array(['Comoros (the)', 'Hong Kong', 'Gambia (the)', 'Germany Fed Rep',\n       'Bahamas (the)', 'Dominican Republic (the)', 'Cook Islands (the)',\n       'Azores Islands',\n       'United Kingdom of Great Britain and Northern Ireland (the)',\n       'Netherlands Antilles', 'Congo (the)', 'Czechoslovakia',\n       'United States of America (the)', 'Soviet Union', 'Niger (the)',\n       'Turkey', 'Philippines (the)', 'Taiwan (Province of China)',\n       'Korea (the Republic of)', 'Netherlands (the)', 'Canary Is',\n       'Tanzania, United Republic of',\n       \"Lao People's Democratic Republic (the)\", 'Sudan (the)',\n       'Yemen Arab Rep', 'Yugoslavia', 'Wallis and Futuna',\n       'Congo (the Democratic Republic of the)', 'Yemen P Dem Rep',\n       'Germany Dem Rep', \"Korea (the Democratic People's Republic of)\",\n       'Turks and Caicos Islands (the)', 'Marshall Islands (the)',\n       'Russian Federation (the)',\n       'Macedonia (the former Yugoslav Republic of)', 'Macao',\n       'Virgin Island (U.S.)', 'Serbia Montenegro',\n       'Moldova (the Republic of)', 'Czech Republic (the)',\n       'Virgin Island (British)', 'Cayman Islands (the)',\n       'Saint Helena, Ascension and Tristan da Cunha',\n       'Northern Mariana Islands (the)', 'Palestine, State of',\n       'United Arab Emirates (the)'], dtype=object)"
     },
     "execution_count": 728,
     "metadata": {},
     "output_type": "execute_result"
    }
   ],
   "source": [
    "mismatches = countries_with_iso[countries_with_iso.ISO_alpha3_Code.isnull()]\n",
    "mismatches.country_name.unique()"
   ]
  },
  {
   "cell_type": "markdown",
   "source": [
    "## Rename remaining Countrynames to a standardized format"
   ],
   "metadata": {
    "collapsed": false
   }
  },
  {
   "cell_type": "code",
   "execution_count": 729,
   "outputs": [],
   "source": [
    "# Replace suffix\n",
    "dis_all['country_name'] = dis_all['country_name'].apply(lambda x: x.replace(' (the)', ''))\n",
    "# Reorder compley country-names\n",
    "dis_all['country_name'] = dis_all['country_name'].apply(lambda x: x.split(',')[1] + \" \" + x.split(',')[0] if ',' in x else x)\n",
    "# Remove random white-spaces at the start of a name\n",
    "dis_all['country_name'] = dis_all['country_name'].apply(lambda x: x[1:] if x.startswith(' ') else x)\n"
   ],
   "metadata": {
    "collapsed": false
   }
  },
  {
   "cell_type": "code",
   "execution_count": 730,
   "metadata": {},
   "outputs": [],
   "source": [
    "new_country_names = {\n",
    "    \"Germany Fed Rep\": \"Germany\",\n",
    "    \"Germany Dem Rep\": \"Germany\",\n",
    "    \"Hong Kong\": \"China\",\n",
    "    \"Macao\": \"China\",\n",
    "    \"Åland\": \"Åland Islands\",\n",
    "    \"Congo (the Democratic Republic of the)\": \"Congo\",\n",
    "    \"Turkey\": \"Türkiye\",\n",
    "    \"Korea (the Republic of)\": \"Republic of Korea\",\n",
    "    \"Macedonia (the former Yugoslav Republic of)\": \"North Macedonia\",\n",
    "    \"Congo (Democratic Republic of the)\": \"Democratic Republic of the Congo\",\n",
    "    \"Yemen P Dem Rep\": \"Yemen\",\n",
    "    \"Yemen Arab Rep\": \"Yemen\",\n",
    "    \"Korea (the Democratic People's Republic of)\": \"Democratic People's Republic of Korea\",\n",
    "    \"Korea (the Republic of)\": \"Republic of Korea\",\n",
    "    \"Serbia Montenegro\" : \"Serbia\",\n",
    "    \"Moldova (the Republic of)\" : \"Republic of Moldova\",\n",
    "    \"Czech Republic\" : \"Czechia\",\n",
    "    \"Taiwan (Province of China)\" : \"Taiwan\"   \n",
    "}"
   ]
  },
  {
   "cell_type": "code",
   "execution_count": 731,
   "metadata": {},
   "outputs": [],
   "source": [
    "dis_all = dis_all.replace({\"country_name\": new_country_names}, inplace=False)"
   ]
  },
  {
   "cell_type": "markdown",
   "source": [
    "## Check for countries with missing ISO-Codes"
   ],
   "metadata": {
    "collapsed": false
   }
  },
  {
   "cell_type": "code",
   "execution_count": 732,
   "metadata": {},
   "outputs": [
    {
     "data": {
      "text/plain": "array(['Germany', 'Azores Islands', 'Netherlands Antilles',\n       'Czechoslovakia', 'Soviet Union', 'Taiwan', 'Canary Is', 'Yemen',\n       'Yugoslavia', 'Serbia'], dtype=object)"
     },
     "execution_count": 732,
     "metadata": {},
     "output_type": "execute_result"
    }
   ],
   "source": [
    "countries_with_iso = dis_all.merge(un_country_codes, how=\"left\", left_on='country_code', right_on='ISO_alpha3_Code')[[\"country_name\", \"country_code\", \"ISO_alpha3_Code\"]]\n",
    "mismatches = countries_with_iso[countries_with_iso.ISO_alpha3_Code.isnull()]\n",
    "mismatches.country_name.unique()"
   ]
  },
  {
   "cell_type": "code",
   "execution_count": 733,
   "metadata": {},
   "outputs": [
    {
     "data": {
      "text/plain": "array(['Germany', 'Azores Islands', 'Netherlands Antilles',\n       'Czechoslovakia', 'Soviet Union', 'Taiwan', 'Canary Is', 'Yemen',\n       'Yugoslavia', 'Serbia'], dtype=object)"
     },
     "execution_count": 733,
     "metadata": {},
     "output_type": "execute_result"
    }
   ],
   "source": [
    "countries_with_iso.head(10)\n",
    "mask = countries_with_iso.notnull().all(axis=1)\n",
    "countries_with_iso[~mask].country_name.unique()"
   ]
  },
  {
   "cell_type": "markdown",
   "source": [
    "## Assign ISO-Codes (we know of) to countries"
   ],
   "metadata": {
    "collapsed": false
   }
  },
  {
   "cell_type": "code",
   "execution_count": 734,
   "metadata": {},
   "outputs": [],
   "source": [
    "dis_all.loc[dis_all.country_name == \"Germany\", \"country_code\"] = \"DEU\"\n",
    "dis_all.loc[dis_all.country_name == \"Serbia\", \"country_code\"] = \"SRB\"\n",
    "dis_all.loc[dis_all.country_name == \"Yemen\", \"country_code\"] = \"YEM\"\n",
    "dis_all.loc[dis_all.country_name == \"Taiwan\", \"country_code\"] = \"TWM\"\n",
    "dis_all.loc[dis_all.country_name == \"Canary Is\", \"country_code\"] = \"SPI\"\n",
    "dis_all.loc[dis_all.country_name == \"Azores Islands\", \"country_code\"] = \"AZO\""
   ]
  },
  {
   "cell_type": "markdown",
   "source": [
    "## Check which countries still do not have an ISO-Code\n",
    "\n",
    "The following countries either do not have an ISO-Code assigned because they do not exist anymore or are not recognized internationally.\n",
    "\n",
    "For small countries like Azore-Islands or the netherlands antilles it is not that tragic, since they probably contribute only marginally to the total number of deaths by natural disasters globally or for a specific region.\n",
    "They are therefore negligible.\n",
    "\n",
    "For internationally unrecognized countries (Taiwan) we can default to a specifically assigned ISO-Code by us.\n",
    "\n",
    "The difficult part is to make sense of the observations belonging to a larger country which has been split up into smaller nations in the last 100 years. (Soviet Union, Czechoslovakia, Yugoslavia)"
   ],
   "metadata": {
    "collapsed": false
   }
  },
  {
   "cell_type": "code",
   "execution_count": 735,
   "metadata": {},
   "outputs": [
    {
     "data": {
      "text/plain": "array(['Azores Islands', 'Netherlands Antilles', 'Czechoslovakia',\n       'Soviet Union', 'Taiwan', 'Canary Is', 'Yugoslavia'], dtype=object)"
     },
     "execution_count": 735,
     "metadata": {},
     "output_type": "execute_result"
    }
   ],
   "source": [
    "countries_with_iso = dis_all.merge(un_country_codes, how=\"left\", left_on='country_code', right_on='ISO_alpha3_Code')[[\"country_name\", \"country_code\", \"ISO_alpha3_Code\"]]\n",
    "mismatches = countries_with_iso[countries_with_iso.ISO_alpha3_Code.isnull()]\n",
    "mismatches.country_name.unique()"
   ]
  },
  {
   "cell_type": "markdown",
   "source": [
    "## Taiwan: Assign ISO-Code manually (TWN)"
   ],
   "metadata": {
    "collapsed": false
   }
  },
  {
   "cell_type": "code",
   "execution_count": 736,
   "outputs": [],
   "source": [
    "dis_all.loc[dis_all.country_name == \"Taiwan\", \"country_code\"] = \"TWN\""
   ],
   "metadata": {
    "collapsed": false
   }
  },
  {
   "cell_type": "markdown",
   "source": [
    "## Count all disasters that happened in the Soviet Union"
   ],
   "metadata": {
    "collapsed": false
   }
  },
  {
   "cell_type": "code",
   "execution_count": 737,
   "metadata": {},
   "outputs": [
    {
     "data": {
      "text/plain": "62"
     },
     "execution_count": 737,
     "metadata": {},
     "output_type": "execute_result"
    }
   ],
   "source": [
    "dis_all[dis_all.country_code == \"SUN\"].deaths.count()"
   ]
  },
  {
   "cell_type": "markdown",
   "source": [
    "## Count all disasters that happened in Czechoslovakia"
   ],
   "metadata": {
    "collapsed": false
   }
  },
  {
   "cell_type": "code",
   "execution_count": 738,
   "outputs": [
    {
     "data": {
      "text/plain": "9"
     },
     "execution_count": 738,
     "metadata": {},
     "output_type": "execute_result"
    }
   ],
   "source": [
    "dis_all[dis_all.country_code == \"CSK\"].deaths.count()"
   ],
   "metadata": {
    "collapsed": false
   }
  },
  {
   "cell_type": "markdown",
   "source": [
    "## Count all disasters that happened in Yugoslavia"
   ],
   "metadata": {
    "collapsed": false
   }
  },
  {
   "cell_type": "code",
   "execution_count": 739,
   "outputs": [
    {
     "data": {
      "text/plain": "21"
     },
     "execution_count": 739,
     "metadata": {},
     "output_type": "execute_result"
    }
   ],
   "source": [
    "dis_all[dis_all.country_code == \"YUG\"].deaths.count()"
   ],
   "metadata": {
    "collapsed": false
   }
  },
  {
   "cell_type": "markdown",
   "source": [
    "## Check in which part of the country the disaster occured"
   ],
   "metadata": {
    "collapsed": false
   }
  },
  {
   "cell_type": "code",
   "execution_count": 740,
   "outputs": [
    {
     "data": {
      "text/plain": "970     Tatra montains (Slovakia)\n2797                          NaN\n2798                          NaN\n2854                          NaN\n3012                          NaN\n3115    Tatra Mountain (Slovakia)\n3116                          NaN\n3254                     Slovakia\n3342                          NaN\nName: location, dtype: object"
     },
     "execution_count": 740,
     "metadata": {},
     "output_type": "execute_result"
    }
   ],
   "source": [
    "dis_all[dis_all.country_code == \"CSK\"].location"
   ],
   "metadata": {
    "collapsed": false
   }
  },
  {
   "cell_type": "markdown",
   "source": [
    "## Determine Location\n",
    "\n",
    "To determine in which currently existing country those disasters happened,\n",
    "we need to take a look at the location-attribute\n",
    "\n",
    "Fortunately only the disasters in Czechoslovakia have missing values for the location attribute.\n",
    "For all disasters in the other dissolved countries an exact location is provided.\n",
    "\n",
    "Now we proceed by checking matching the location with the now existing countries that were part of the former nations.\n",
    "\n",
    "Soviet Union (SUN):\n",
    "- Armenia\n",
    "- Azerbaijan\n",
    "- Belarus\n",
    "- Estonia\n",
    "- Georgia\n",
    "- Kazakhstan\n",
    "- Kyrgyzstan\n",
    "- Latvia\n",
    "- Lithuania\n",
    "- Moldova\n",
    "- Russia\n",
    "- Tajikistan\n",
    "- Turkmenistan\n",
    "- Ukraine\n",
    "- Uzbekistan\n",
    "\n",
    "Yugoslavia (YUG):\n",
    "- Bosnia and Herzegovina\n",
    "- Croatia\n",
    "- Kosovo (included but not part of the dataset)\n",
    "- Montenegro\n",
    "- North Macedonia\n",
    "- Serbia\n",
    "\n",
    "Czechoslovakia (CSK):\n",
    "- The Czech Republic\n",
    "- Slovakia"
   ],
   "metadata": {
    "collapsed": false
   }
  },
  {
   "cell_type": "code",
   "execution_count": 741,
   "outputs": [],
   "source": [
    "former_sum_country_names = [\"Russian Federation\", \"Armenia\", \"Azerbaijan\", \"Belarus\", \"Estonia\", \"Georgia\", \"Kazakhstan\", \"Kyrgyzstan\", \"Latvia\", \"Lithuania\", \"Moldova\", \"Tajikistan\", \"Turkmenistan\", \"Ukraine\", \"Uzbekistan\"]\n",
    "\n",
    "former_yug_country_names = [\"Bosnia and Herzegovina\", \"Croatia\", \"Kosovo\", \"Montenegro\", \"North Macedonia\",\"Serbia\"]\n",
    "\n",
    "former_csk_country_names = [\"Czechia\", \"Slovakia\"]"
   ],
   "metadata": {
    "collapsed": false
   }
  },
  {
   "cell_type": "code",
   "execution_count": 742,
   "outputs": [
    {
     "data": {
      "text/plain": "1198                        Andishan,Tashkent (Uzbekistan)\n1262     South Ukraine, Volga, Ural (Kazakhstan,Russian...\n1274                           Rostov (Russian Federation)\n1430                                          Turkmenistan\n1447                               Ashkabat (Turkmenistan)\n                               ...                        \n7169       Ulan-Ude region (Buryatia) (Russian Federation)\n7176                Volgograd Region (Russian Federation) \n24810                                 Semacha (Azerbaijan)\n24819           Usoy, Barchidiv, Posor, Nisur (Tajikistan)\n24829                                Dushanbe (Tajikistan)\nName: location, Length: 62, dtype: object"
     },
     "execution_count": 742,
     "metadata": {},
     "output_type": "execute_result"
    }
   ],
   "source": [
    "dis_all[dis_all.country_code == \"SUN\"].location"
   ],
   "metadata": {
    "collapsed": false
   }
  },
  {
   "cell_type": "code",
   "execution_count": 743,
   "outputs": [
    {
     "data": {
      "text/plain": "      year         dis_no  region continent  country_name country_code  \\\n1262  1921  1921-9001-SUN     NaN    Europe  Soviet Union          SUN   \n\n                                               location     type  subtype  \\\n1262  South Ukraine, Volga, Ural (Kazakhstan,Russian...  Drought  Drought   \n\n         deaths  dis_mag_value dis_mag_scale  start_year  end_year  \n1262  1200000.0            NaN           Km2        1921      1921  ",
      "text/html": "<div>\n<style scoped>\n    .dataframe tbody tr th:only-of-type {\n        vertical-align: middle;\n    }\n\n    .dataframe tbody tr th {\n        vertical-align: top;\n    }\n\n    .dataframe thead th {\n        text-align: right;\n    }\n</style>\n<table border=\"1\" class=\"dataframe\">\n  <thead>\n    <tr style=\"text-align: right;\">\n      <th></th>\n      <th>year</th>\n      <th>dis_no</th>\n      <th>region</th>\n      <th>continent</th>\n      <th>country_name</th>\n      <th>country_code</th>\n      <th>location</th>\n      <th>type</th>\n      <th>subtype</th>\n      <th>deaths</th>\n      <th>dis_mag_value</th>\n      <th>dis_mag_scale</th>\n      <th>start_year</th>\n      <th>end_year</th>\n    </tr>\n  </thead>\n  <tbody>\n    <tr>\n      <th>1262</th>\n      <td>1921</td>\n      <td>1921-9001-SUN</td>\n      <td>NaN</td>\n      <td>Europe</td>\n      <td>Soviet Union</td>\n      <td>SUN</td>\n      <td>South Ukraine, Volga, Ural (Kazakhstan,Russian...</td>\n      <td>Drought</td>\n      <td>Drought</td>\n      <td>1200000.0</td>\n      <td>NaN</td>\n      <td>Km2</td>\n      <td>1921</td>\n      <td>1921</td>\n    </tr>\n  </tbody>\n</table>\n</div>"
     },
     "execution_count": 743,
     "metadata": {},
     "output_type": "execute_result"
    }
   ],
   "source": [
    "dis_sun_with_region = dis_all[dis_all.country_code == \"SUN\"].copy()\n",
    "dis_sun_with_region[\"region\"] = np.nan\n",
    "\n",
    "mask_europe = dis_sun_with_region[\"location\"].str.contains(\"Russian Federation|Ukraine|Moldavia|Siberia\").fillna(False)\n",
    "mask_asia = dis_sun_with_region[\"location\"].str.contains(\"Kazakhstan|Azerbaijan|Uzbekistan|Turkmenistan|Georgia|Armenia|Kyrgystan|Tajikistan|Tajiskistan|Tadzhikistan|Tadjikistan|Caucasus region|Dushanbe\", case=False).fillna(False)\n",
    "\n",
    "# disasters in europe and asia\n",
    "dis_sun_with_region[mask_europe & mask_asia]"
   ],
   "metadata": {
    "collapsed": false
   }
  },
  {
   "cell_type": "markdown",
   "source": [
    "Only one Event happened in both the asian as well as the european part of the soviet union.\n",
    "It is also a major event since it is a drought which caused the death of 1.2 million people.\n",
    "\n",
    "Researching the details of this event one can conclude that this observation can only be the Russian famine of 1921–1922.\n",
    "It mostly affected people living in europe, hence we assign this single observation the region europe.\n",
    "(https://en.wikipedia.org/wiki/Russian_famine_of_1921%E2%80%931922)\n",
    "\n",
    "For all other observations, the region should be unambiguous."
   ],
   "metadata": {
    "collapsed": false
   }
  },
  {
   "cell_type": "code",
   "execution_count": 744,
   "outputs": [],
   "source": [
    "dis_sun_with_region.loc[mask_europe, \"region\"] = \"Europe\"\n",
    "dis_sun_with_region.loc[mask_asia, \"region\"] = \"Asia\"\n",
    "dis_sun_with_region.loc[1262, \"region\"] = \"Europe\""
   ],
   "metadata": {
    "collapsed": false
   }
  },
  {
   "cell_type": "markdown",
   "source": [
    "The observations which still have missing region values, all have no recorded deaths and can therefore be safely ignored."
   ],
   "metadata": {
    "collapsed": false
   }
  },
  {
   "cell_type": "markdown",
   "source": [],
   "metadata": {
    "collapsed": false
   }
  },
  {
   "cell_type": "code",
   "execution_count": 745,
   "outputs": [
    {
     "data": {
      "text/plain": "970     Eastern Europe\n2797    Eastern Europe\n2798    Eastern Europe\n2854    Eastern Europe\n3012    Eastern Europe\n3115    Eastern Europe\n3116    Eastern Europe\n3254    Eastern Europe\n3342    Eastern Europe\nName: region, dtype: object"
     },
     "execution_count": 745,
     "metadata": {},
     "output_type": "execute_result"
    }
   ],
   "source": [
    "# Czechoslovakia\n",
    "dis_all[dis_all.country_code == \"CSK\"].region"
   ],
   "metadata": {
    "collapsed": false
   }
  },
  {
   "cell_type": "code",
   "execution_count": 746,
   "outputs": [
    {
     "data": {
      "text/plain": "2509     Southern Europe\n2518     Southern Europe\n2521     Southern Europe\n2539     Southern Europe\n2544     Southern Europe\n2555     Southern Europe\n4720     Southern Europe\n4746     Southern Europe\n4748     Southern Europe\n4751     Southern Europe\n4810     Southern Europe\n4811     Southern Europe\n4889     Southern Europe\n4890     Southern Europe\n4987     Southern Europe\n4988     Southern Europe\n5035     Southern Europe\n5189     Southern Europe\n7134     Southern Europe\n7136     Southern Europe\n24847    Southern Europe\nName: region, dtype: object"
     },
     "execution_count": 746,
     "metadata": {},
     "output_type": "execute_result"
    }
   ],
   "source": [
    "# Yugoslavia\n",
    "dis_all[dis_all.country_code == \"YUG\"].region"
   ],
   "metadata": {
    "collapsed": false
   }
  },
  {
   "cell_type": "markdown",
   "source": [
    "## Save the Disaster-All file"
   ],
   "metadata": {
    "collapsed": false
   }
  },
  {
   "cell_type": "code",
   "execution_count": 747,
   "metadata": {},
   "outputs": [],
   "source": [
    "dis_all.to_csv(filepath_all)"
   ]
  },
  {
   "cell_type": "markdown",
   "source": [
    "## Create/Save the Disaster-Country file"
   ],
   "metadata": {
    "collapsed": false
   }
  },
  {
   "cell_type": "code",
   "execution_count": 748,
   "metadata": {},
   "outputs": [],
   "source": [
    "dis_country_col_names = [\"year\", \"country_name\", \"country_code\", \"type\", \"subtype\", \"deaths\"]\n",
    "dis_country = dis_all.filter(items=dis_country_col_names)\n",
    "dis_country.to_csv(filepath_country)"
   ]
  },
  {
   "cell_type": "code",
   "execution_count": 749,
   "outputs": [
    {
     "data": {
      "text/plain": "    year country_name country_code                 type           subtype  \\\n0   1900   Cabo Verde          CPV              Drought           Drought   \n1   1900        India          IND              Drought           Drought   \n3   1902    Guatemala          GTM           Earthquake   Ground movement   \n4   1902    Guatemala          GTM    Volcanic activity          Ash fall   \n5   1902    Guatemala          GTM    Volcanic activity          Ash fall   \n6   1903       Canada          CAN  Mass movement (dry)          Rockfall   \n7   1903      Comoros          COM    Volcanic activity          Ash fall   \n10  1904   Bangladesh          BGD                Storm  Tropical cyclone   \n12  1905       Canada          CAN  Mass movement (dry)          Rockfall   \n13  1905        India          IND           Earthquake   Ground movement   \n\n       deaths  \n0     11000.0  \n1   1250000.0  \n3      2000.0  \n4      1000.0  \n5      6000.0  \n6        76.0  \n7        17.0  \n10        0.0  \n12       18.0  \n13    20000.0  ",
      "text/html": "<div>\n<style scoped>\n    .dataframe tbody tr th:only-of-type {\n        vertical-align: middle;\n    }\n\n    .dataframe tbody tr th {\n        vertical-align: top;\n    }\n\n    .dataframe thead th {\n        text-align: right;\n    }\n</style>\n<table border=\"1\" class=\"dataframe\">\n  <thead>\n    <tr style=\"text-align: right;\">\n      <th></th>\n      <th>year</th>\n      <th>country_name</th>\n      <th>country_code</th>\n      <th>type</th>\n      <th>subtype</th>\n      <th>deaths</th>\n    </tr>\n  </thead>\n  <tbody>\n    <tr>\n      <th>0</th>\n      <td>1900</td>\n      <td>Cabo Verde</td>\n      <td>CPV</td>\n      <td>Drought</td>\n      <td>Drought</td>\n      <td>11000.0</td>\n    </tr>\n    <tr>\n      <th>1</th>\n      <td>1900</td>\n      <td>India</td>\n      <td>IND</td>\n      <td>Drought</td>\n      <td>Drought</td>\n      <td>1250000.0</td>\n    </tr>\n    <tr>\n      <th>3</th>\n      <td>1902</td>\n      <td>Guatemala</td>\n      <td>GTM</td>\n      <td>Earthquake</td>\n      <td>Ground movement</td>\n      <td>2000.0</td>\n    </tr>\n    <tr>\n      <th>4</th>\n      <td>1902</td>\n      <td>Guatemala</td>\n      <td>GTM</td>\n      <td>Volcanic activity</td>\n      <td>Ash fall</td>\n      <td>1000.0</td>\n    </tr>\n    <tr>\n      <th>5</th>\n      <td>1902</td>\n      <td>Guatemala</td>\n      <td>GTM</td>\n      <td>Volcanic activity</td>\n      <td>Ash fall</td>\n      <td>6000.0</td>\n    </tr>\n    <tr>\n      <th>6</th>\n      <td>1903</td>\n      <td>Canada</td>\n      <td>CAN</td>\n      <td>Mass movement (dry)</td>\n      <td>Rockfall</td>\n      <td>76.0</td>\n    </tr>\n    <tr>\n      <th>7</th>\n      <td>1903</td>\n      <td>Comoros</td>\n      <td>COM</td>\n      <td>Volcanic activity</td>\n      <td>Ash fall</td>\n      <td>17.0</td>\n    </tr>\n    <tr>\n      <th>10</th>\n      <td>1904</td>\n      <td>Bangladesh</td>\n      <td>BGD</td>\n      <td>Storm</td>\n      <td>Tropical cyclone</td>\n      <td>0.0</td>\n    </tr>\n    <tr>\n      <th>12</th>\n      <td>1905</td>\n      <td>Canada</td>\n      <td>CAN</td>\n      <td>Mass movement (dry)</td>\n      <td>Rockfall</td>\n      <td>18.0</td>\n    </tr>\n    <tr>\n      <th>13</th>\n      <td>1905</td>\n      <td>India</td>\n      <td>IND</td>\n      <td>Earthquake</td>\n      <td>Ground movement</td>\n      <td>20000.0</td>\n    </tr>\n  </tbody>\n</table>\n</div>"
     },
     "execution_count": 749,
     "metadata": {},
     "output_type": "execute_result"
    }
   ],
   "source": [
    "dis_country.head(10)"
   ],
   "metadata": {
    "collapsed": false
   }
  },
  {
   "cell_type": "markdown",
   "source": [
    "## Create/Save the Disaster-Region file"
   ],
   "metadata": {
    "collapsed": false
   }
  },
  {
   "cell_type": "code",
   "execution_count": 750,
   "outputs": [],
   "source": [
    "dis_region_col_names = [\"year\", \"region_name\", \"region_code\", \"iso\", \"type\", \"subtype\", \"deaths\"]\n",
    "dis_region = dis_all.filter(items=dis_region_col_names)\n",
    "dis_region.to_csv(filepath_region)"
   ],
   "metadata": {
    "collapsed": false
   }
  },
  {
   "cell_type": "code",
   "execution_count": 751,
   "outputs": [
    {
     "data": {
      "text/plain": "    year                 type           subtype     deaths\n0   1900              Drought           Drought    11000.0\n1   1900              Drought           Drought  1250000.0\n3   1902           Earthquake   Ground movement     2000.0\n4   1902    Volcanic activity          Ash fall     1000.0\n5   1902    Volcanic activity          Ash fall     6000.0\n6   1903  Mass movement (dry)          Rockfall       76.0\n7   1903    Volcanic activity          Ash fall       17.0\n10  1904                Storm  Tropical cyclone        0.0\n12  1905  Mass movement (dry)          Rockfall       18.0\n13  1905           Earthquake   Ground movement    20000.0",
      "text/html": "<div>\n<style scoped>\n    .dataframe tbody tr th:only-of-type {\n        vertical-align: middle;\n    }\n\n    .dataframe tbody tr th {\n        vertical-align: top;\n    }\n\n    .dataframe thead th {\n        text-align: right;\n    }\n</style>\n<table border=\"1\" class=\"dataframe\">\n  <thead>\n    <tr style=\"text-align: right;\">\n      <th></th>\n      <th>year</th>\n      <th>type</th>\n      <th>subtype</th>\n      <th>deaths</th>\n    </tr>\n  </thead>\n  <tbody>\n    <tr>\n      <th>0</th>\n      <td>1900</td>\n      <td>Drought</td>\n      <td>Drought</td>\n      <td>11000.0</td>\n    </tr>\n    <tr>\n      <th>1</th>\n      <td>1900</td>\n      <td>Drought</td>\n      <td>Drought</td>\n      <td>1250000.0</td>\n    </tr>\n    <tr>\n      <th>3</th>\n      <td>1902</td>\n      <td>Earthquake</td>\n      <td>Ground movement</td>\n      <td>2000.0</td>\n    </tr>\n    <tr>\n      <th>4</th>\n      <td>1902</td>\n      <td>Volcanic activity</td>\n      <td>Ash fall</td>\n      <td>1000.0</td>\n    </tr>\n    <tr>\n      <th>5</th>\n      <td>1902</td>\n      <td>Volcanic activity</td>\n      <td>Ash fall</td>\n      <td>6000.0</td>\n    </tr>\n    <tr>\n      <th>6</th>\n      <td>1903</td>\n      <td>Mass movement (dry)</td>\n      <td>Rockfall</td>\n      <td>76.0</td>\n    </tr>\n    <tr>\n      <th>7</th>\n      <td>1903</td>\n      <td>Volcanic activity</td>\n      <td>Ash fall</td>\n      <td>17.0</td>\n    </tr>\n    <tr>\n      <th>10</th>\n      <td>1904</td>\n      <td>Storm</td>\n      <td>Tropical cyclone</td>\n      <td>0.0</td>\n    </tr>\n    <tr>\n      <th>12</th>\n      <td>1905</td>\n      <td>Mass movement (dry)</td>\n      <td>Rockfall</td>\n      <td>18.0</td>\n    </tr>\n    <tr>\n      <th>13</th>\n      <td>1905</td>\n      <td>Earthquake</td>\n      <td>Ground movement</td>\n      <td>20000.0</td>\n    </tr>\n  </tbody>\n</table>\n</div>"
     },
     "execution_count": 751,
     "metadata": {},
     "output_type": "execute_result"
    }
   ],
   "source": [
    "dis_region.head(10)"
   ],
   "metadata": {
    "collapsed": false
   }
  },
  {
   "cell_type": "markdown",
   "source": [
    "## Create/Save the Disaster-global file"
   ],
   "metadata": {
    "collapsed": false
   }
  },
  {
   "cell_type": "code",
   "execution_count": 752,
   "outputs": [],
   "source": [
    "dis_global_attributes = [\"year\", \"type\", \"subtype\", \"deaths\"]\n",
    "dis_global = dis_all[dis_global_attributes]\n",
    "dis_global.to_csv(filepath_global)"
   ],
   "metadata": {
    "collapsed": false
   }
  },
  {
   "cell_type": "code",
   "execution_count": 753,
   "outputs": [
    {
     "data": {
      "text/plain": "    year                 type           subtype     deaths\n0   1900              Drought           Drought    11000.0\n1   1900              Drought           Drought  1250000.0\n3   1902           Earthquake   Ground movement     2000.0\n4   1902    Volcanic activity          Ash fall     1000.0\n5   1902    Volcanic activity          Ash fall     6000.0\n6   1903  Mass movement (dry)          Rockfall       76.0\n7   1903    Volcanic activity          Ash fall       17.0\n10  1904                Storm  Tropical cyclone        0.0\n12  1905  Mass movement (dry)          Rockfall       18.0\n13  1905           Earthquake   Ground movement    20000.0",
      "text/html": "<div>\n<style scoped>\n    .dataframe tbody tr th:only-of-type {\n        vertical-align: middle;\n    }\n\n    .dataframe tbody tr th {\n        vertical-align: top;\n    }\n\n    .dataframe thead th {\n        text-align: right;\n    }\n</style>\n<table border=\"1\" class=\"dataframe\">\n  <thead>\n    <tr style=\"text-align: right;\">\n      <th></th>\n      <th>year</th>\n      <th>type</th>\n      <th>subtype</th>\n      <th>deaths</th>\n    </tr>\n  </thead>\n  <tbody>\n    <tr>\n      <th>0</th>\n      <td>1900</td>\n      <td>Drought</td>\n      <td>Drought</td>\n      <td>11000.0</td>\n    </tr>\n    <tr>\n      <th>1</th>\n      <td>1900</td>\n      <td>Drought</td>\n      <td>Drought</td>\n      <td>1250000.0</td>\n    </tr>\n    <tr>\n      <th>3</th>\n      <td>1902</td>\n      <td>Earthquake</td>\n      <td>Ground movement</td>\n      <td>2000.0</td>\n    </tr>\n    <tr>\n      <th>4</th>\n      <td>1902</td>\n      <td>Volcanic activity</td>\n      <td>Ash fall</td>\n      <td>1000.0</td>\n    </tr>\n    <tr>\n      <th>5</th>\n      <td>1902</td>\n      <td>Volcanic activity</td>\n      <td>Ash fall</td>\n      <td>6000.0</td>\n    </tr>\n    <tr>\n      <th>6</th>\n      <td>1903</td>\n      <td>Mass movement (dry)</td>\n      <td>Rockfall</td>\n      <td>76.0</td>\n    </tr>\n    <tr>\n      <th>7</th>\n      <td>1903</td>\n      <td>Volcanic activity</td>\n      <td>Ash fall</td>\n      <td>17.0</td>\n    </tr>\n    <tr>\n      <th>10</th>\n      <td>1904</td>\n      <td>Storm</td>\n      <td>Tropical cyclone</td>\n      <td>0.0</td>\n    </tr>\n    <tr>\n      <th>12</th>\n      <td>1905</td>\n      <td>Mass movement (dry)</td>\n      <td>Rockfall</td>\n      <td>18.0</td>\n    </tr>\n    <tr>\n      <th>13</th>\n      <td>1905</td>\n      <td>Earthquake</td>\n      <td>Ground movement</td>\n      <td>20000.0</td>\n    </tr>\n  </tbody>\n</table>\n</div>"
     },
     "execution_count": 753,
     "metadata": {},
     "output_type": "execute_result"
    }
   ],
   "source": [
    "dis_region.head(10)"
   ],
   "metadata": {
    "collapsed": false
   }
  },
  {
   "cell_type": "markdown",
   "source": [],
   "metadata": {
    "collapsed": false
   }
  }
 ],
 "metadata": {
  "kernelspec": {
   "display_name": "Python 3 (ipykernel)",
   "language": "python",
   "name": "python3"
  },
  "language_info": {
   "codemirror_mode": {
    "name": "ipython",
    "version": 3
   },
   "file_extension": ".py",
   "mimetype": "text/x-python",
   "name": "python",
   "nbconvert_exporter": "python",
   "pygments_lexer": "ipython3",
   "version": "3.8.9"
  }
 },
 "nbformat": 4,
 "nbformat_minor": 1
}
