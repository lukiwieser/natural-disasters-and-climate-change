{
 "cells": [
  {
   "cell_type": "markdown",
   "metadata": {
    "collapsed": false
   },
   "source": [
    "# Explore disaster dataset visually"
   ]
  },
  {
   "cell_type": "markdown",
   "metadata": {
    "collapsed": false
   },
   "source": [
    "### Setup"
   ]
  },
  {
   "cell_type": "code",
   "execution_count": null,
   "metadata": {
    "pycharm": {
     "name": "#%%\n"
    }
   },
   "outputs": [],
   "source": [
    "import pandas as pd\n",
    "from pathlib import Path\n",
    "import matplotlib.pyplot as plt\n",
    "import seaborn as sns\n",
    "filepath_source_all = Path(\"data/processed/disaster/disaster-all.csv\")\n",
    "filepath_source_global = Path(\"data/processed/disaster/disaster-global.csv\")\n",
    "filepath_source_country = Path('data/processed/disaster/disaster-country.csv')\n",
    "filepath_source_region = Path(\"data/processed/disaster/disaster-region.csv\")"
   ]
  },
  {
   "cell_type": "markdown",
   "metadata": {
    "collapsed": false
   },
   "source": [
    "## Global disaster data"
   ]
  },
  {
   "cell_type": "code",
   "execution_count": null,
   "metadata": {},
   "outputs": [],
   "source": [
    "dis_global = pd.read_csv(filepath_source_global)"
   ]
  },
  {
   "cell_type": "markdown",
   "metadata": {
    "collapsed": false
   },
   "source": [
    "### Basic understanding"
   ]
  },
  {
   "cell_type": "code",
   "execution_count": null,
   "metadata": {},
   "outputs": [],
   "source": [
    "dis_global.shape"
   ]
  },
  {
   "cell_type": "code",
   "execution_count": null,
   "metadata": {},
   "outputs": [],
   "source": [
    "dis_global.dtypes"
   ]
  },
  {
   "cell_type": "code",
   "execution_count": null,
   "metadata": {},
   "outputs": [],
   "source": [
    "dis_global.head(8)"
   ]
  },
  {
   "cell_type": "markdown",
   "metadata": {
    "collapsed": false
   },
   "source": [
    "We remove White-Spaces from type as well as subtype for more convenience\n"
   ]
  },
  {
   "cell_type": "code",
   "execution_count": null,
   "metadata": {},
   "outputs": [],
   "source": [
    "dis_global[\"type\"] = dis_global[\"type\"].apply(lambda x: x.replace(\" \", \"_\") if x[-1] != ' ' else x.replace(\" \", \"_\"))\n",
    "dis_global['subtype'].replace(\" \", \"_\", inplace=True, regex=True)\n",
    "dis_global[\"type\"] = dis_global[\"type\"].apply(lambda x: x.rstrip(\"_\"))"
   ]
  },
  {
   "cell_type": "markdown",
   "metadata": {
    "collapsed": false
   },
   "source": [
    "### Feature understanding\n",
    "\n",
    "How often do the various types of natural disaster occur ?"
   ]
  },
  {
   "cell_type": "code",
   "execution_count": null,
   "metadata": {},
   "outputs": [],
   "source": [
    "dis_global[\"type\"].value_counts()"
   ]
  },
  {
   "cell_type": "code",
   "execution_count": null,
   "metadata": {},
   "outputs": [],
   "source": [
    "dis_global.subtype.value_counts()"
   ]
  },
  {
   "cell_type": "code",
   "execution_count": null,
   "metadata": {},
   "outputs": [],
   "source": [
    "print(dis_global[dis_global[\"type\"] == \"Flood\"].type.value_counts())\n",
    "dis_global[dis_global[\"type\"] == \"Flood\"].subtype.value_counts()\n",
    "dis_global[dis_global[\"type\"] == \"Flood\"].subtype.isnull()\n",
    "\n",
    "print(dis_global[dis_global[\"type\"] == \"Flood\"].type.value_counts())\n",
    "\n",
    "dis_rf_freq_per_year = dis_global[dis_global.subtype==\"Riverine_flood\"].groupby('year').count().drop([\"type\", \"deaths\"], axis=1).rename(columns={\"subtype\": \"occurrences_of_rf\"})"
   ]
  },
  {
   "cell_type": "code",
   "execution_count": null,
   "metadata": {},
   "outputs": [],
   "source": [
    "dis_global.type.unique()"
   ]
  },
  {
   "cell_type": "markdown",
   "metadata": {
    "collapsed": false
   },
   "source": [
    "# Deal with missing values for attribute subtype for our selected disaster types\n",
    "\n",
    "TODO: Move to data-preparation later"
   ]
  },
  {
   "cell_type": "markdown",
   "metadata": {
    "collapsed": false
   },
   "source": [
    "### Droughts"
   ]
  },
  {
   "cell_type": "code",
   "execution_count": null,
   "metadata": {},
   "outputs": [],
   "source": [
    "dis_global[dis_global[\"type\"] == \"Drought\"].subtype.unique()"
   ]
  },
  {
   "cell_type": "markdown",
   "metadata": {
    "collapsed": false
   },
   "source": [
    "Disasters of type drought have no further more specific subtype.\n",
    "Consequently, we assign all droughts with missing values for subtype, the general type."
   ]
  },
  {
   "cell_type": "code",
   "execution_count": null,
   "metadata": {},
   "outputs": [],
   "source": [
    "dis_global.loc[dis_global[\"type\"] == \"Drought\", \"subtype\"] = dis_global.loc[dis_global[\"type\"] == \"Drought\", \"subtype\"].fillna(\"Drought\")"
   ]
  },
  {
   "cell_type": "markdown",
   "metadata": {
    "collapsed": false
   },
   "source": [
    "For all other types, we unfortunately can not guess the subtype.\n",
    "Therefore, we assign a custom label \"Uncategorized\" + the type of the disaster for each missing subtype\n",
    "\n",
    "We do not need to do this for disasters of type extreme temperature, since subtypes for all observations are specified"
   ]
  },
  {
   "cell_type": "code",
   "execution_count": null,
   "metadata": {},
   "outputs": [],
   "source": [
    "dis_global.loc[dis_global[\"type\"] == \"Earthquake\", \"subtype\"] = dis_global.loc[dis_global[\"type\"] == \"Earthquake\", \"subtype\"].fillna(\"Uncategorized_Earthquake\")\n",
    "dis_global.loc[dis_global[\"type\"] == \"Storm\", \"subtype\"] = dis_global.loc[dis_global[\"type\"] == \"Storm\", \"subtype\"].fillna(\"Uncategorized_Storm\")\n",
    "dis_global.loc[dis_global[\"type\"] == \"Flood\", \"subtype\"] = dis_global.loc[dis_global[\"type\"] == \"Flood\", \"subtype\"].fillna(\"Uncategorized_Flood\")"
   ]
  },
  {
   "cell_type": "code",
   "execution_count": null,
   "metadata": {},
   "outputs": [],
   "source": [
    "dis_coldwave_freq_per_year = dis_global[dis_global.subtype==\"Cold_wave\"].groupby('year').count().drop([\"type\", \"deaths\"], axis=1).rename(columns={\"subtype\": \"occurrences_of_cw\"})\n",
    "dis_heatwave_freq_per_year = dis_global[dis_global.subtype==\"Heat_wave\"].groupby('year').count().drop([\"type\", \"deaths\"], axis=1).rename(columns={\"subtype\": \"occurrences_of_hw\"})\n",
    "dis_swc_freq_per_year = dis_global[dis_global.subtype==\"Severe_winter_conditions\"].groupby('year').count().drop([\"type\", \"deaths\"], axis=1).rename(columns={\"subtype\": \"occurrences_of_swc\"}, inplace=True)\n",
    "\n",
    "dis_rf_freq_per_year = dis_global[dis_global.subtype==\"Riverine_flood\"].groupby('year').count().drop([\"type\", \"deaths\"], axis=1).rename(columns={\"subtype\": \"occurrences_of_rf\"})\n",
    "dis_tc_freq_per_year = dis_global[dis_global.subtype==\"Tropical_cyclone\"].groupby('year').count().drop([\"type\", \"deaths\"], axis=1).rename(columns={\"subtype\": \"occurrences_of_tc\"})\n",
    "dis_gm_freq_per_year = dis_global[dis_global.subtype==\"Ground_movement\"].groupby('year').count().drop([\"type\", \"deaths\"], axis=1).rename(columns={\"subtype\": \"occurrences_of_gm\"})\n",
    "\n",
    "dis_cs_freq_per_year = dis_global[dis_global.subtype==\"Convective_storm\"].groupby('year').count().drop([\"type\", \"deaths\"], axis=1).rename(columns={\"subtype\": \"occurrences_of_cs\"})\n",
    "dis_ff_freq_per_year = dis_global[dis_global.subtype==\"Flash_flood\"].groupby('year').count().drop([\"type\", \"deaths\"], axis=1).rename(columns={\"subtype\": \"occurrences_of_ff\"})\n",
    "dis_d_freq_per_year = dis_global[dis_global.subtype==\"Drought\"].groupby('year').count().drop([\"type\", \"deaths\"], axis=1).rename(columns={\"subtype\": \"occurrences_of_d\"})\n",
    "\n",
    "dis_ls_freq_per_year = dis_global[dis_global.subtype==\"Landslide\"].groupby('year').count().drop([\"type\", \"deaths\"], axis=1).rename(columns={\"subtype\": \"occurrences_of_ls\"})\n",
    "dis_ffi_freq_per_year = dis_global[dis_global.subtype==\"Forest_fire\"].groupby('year').count().drop([\"type\", \"deaths\"], axis=1).rename(columns={\"subtype\": \"occurrences_of_ffi\"})\n",
    "dis_as_freq_per_year = dis_global[dis_global.subtype==\"Ash_fall\"].groupby('year').count().drop([\"type\", \"deaths\"], axis=1).rename(columns={\"subtype\": \"occurrences_of_as\"})\n",
    "\n",
    "dis_ets_freq_per_year = dis_global[dis_global.subtype==\"Extra_tropical_storm\"].groupby('year').count().drop([\"type\", \"deaths\"], axis=1).rename(columns={\"subtype\": \"occurrences_of_ets\"})\n",
    "dis_a_freq_per_year = dis_global[dis_global.subtype==\"Avalanche\"].groupby('year').count().drop([\"type\", \"deaths\"], axis=1).rename(columns={\"subtype\": \"occurrences_of_a\"})\n",
    "dis_lfb_freq_per_year = dis_global[dis_global.subtype==\"Land_fire_(Brush,_Bush,_Pasture)\"].groupby('year').count().drop([\"type\", \"deaths\"], axis=1).rename(columns={\"subtype\": \"occurrences_of_lfb\"})\n",
    "\n",
    "dis_cf_freq_per_year = dis_global[dis_global.subtype==\"Coastal_flood\"].groupby('year').count().drop([\"type\", \"deaths\"], axis=1).rename(columns={\"subtype\": \"occurrences_of_cf\"})\n",
    "dis_ms_freq_per_year = dis_global[dis_global.subtype==\"Mudslide\"].groupby('year').count().drop([\"type\", \"deaths\"], axis=1).rename(columns={\"subtype\": \"occurrences_of_ms\"})\n",
    "dis_tsu_freq_per_year = dis_global[dis_global.subtype==\"Tsunami\"].groupby('year').count().drop([\"type\", \"deaths\"], axis=1).rename(columns={\"subtype\": \"occurrences_of_tsu\"})\n",
    "\n",
    "dis_rfall_freq_per_year = dis_global[dis_global.subtype==\"Rockfall\"].groupby('year').count().drop([\"type\", \"deaths\"], axis=1).rename(columns={\"subtype\": \"occurrences_of_rfall\"})\n",
    "dis_lava_freq_per_year = dis_global[dis_global.subtype==\"Lava_flow\"].groupby('year').count().drop([\"type\", \"deaths\"], axis=1).rename(columns={\"subtype\": \"occurrences_of_lava\"})\n",
    "\n",
    "list_temp = [dis_rf_freq_per_year, dis_tc_freq_per_year, dis_gm_freq_per_year, dis_cs_freq_per_year, dis_ff_freq_per_year,            dis_d_freq_per_year, dis_ls_freq_per_year, dis_ffi_freq_per_year, dis_as_freq_per_year, dis_ets_freq_per_year,            dis_a_freq_per_year, dis_lfb_freq_per_year, dis_cf_freq_per_year, dis_ms_freq_per_year, dis_tsu_freq_per_year,            dis_rfall_freq_per_year, dis_lava_freq_per_year]\n",
    "\n",
    "dis_freq_per_year_per_subtype = pd.concat(list_temp, axis=1).fillna(0)\n",
    "sns.lineplot(data=dis_freq_per_year_per_subtype)\n",
    "plt.legend(loc='upper left')\n",
    "plt.show()"
   ]
  },
  {
   "cell_type": "code",
   "execution_count": null,
   "metadata": {},
   "outputs": [],
   "source": [
    "temp = dis_global[dis_global.subtype==\"Rockfall\"].groupby('year').count().drop([\"type\", \"deaths\"], axis=1).rename(columns={\"subtype\": \"occurrences_of_rfall\"})\n",
    "temp.head()"
   ]
  },
  {
   "cell_type": "code",
   "execution_count": null,
   "metadata": {},
   "outputs": [],
   "source": [
    "dis_global.subtype.unique()"
   ]
  },
  {
   "cell_type": "code",
   "execution_count": null,
   "metadata": {},
   "outputs": [],
   "source": [
    "hist = sns.histplot(data=dis_global, x=\"type\")\n",
    "hist.tick_params(axis='x', rotation=90)\n",
    "plt.show()"
   ]
  },
  {
   "cell_type": "markdown",
   "metadata": {
    "collapsed": false
   },
   "source": [
    "Storms and Floods occur by far the most often while disasters like droughts, earthquakes occur fewer times.\n",
    "The other types of disasters are very rare with only 3 recorded observations of glacial lake outbursts.\n",
    "Living next to the water seems to be dangerous !"
   ]
  },
  {
   "cell_type": "markdown",
   "metadata": {
    "collapsed": false
   },
   "source": [
    "Which types of natural disasters cause the most deaths ?"
   ]
  },
  {
   "cell_type": "code",
   "execution_count": null,
   "metadata": {},
   "outputs": [],
   "source": [
    "dis_deaths_by_type = dis_global.groupby([\"type\"])\n",
    "dis_deaths_by_type = dis_deaths_by_type.sum(numeric_only=True).drop(\"year\", axis=1)\n",
    "dis_deaths_by_type"
   ]
  },
  {
   "cell_type": "code",
   "execution_count": null,
   "metadata": {},
   "outputs": [],
   "source": [
    "barplot = sns.barplot(data=dis_deaths_by_type.reset_index(), x=\"type\", y=\"deaths\")\n",
    "barplot.tick_params(axis='x', rotation=90)\n",
    "barplot.set_ylabel(\"deaths in 10mm\")\n",
    "plt.show()"
   ]
  },
  {
   "cell_type": "markdown",
   "metadata": {
    "collapsed": false
   },
   "source": [
    "As expected the cumulative deaths by flood are high with around 7 million people dying in the last 100 years.\n",
    "The most significant insight here is that droughts have the highest death toll of all disasters with almost 11 mio people dying in the same timeframe. This is remarkable since droughts were only the fifth most common disaster. Storms, which occurred almost als often as floods have a relatively low death toll and are even superseded by the number of people dying from earthquakes.\n",
    "\n",
    "The lethality of droughts is the most surprising or in this case shocking point.\n",
    "More people dyed from droughts, probably following week long starvation, than from all other disasters combined.\n",
    "There is one caveat though: Droughts are not necessarily the result of natural events but rather can be and have been caused by political failure or even have been weaponized by states.\n",
    "\n",
    "We can also indentify the following types as the main contributors to human deaths by natural disasters:\n",
    "\n",
    "- Drought\n",
    "- Flood\n",
    "- Earthquake\n",
    "- Storm\n",
    "- Extreme temperature\n",
    "\n",
    "In addition to the most lethal disasters, we also choose to include Extreme temperature into our closer examination, since we suspect it to be related to the rising global temperature.\n",
    "We will take a closer look at those types of disasters in the following.\n"
   ]
  },
  {
   "cell_type": "markdown",
   "metadata": {
    "collapsed": false
   },
   "source": [
    "So lets see what the most lethal disasters of the last one hundred years have been"
   ]
  },
  {
   "cell_type": "code",
   "execution_count": null,
   "metadata": {},
   "outputs": [],
   "source": [
    "dis_global.sort_values(by=\"deaths\", ascending = False).drop(\"subtype\", axis=1).head(10)"
   ]
  },
  {
   "cell_type": "markdown",
   "metadata": {
    "collapsed": false
   },
   "source": [
    "The 10 most lethal disasters from the last 100 years have exclusively been floods and droughts.\n",
    "\n",
    "The number one spot is a flood which happened 1931 in China and is known as the deadliest natural disaster of all time.\n",
    "0.1%"
   ]
  },
  {
   "cell_type": "markdown",
   "metadata": {
    "collapsed": false
   },
   "source": [
    "## Changes over time"
   ]
  },
  {
   "cell_type": "markdown",
   "metadata": {
    "collapsed": false
   },
   "source": [
    "### Frequeny"
   ]
  },
  {
   "cell_type": "markdown",
   "metadata": {
    "collapsed": false
   },
   "source": [
    "How did the frequency of natural disasters change over time ?"
   ]
  },
  {
   "cell_type": "code",
   "execution_count": null,
   "metadata": {},
   "outputs": [],
   "source": [
    "dis_freq_per_year = dis_global.groupby('year').count().drop([\"subtype\", \"deaths\"], axis=1)\n",
    "dis_freq_per_year.rename(columns={'type':'recorded disasters'}, inplace=True)"
   ]
  },
  {
   "cell_type": "code",
   "execution_count": null,
   "metadata": {},
   "outputs": [],
   "source": [
    "dis_freq_per_year.head(8)"
   ]
  },
  {
   "cell_type": "code",
   "execution_count": null,
   "metadata": {},
   "outputs": [],
   "source": [
    "sns.lineplot(data = dis_freq_per_year)\n",
    "plt.show()"
   ]
  },
  {
   "cell_type": "markdown",
   "metadata": {
    "collapsed": false
   },
   "source": [
    "We can clearly see that the number of recorded disasters skyrocketed over the last 100 years.\n",
    "This is most likely not because there are this much more disasters happening (which affected people), but rather due to states or other institutions increasing their monitoring and taking recording of natural disasters seriously."
   ]
  },
  {
   "cell_type": "markdown",
   "metadata": {
    "collapsed": false
   },
   "source": [
    "### Death toll"
   ]
  },
  {
   "cell_type": "code",
   "execution_count": null,
   "metadata": {},
   "outputs": [],
   "source": [
    "dis_deaths_per_year = dis_global.groupby('year').sum(numeric_only=True)"
   ]
  },
  {
   "cell_type": "code",
   "execution_count": null,
   "metadata": {},
   "outputs": [],
   "source": [
    "dis_deaths_per_year.head(8)"
   ]
  },
  {
   "cell_type": "code",
   "execution_count": null,
   "metadata": {},
   "outputs": [],
   "source": [
    "dis_deaths_per_year.tail(8)"
   ]
  },
  {
   "cell_type": "code",
   "execution_count": null,
   "metadata": {},
   "outputs": [],
   "source": [
    "sns.lineplot(data = dis_deaths_per_year)\n",
    "plt.show()"
   ]
  },
  {
   "cell_type": "markdown",
   "metadata": {
    "collapsed": false
   },
   "source": [
    "This is unexpected. We saw that the frequency of recorded disasters increased strongly over the past 100 years.\n",
    "But number of people dying from natural disasters certainly has not.\n",
    "We can also see that those are not linear trends. In certain periods of time, disasters seem to occur that have a dramatically high death toll like in the 1920s-1940s and the 1960s. Other periods like the 1950s have almost no recorded deaths (compared to the significant ones). After that 1960s the recorded deaths per year never came close to that, with only minor spikes occurring in the 2000s.\n",
    "\n",
    "The 1920s-1940s can maybe be explained due to historic events and their consequences, like the two world wars, the great depression and political systems collapsing all around the world.\n",
    "\n",
    "For the major disasters happening in the 1960s it is not that obvious to come up with a causal reasoning.\n",
    "This requires further research.\n",
    "\n",
    "It is safe to say that humanity as a whole has improved significantly in preventing disasters with a death toll in the millions.\n",
    "\n",
    "When comparing the deaths by disasters on a normal scale, to see trends, it might be a good idea to exclude those major disasters."
   ]
  },
  {
   "cell_type": "markdown",
   "metadata": {
    "collapsed": false
   },
   "source": [
    "To express how severe the major disasters were in relation to the other disaster, we illustrate them in a boxplot.\n",
    "All the upper outliers are disasters that were so deadly, that the year they occurred is defined by it with all other disasters paling in comparison. That is why some years are extreme outliers."
   ]
  },
  {
   "cell_type": "code",
   "execution_count": null,
   "metadata": {},
   "outputs": [],
   "source": [
    "sns.boxplot( y=dis_deaths_per_year[\"deaths\"] )\n",
    "plt.show()"
   ]
  },
  {
   "cell_type": "markdown",
   "metadata": {
    "collapsed": false
   },
   "source": [
    "Disasters tend to show up periodically but not annually, so maybe it makes more sense for a boxplot to visualize the data grouped by decades, not years.\n",
    "\n",
    "We exclude the 2020 decade since our data only contains disasters that happened before 2023.\n",
    "It therefore makes not much sense to include them in the analysis where wo compare absolute occurrences or the sum of all deaths."
   ]
  },
  {
   "cell_type": "markdown",
   "metadata": {
    "collapsed": false
   },
   "source": [
    "## Decades"
   ]
  },
  {
   "cell_type": "markdown",
   "metadata": {
    "collapsed": false
   },
   "source": [
    "### Frequency"
   ]
  },
  {
   "cell_type": "code",
   "execution_count": null,
   "metadata": {},
   "outputs": [],
   "source": [
    "dis_freq_per_decade = dis_global.copy()\n",
    "dis_freq_per_decade['year'] = dis_freq_per_decade['year'] - dis_freq_per_decade['year'] % 10\n",
    "dis_freq_per_decade = dis_freq_per_decade.groupby('year')[\"type\"].count()\n",
    "dis_freq_per_decade.drop([2020], axis=0, inplace=True)\n",
    "barplot = sns.barplot(data=dis_freq_per_decade.reset_index(), x=\"year\", y=\"type\")\n",
    "barplot.tick_params(axis='x', rotation=90)\n",
    "plt.show()"
   ]
  },
  {
   "cell_type": "markdown",
   "metadata": {
    "collapsed": false
   },
   "source": [
    "### Death toll"
   ]
  },
  {
   "cell_type": "code",
   "execution_count": null,
   "metadata": {},
   "outputs": [],
   "source": [
    "dis_deaths_per_decade = dis_global.copy()\n",
    "dis_deaths_per_decade['year'] = dis_deaths_per_decade['year'] - dis_deaths_per_decade['year'] % 10\n",
    "dis_deaths_per_decade = dis_deaths_per_decade.groupby('year').sum(numeric_only = True)\n",
    "dis_deaths_per_decade.drop([2020], axis=0, inplace=True)\n",
    "barplot = sns.barplot(data=dis_deaths_per_decade.reset_index(), x=\"year\", y=\"deaths\")\n",
    "barplot.tick_params(axis='x', rotation=90)\n",
    "plt.show()"
   ]
  },
  {
   "cell_type": "markdown",
   "metadata": {
    "collapsed": false
   },
   "source": [
    "By grouping the data by decades we should now be able to create a reasonable looking boxplot"
   ]
  },
  {
   "cell_type": "code",
   "execution_count": null,
   "metadata": {},
   "outputs": [],
   "source": [
    "sns.boxplot( y=dis_deaths_per_decade[\"deaths\"]).set(title='Deaths by natural disasters in a decade')\n",
    "plt.show()"
   ]
  },
  {
   "cell_type": "markdown",
   "metadata": {
    "collapsed": false
   },
   "source": [
    "Are there differences in the number of recorded incidents and deaths for different types of disasters ?"
   ]
  },
  {
   "cell_type": "markdown",
   "metadata": {
    "collapsed": false
   },
   "source": [
    "### Droughts"
   ]
  },
  {
   "cell_type": "code",
   "execution_count": null,
   "metadata": {},
   "outputs": [],
   "source": [
    "dis_global[dis_global[\"type\"] == \"Drought\"].subtype.unique()"
   ]
  },
  {
   "cell_type": "code",
   "execution_count": null,
   "metadata": {},
   "outputs": [],
   "source": [
    "dis_droughts_per_year = dis_global[dis_global.type==\"Drought\"].groupby('year').count().drop([\"subtype\", \"deaths\"], axis=1)\n",
    "dis_droughts_per_year.rename(columns={'type':'recorded droughts'}, inplace=True)\n",
    "sns.lineplot(data = dis_droughts_per_year)\n",
    "plt.show()"
   ]
  },
  {
   "cell_type": "code",
   "execution_count": null,
   "metadata": {},
   "outputs": [],
   "source": [
    "dis_deaths_by_droughts_per_year = dis_global[dis_global.type==\"Drought\"].groupby('year').sum(numeric_only=True)\n",
    "sns.lineplot(data = dis_deaths_by_droughts_per_year)\n",
    "plt.show()"
   ]
  },
  {
   "cell_type": "markdown",
   "metadata": {
    "collapsed": false
   },
   "source": [
    "The number of recorded droughts has increases but the number of recorded deaths has decreased.\n",
    "In 40 years no drought has really caused a significant amount of deaths.\n",
    "\n",
    "In the 1920s and the early 1940s extremely lethal droughts occurred.\n",
    "This is also what we saw previously."
   ]
  },
  {
   "cell_type": "markdown",
   "metadata": {
    "collapsed": false
   },
   "source": [
    "### Floods"
   ]
  },
  {
   "cell_type": "code",
   "execution_count": null,
   "metadata": {},
   "outputs": [],
   "source": [
    "dis_global[dis_global.type==\"Flood\"].subtype.unique()"
   ]
  },
  {
   "cell_type": "code",
   "execution_count": null,
   "metadata": {},
   "outputs": [],
   "source": [
    "dis_floods_per_year = dis_global[dis_global.type==\"Flood\"].groupby('year').count().drop([\"subtype\", \"deaths\"], axis=1)\n",
    "dis_floods_uf_per_year = dis_global[dis_global.subtype==\"Uncategorized_Flood\"].groupby('year').count().drop([\"type\", \"deaths\"], axis=1)\n",
    "dis_floods_rf_per_year = dis_global[dis_global.subtype==\"Riverine_flood\"].groupby('year').count().drop([\"type\", \"deaths\"], axis=1)\n",
    "dis_floods_cf_per_year = dis_global[dis_global.subtype==\"Coastal_flood\"].groupby('year').count().drop([\"type\", \"deaths\"], axis=1)\n",
    "dis_floods_ff_per_year = dis_global[dis_global.subtype==\"Flash_flood\"].groupby('year').count().drop([\"type\", \"deaths\"], axis=1)\n",
    "dis_floods_per_year.rename(columns={'type':'recorded floods'}, inplace=True)\n",
    "dis_floods_uf_per_year.rename(columns={'subtype':'recorded un.floods'}, inplace=True)\n",
    "dis_floods_rf_per_year.rename(columns={'subtype':'recorded riverine floods'}, inplace=True)\n",
    "dis_floods_cf_per_year.rename(columns={'subtype':'recorded coastal floods'}, inplace=True)\n",
    "dis_floods_ff_per_year.rename(columns={'subtype':'recorded flash floods'}, inplace=True)\n",
    "dis_floods_freq = [dis_floods_per_year, dis_floods_uf_per_year, dis_floods_rf_per_year, dis_floods_cf_per_year, dis_floods_ff_per_year]\n",
    "sns.lineplot(data = pd.concat(dis_floods_freq, axis=1))\n",
    "plt.show()"
   ]
  },
  {
   "cell_type": "code",
   "execution_count": null,
   "metadata": {},
   "outputs": [],
   "source": [
    "dis_deaths_by_floods_per_year = dis_global[dis_global.type==\"Flood\"].groupby('year').sum(numeric_only=True)\n",
    "dis_deaths_by_floods_uf_per_year = dis_global[dis_global.subtype==\"Uncategorized_Flood\"].groupby('year').sum(numeric_only=True)\n",
    "dis_deaths_by_floods_rf_per_year = dis_global[dis_global.subtype==\"Riverine_flood\"].groupby('year').sum(numeric_only=True)\n",
    "dis_deaths_by_floods_cf_per_year = dis_global[dis_global.subtype==\"Coastal_flood\"].groupby('year').sum(numeric_only=True)\n",
    "dis_deaths_by_floods_ff_per_year = dis_global[dis_global.subtype==\"Flash_flood\"].groupby('year').sum(numeric_only=True)\n",
    "\n",
    "dis_deaths_by_floods_per_year.rename(columns={'deaths':'deaths by floods'}, inplace=True)\n",
    "dis_deaths_by_floods_uf_per_year.rename(columns={'deaths':'deaths by un.floods'}, inplace=True)\n",
    "dis_deaths_by_floods_rf_per_year.rename(columns={'deaths':'deaths by riverine floods'}, inplace=True)\n",
    "dis_deaths_by_floods_cf_per_year.rename(columns={'deaths':'deaths by coastal floods'}, inplace=True)\n",
    "dis_deaths_by_floods_ff_per_year.rename(columns={'deaths':'deaths by flash floods'}, inplace=True)\n",
    "\n",
    "dis_floods_deaths = [dis_deaths_by_floods_per_year, dis_deaths_by_floods_uf_per_year, dis_deaths_by_floods_rf_per_year, dis_deaths_by_floods_cf_per_year, dis_deaths_by_floods_ff_per_year]\n",
    "\n",
    "sns.lineplot(data = pd.concat(dis_floods_deaths, axis = 1))\n",
    "plt.show()"
   ]
  },
  {
   "cell_type": "code",
   "execution_count": null,
   "metadata": {},
   "outputs": [],
   "source": [
    "dis_deaths_by_floods_uf_per_year.head()"
   ]
  },
  {
   "cell_type": "markdown",
   "metadata": {
    "collapsed": false
   },
   "source": [
    "The number of recorded incidents of floods are increasing, like for the other types or recorded disasters in general.\n",
    "We can see that the most lethal floods have occurred in the early 1930s (e.g. China-Flood) as well as the early 1960s.\n",
    "\n",
    "Unlike the other types of disaster, floods do not cause a high number of humans lives in other periods, with the annual death toll being negligible for other time spans.\n",
    "Since the 1960s no flood has ever caused a high number of human casualties again.\n",
    "This might be due to more modern ways of predicting floods earlier as well as people being cautious to live in areas where floods are likely and lethal."
   ]
  },
  {
   "cell_type": "markdown",
   "metadata": {
    "collapsed": false
   },
   "source": [
    "### Earthquakes"
   ]
  },
  {
   "cell_type": "code",
   "execution_count": null,
   "metadata": {},
   "outputs": [],
   "source": [
    "dis_global[dis_global.type==\"Earthquake\"].subtype.unique()"
   ]
  },
  {
   "cell_type": "code",
   "execution_count": null,
   "metadata": {},
   "outputs": [],
   "source": [
    "dis_earthquakes_per_year = dis_global[dis_global.type==\"Earthquake\"].groupby('year').count().drop([\"subtype\", \"deaths\"], axis=1)\n",
    "dis_earthquakes_gm_per_year = dis_global[dis_global.subtype==\"Uncategorized_Earthquake\"].groupby('year').count().drop([\"type\", \"deaths\"], axis=1)\n",
    "dis_earthquakes_ts_per_year = dis_global[dis_global.subtype==\"Ground_movement\"].groupby('year').count().drop([\"type\", \"deaths\"], axis=1)\n",
    "dis_earthquakes_ue_per_year = dis_global[dis_global.subtype==\"Tsunami\"].groupby('year').count().drop([\"type\", \"deaths\"], axis=1)\n",
    "\n",
    "dis_earthquakes_per_year.rename(columns={'type':'recorded earthquakes'}, inplace=True)\n",
    "dis_earthquakes_gm_per_year.rename(columns={'subtype':'recorded ground-movements'}, inplace=True)\n",
    "dis_earthquakes_ts_per_year.rename(columns={'subtype':'recorded tsunamis'}, inplace=True)\n",
    "dis_earthquakes_ue_per_year.rename(columns={'subtype':'recorded uncategorized earthquakes'}, inplace=True)\n",
    "\n",
    "dis_earthquakes_freq = [dis_earthquakes_per_year, dis_earthquakes_gm_per_year, dis_earthquakes_ts_per_year, dis_earthquakes_ue_per_year]\n",
    "sns.lineplot(data = pd.concat(dis_earthquakes_freq, axis=1))\n",
    "plt.show()"
   ]
  },
  {
   "cell_type": "code",
   "execution_count": null,
   "metadata": {},
   "outputs": [],
   "source": [
    "dis_deaths_by_earthquakes_per_year = dis_global[dis_global.type==\"Earthquake\"].groupby('year').sum(numeric_only=True)\n",
    "dis_deaths_by_earthquakes_gm_per_year = dis_global[dis_global.subtype==\"Uncategorized_Earthquake\"].groupby('year').sum(numeric_only=True)\n",
    "dis_deaths_by_earthquakes_ts_per_year = dis_global[dis_global.subtype==\"Ground_movement\"].groupby('year').sum(numeric_only=True)\n",
    "dis_deaths_by_earthquakes_ue_per_year = dis_global[dis_global.subtype==\"Tsunami\"].groupby('year').sum(numeric_only=True)\n",
    "\n",
    "dis_deaths_by_earthquakes_per_year.rename(columns={'deaths':'deaths by earthquakes'}, inplace=True)\n",
    "dis_deaths_by_earthquakes_gm_per_year.rename(columns={'deaths':'deaths by ground-movements'}, inplace=True)\n",
    "dis_deaths_by_earthquakes_ts_per_year.rename(columns={'deaths':'deaths by tsunamis'}, inplace=True)\n",
    "dis_deaths_by_earthquakes_ue_per_year.rename(columns={'deaths':'deaths by un. earthquakes'}, inplace=True)\n",
    "\n",
    "dis_earthquakes_deaths = [dis_deaths_by_earthquakes_per_year, dis_deaths_by_earthquakes_gm_per_year, dis_deaths_by_earthquakes_ts_per_year, dis_deaths_by_earthquakes_ue_per_year]\n",
    "\n",
    "sns.lineplot(data = pd.concat(dis_earthquakes_deaths, axis=1))\n",
    "plt.show()"
   ]
  },
  {
   "cell_type": "markdown",
   "metadata": {
    "collapsed": false
   },
   "source": [
    "The frequency of all recorded disaster has drastically increased over the last 100 years, but earthquakes seem to be the one disaster type people have been somewhat reliably tracking even in the first part of the 19th century.\n",
    "It still increased, but not as drastically as the other ones.\n",
    "\n",
    "The recorded deaths per year spiked again in the 1920s, like almost all other types of disasters but also in the late 1970s and the 2000s.\n",
    "\n",
    "Here we can see that the spikes in deaths we saw earlier in the 2000s probably are caused by those earthquakes.\n",
    "A reason might be that droughts and floods are easier to prevent with modern technology or global aid programs, while earthquakes are more difficult to prevent even in our modern world.\n",
    "They are still nowhere nearly as deadly as the floods and droughts 50 years earlier have been."
   ]
  },
  {
   "cell_type": "markdown",
   "metadata": {
    "collapsed": false
   },
   "source": [
    "### Extreme temperature"
   ]
  },
  {
   "cell_type": "code",
   "execution_count": null,
   "metadata": {},
   "outputs": [],
   "source": [
    "dis_extemp_freq_per_year = dis_global[dis_global.type==\"Extreme_temperature\"].groupby('year').count().drop([\"subtype\", \"deaths\"], axis=1)\n",
    "dis_extemp_freq_per_year.rename(columns={'type':'recorded instances of extreme temperatures'}, inplace=True)\n",
    "sns.lineplot(data = dis_extemp_freq_per_year)\n",
    "plt.show()"
   ]
  },
  {
   "cell_type": "markdown",
   "metadata": {
    "collapsed": false
   },
   "source": [
    "We can observe that like most other disasters, extreme weather as a natural disaster was not even recorded prior to the 1940s. Furthermore, occurrences in a decently sized annual number have only started to appear since the start of the 1980s."
   ]
  },
  {
   "cell_type": "code",
   "execution_count": null,
   "metadata": {},
   "outputs": [],
   "source": [
    "dis_extemp_deaths_per_year = dis_global[dis_global.type==\"Extreme_temperature\"].groupby('year').sum(numeric_only=True)\n",
    "dis_extemp_deaths_per_year.head()\n",
    "dis_extemp_deaths_per_year.rename(columns={'type':'recorded extreme temperatures'}, inplace=True)\n",
    "sns.lineplot(data = dis_extemp_deaths_per_year)\n",
    "plt.show()"
   ]
  },
  {
   "cell_type": "markdown",
   "metadata": {
    "collapsed": false
   },
   "source": [
    "The plot shows that almost nobody died as a result of extreme weather conditions prior to the year 2000.\n",
    "While the deaths increased over time from 2000 until now, 2 years with an exorbitant death toll stand out in particular."
   ]
  },
  {
   "cell_type": "code",
   "execution_count": null,
   "metadata": {},
   "outputs": [],
   "source": [
    "dis_extemp_deaths_per_year.sort_values(by=\"deaths\", ascending = False).head(3)"
   ]
  },
  {
   "cell_type": "markdown",
   "metadata": {
    "collapsed": false
   },
   "source": [
    "Upon closer inspection we see that the years 2003 and 2010 have a death toll that is bigger than all other by orders of magnitude.\n",
    "I suspect that these high numbers of deaths were caused by heat waves, since they are by far the most deadly."
   ]
  },
  {
   "cell_type": "code",
   "execution_count": null,
   "metadata": {},
   "outputs": [],
   "source": [
    "dis_extemp_deaths = dis_global[dis_global.subtype==\"Heat_wave\"]\n",
    "dis_extemp_deaths.sort_values(by=\"deaths\", ascending = False).head(3)"
   ]
  },
  {
   "cell_type": "markdown",
   "metadata": {
    "collapsed": false
   },
   "source": [
    "As expected, we see that the spikes in deaths in 2010 and 2003 were mainly caused by intense heat waves.\n",
    "The surprise comes with location at the location. This all happened in europe, which was previously almost never had problems with people dying from natural disasters, excluding the time before the 1970s.\n",
    "In 2003 europe saw the hottest summer recorded in Europe since at least 1540."
   ]
  },
  {
   "cell_type": "code",
   "execution_count": null,
   "metadata": {},
   "outputs": [],
   "source": [
    "dis_global[dis_global.type==\"Extreme_temperature\"].subtype.unique()"
   ]
  },
  {
   "cell_type": "markdown",
   "metadata": {
    "collapsed": false
   },
   "source": [
    "Not all occurrence of extreme temperatures are heatwaves, there are also cold waves and severe winter conditions. Therefore, we look at how often each type occurred."
   ]
  },
  {
   "cell_type": "code",
   "execution_count": null,
   "metadata": {},
   "outputs": [],
   "source": [
    "dis_extemp_freq_per_subtype = dis_global[dis_global.type==\"Extreme_temperature\"].reset_index().drop(columns=['year', 'deaths'], axis=1).groupby('subtype').count()\n",
    "barplot = sns.barplot(data=dis_extemp_freq_per_subtype.reset_index(), x=\"subtype\", y=\"type\")\n",
    "barplot.tick_params(axis='x', rotation=90)\n",
    "barplot.set_ylabel(\"Frequency\")\n",
    "plt.show()"
   ]
  },
  {
   "cell_type": "markdown",
   "metadata": {
    "collapsed": false
   },
   "source": [
    "Cold waves are more common than heat waves but not by much.\n",
    "Recorded instances of severe winter conditions are rare in comparison.\n",
    "Nonetheless, we need to split the observations by subtype if we want to inspect the deaths by heat waves in relationship to rising global temperatures later on."
   ]
  },
  {
   "cell_type": "markdown",
   "metadata": {
    "collapsed": false
   },
   "source": [
    "Number of occurrences of different subtypes of extreme weather conditions over time."
   ]
  },
  {
   "cell_type": "code",
   "execution_count": null,
   "metadata": {},
   "outputs": [],
   "source": [
    "dis_coldwave_freq_per_year = dis_global[dis_global.subtype==\"Cold_wave\"].groupby('year').size().rename(\"occurrences_of_cw\", inplace=True)\n",
    "dis_heatwave_freq_per_year = dis_global[dis_global.subtype==\"Heat_wave\"].groupby('year').size().rename(\"occurrences_of_hw\", inplace=True)\n",
    "dis_swc_freq_per_year = dis_global[dis_global.subtype==\"Severe_winter_conditions\"].groupby('year').size().rename(\"occurrences_of_swc\", inplace=True)\n",
    "dis_freq_per_year_per_subtype = pd.concat([dis_coldwave_freq_per_year, dis_heatwave_freq_per_year, dis_swc_freq_per_year], axis=1).fillna(0)\n",
    "sns.lineplot(data=dis_freq_per_year_per_subtype)\n",
    "plt.show()"
   ]
  },
  {
   "cell_type": "markdown",
   "metadata": {
    "collapsed": false
   },
   "source": [
    "It is apparent that years with a exceptionally number of occurrences by cold waves are happening since the early 2000s, which can not be said about the other forms of extreme temperature.\n",
    "Spikes in the number of heat waves per year have nonetheless become much more common in the 2000s and beyond.\n",
    "\n",
    "Like most other disasters, tracking them reliably has only really started in the last 50 years.\n",
    "With extreme weather conditions this is even more extreme, with observations only showing up in decent numbers around the 1990s. Surely extreme weather conditions have happened before in similar numbers but where probably not recorded.\n",
    "This might be due to the nature of these kinds of disasters. An earthquake is much flashier in its effects, than really high temperatures around the country for several days or weeks. 95% of people could be totally fine when a heatwave in vienna is happening for example, with some people even enjoying it. This makes them nonetheless dangerous for a small number of vulnerable people, especially the elderly."
   ]
  },
  {
   "cell_type": "markdown",
   "metadata": {
    "collapsed": false
   },
   "source": [
    "Death toll of different subtypes of extreme weather conditions split by subtypes."
   ]
  },
  {
   "cell_type": "code",
   "execution_count": null,
   "metadata": {},
   "outputs": [],
   "source": [
    "dis_extemp_deaths_per_subtype = dis_global[dis_global.type==\"Extreme_temperature\"].reset_index().groupby('subtype').sum(numeric_only=True)\n",
    "dis_extemp_deaths_per_subtype[\"deaths\"].sort_values(ascending = False)"
   ]
  },
  {
   "cell_type": "code",
   "execution_count": null,
   "metadata": {},
   "outputs": [],
   "source": [
    "barplot = sns.barplot(data=dis_extemp_deaths_per_subtype.reset_index(), x=\"subtype\", y=\"deaths\")\n",
    "barplot.tick_params(axis='x', rotation=90)\n",
    "barplot.set_ylabel(\"deaths\")\n",
    "plt.show()"
   ]
  },
  {
   "cell_type": "markdown",
   "metadata": {
    "collapsed": false
   },
   "source": [
    "According to our data, Heat waves are by far the most dangerous subtype of extreme weather conditions, with over 90% of all deaths by this type of disasters caused by them."
   ]
  },
  {
   "cell_type": "markdown",
   "metadata": {
    "collapsed": false
   },
   "source": [
    "### Death toll per year over time"
   ]
  },
  {
   "cell_type": "code",
   "execution_count": null,
   "metadata": {},
   "outputs": [],
   "source": [
    "dis_coldwave_deaths_per_year = dis_global[dis_global.subtype==\"Cold_wave\"].groupby('year').sum(numeric_only=True)\n",
    "dis_coldwave_deaths_per_year.rename(columns={\"deaths\":\"deaths_by_cw\"}, inplace=True)\n",
    "dis_heatwave_deaths_per_year = dis_global[dis_global.subtype==\"Heat_wave\"].groupby('year').sum(numeric_only=True)\n",
    "dis_heatwave_deaths_per_year.rename(columns={\"deaths\":\"deaths_by_hw\"}, inplace=True)\n",
    "dis_swc_deaths_per_year = dis_global[dis_global.subtype==\"Severe_winter_conditions\"].groupby('year').sum(numeric_only=True)\n",
    "dis_swc_deaths_per_year.rename(columns={\"deaths\":\"deaths_by_swc\"}, inplace=True)\n",
    "dis_deaths_per_year_per_subtype = pd.concat([dis_coldwave_deaths_per_year, dis_heatwave_deaths_per_year, dis_swc_deaths_per_year], axis=1).fillna(0)\n",
    "sns.lineplot(data=dis_deaths_per_year_per_subtype)\n",
    "plt.show()"
   ]
  },
  {
   "cell_type": "markdown",
   "metadata": {
    "collapsed": false
   },
   "source": [
    "Since we do not have much data for disasters of type extreme temperature, out graph is distorted.\n",
    "To get a better sense of a trend, let us now group the data by decades.\n",
    "We remove the cumulated data from the present decade since it just started."
   ]
  },
  {
   "cell_type": "code",
   "execution_count": null,
   "metadata": {},
   "outputs": [],
   "source": [
    "dis_extemp_deaths_per_decade = dis_deaths_per_year_per_subtype.reset_index()\n",
    "dis_extemp_deaths_per_decade['year'] = dis_extemp_deaths_per_decade['year'] - dis_extemp_deaths_per_decade['year'] % 10\n",
    "dis_extemp_deaths_per_decade = dis_extemp_deaths_per_decade.groupby('year').sum(numeric_only=True)\n",
    "dis_extemp_deaths_per_decade.drop([2020], axis=0, inplace=True)\n",
    "dis_extemp_deaths_per_decade.tail()\n",
    "sns.lineplot(dis_extemp_deaths_per_decade)\n",
    "plt.show()"
   ]
  },
  {
   "cell_type": "markdown",
   "metadata": {
    "collapsed": false
   },
   "source": [
    "Now we can observe the trend more clearly, the number of deaths by heatwaves has significantly increased since the 1990s.\n",
    "For the two other subtypes, cold waves and severe winter condition, this is can not be said. Their death toll per year mostly stayed the same. Especially for deaths by cold waves, this is odd, since their number increased the most after the turn of the century."
   ]
  },
  {
   "cell_type": "markdown",
   "metadata": {
    "collapsed": false
   },
   "source": [
    "### Storms\n",
    "\n",
    "amk"
   ]
  },
  {
   "cell_type": "code",
   "execution_count": null,
   "metadata": {},
   "outputs": [],
   "source": [
    "dis_storms_per_year = dis_global[dis_global.type==\"Storm\"]\n",
    "dis_storms_per_year.subtype.unique()"
   ]
  },
  {
   "cell_type": "code",
   "execution_count": null,
   "metadata": {},
   "outputs": [],
   "source": [
    "dis_deaths_by_storms_per_year = dis_global[dis_global.type==\"Flood\"].groupby('year').count().drop([\"subtype\", \"deaths\"], axis=1)\n",
    "dis_deaths_by_storms_tc_per_year = dis_global[dis_global.subtype==\"Tropical_cyclone\"].groupby('year').count().drop([\"type\", \"deaths\"], axis=1)\n",
    "dis_deaths_by_storms_cs_per_year = dis_global[dis_global.subtype==\"Convective_storm\"].groupby('year').count().drop([\"type\", \"deaths\"], axis=1)\n",
    "dis_deaths_by_storms_ets_per_year = dis_global[dis_global.subtype==\"Extra-tropical_storm\"].groupby('year').count().drop([\"type\", \"deaths\"], axis=1)\n",
    "dis_deaths_by_storms_us_per_year = dis_global[dis_global.subtype==\"Uncategorized_Storm\"].groupby('year').count().drop([\"type\", \"deaths\"], axis=1)\n",
    "\n",
    "dis_deaths_by_storms_per_year.rename(columns={'type':'recorded storms'}, inplace=True)\n",
    "dis_deaths_by_storms_tc_per_year.rename(columns={'subtype':'recorded tropical-cyclones'}, inplace=True)\n",
    "dis_deaths_by_storms_cs_per_year.rename(columns={'subtype':'recorded convective storms'}, inplace=True)\n",
    "dis_deaths_by_storms_ets_per_year.rename(columns={'subtype':'recorded extra-tropical storms'}, inplace=True)\n",
    "dis_deaths_by_storms_us_per_year.rename(columns={'subtype':'recorded uncategorized storms'}, inplace=True)\n",
    "\n",
    "dis_storms_deaths = [dis_deaths_by_storms_per_year, dis_deaths_by_storms_tc_per_year, dis_deaths_by_storms_cs_per_year, dis_deaths_by_storms_ets_per_year, dis_deaths_by_storms_us_per_year]\n",
    "\n",
    "sns.lineplot(data = pd.concat(dis_storms_deaths, axis=1))\n",
    "plt.show()"
   ]
  },
  {
   "cell_type": "code",
   "execution_count": null,
   "metadata": {},
   "outputs": [],
   "source": [
    "dis_deaths_by_storms_per_year = dis_global[dis_global.type==\"Earthquake\"].groupby('year').sum(numeric_only=True)\n",
    "dis_deaths_by_storms_ts_per_year = dis_global[dis_global.subtype==\"Uncategorized_Earthquake\"].groupby('year').sum(numeric_only=True)\n",
    "dis_deaths_by_storms_cs_per_year = dis_global[dis_global.subtype==\"Ground_movement\"].groupby('year').sum(numeric_only=True)\n",
    "dis_deaths_by_storms_ets_per_year = dis_global[dis_global.subtype==\"Tsunami\"].groupby('year').sum(numeric_only=True)\n",
    "dis_deaths_by_storms_us_per_year = dis_global[dis_global.subtype==\"Tsunami\"].groupby('year').sum(numeric_only=True)\n",
    "\n",
    "dis_deaths_by_storms_per_year.rename(columns={'deaths':'deaths by storms'}, inplace=True)\n",
    "dis_deaths_by_storms_ts_per_year.rename(columns={'deaths':'deaths by tropical-cyclones'}, inplace=True)\n",
    "dis_deaths_by_storms_cs_per_year.rename(columns={'deaths':'deaths by convective storms'}, inplace=True)\n",
    "dis_deaths_by_storms_ets_per_year.rename(columns={'deaths':'deaths by extra-tropical storms'}, inplace=True)\n",
    "dis_deaths_by_storms_us_per_year.rename(columns={'deaths':'deaths by uncategorized storms'}, inplace=True)\n",
    "\n",
    "dis_earthquakes_deaths = [dis_deaths_by_earthquakes_per_year, dis_deaths_by_earthquakes_gm_per_year, dis_deaths_by_earthquakes_ts_per_year, dis_deaths_by_earthquakes_ue_per_year]\n",
    "\n",
    "sns.lineplot(data = pd.concat(dis_earthquakes_deaths, axis=1))\n",
    "plt.show()\n",
    "\n",
    "dis_deaths_by_storms_per_year = dis_global[dis_global.type==\"Storm\"].groupby('year').sum(numeric_only=True)\n",
    "sns.lineplot(data = dis_deaths_by_storms_per_year)\n",
    "plt.show()"
   ]
  },
  {
   "cell_type": "markdown",
   "metadata": {
    "collapsed": false
   },
   "source": [
    "Like all disasters, the number of recorded storms has drastically increased over the past 100 years.\n",
    "Noticeable is that the recorded deaths by storms seem to be the most consistent over the years.\n",
    "Looking at the plot we can see that roughly every 20 years storms occurs which cause a great amount of human casualties.\n",
    "Maybe this can be linked to the periodical behaviour of storms such as El Niño.\n",
    "\n",
    "Significant is also the storm in the 1970s which has by far the highest death toll.\n",
    "Let us take a closer look at this one."
   ]
  },
  {
   "cell_type": "code",
   "execution_count": null,
   "metadata": {},
   "outputs": [],
   "source": [
    "dis_deaths_by_storms_per_year.sort_values(by=\"deaths\", ascending = False).head()"
   ]
  },
  {
   "cell_type": "markdown",
   "metadata": {
    "collapsed": false
   },
   "source": [
    "This disaster was a storm named the \"1970 Bhola cyclone\", also known as the \"Great Cyclone of 1970\" and was a tropcial cyclone that hit East-Pakistan (present-day Bangladesh) and parts of India. It killed as much as 3 million people and went down in history as one of the deadliest natural disasters of all time.\n",
    "It was the strongest cyclonic storm of the 1970 North Indian Ocean cyclone season."
   ]
  }
 ],
 "metadata": {
  "kernelspec": {
   "display_name": "Python 3",
   "language": "python",
   "name": "python3"
  },
  "language_info": {
   "codemirror_mode": {
    "name": "ipython",
    "version": 2
   },
   "file_extension": ".py",
   "mimetype": "text/x-python",
   "name": "python",
   "nbconvert_exporter": "python",
   "pygments_lexer": "ipython2",
   "version": "2.7.6"
  }
 },
 "nbformat": 4,
 "nbformat_minor": 0
}