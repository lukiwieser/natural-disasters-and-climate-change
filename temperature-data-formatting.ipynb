{
 "cells": [
  {
   "cell_type": "code",
   "execution_count": 46,
   "metadata": {
    "collapsed": true
   },
   "outputs": [],
   "source": [
    "import numpy as np\n",
    "import pandas as pd"
   ]
  },
  {
   "cell_type": "markdown",
   "source": [
    "## Format temperature anomalies"
   ],
   "metadata": {
    "collapsed": false
   }
  },
  {
   "cell_type": "code",
   "execution_count": 47,
   "outputs": [],
   "source": [
    "def clear_file(file_path, clear_file_path):\n",
    "    marker = []\n",
    "    with open(file_path, \"r\") as file:\n",
    "        content = file.readlines()\n",
    "    for i in range(len(content)):\n",
    "        if content[i][0] == \"%\":\n",
    "            marker.append(i)\n",
    "    with open(clear_file_path, \"a\") as file:\n",
    "        for i in range(len(content)): # loop into the list\n",
    "            if not i in marker: # if the index is not in marker list, then continue writing into file\n",
    "                file.writelines(content[i])"
   ],
   "metadata": {
    "collapsed": false
   }
  },
  {
   "cell_type": "code",
   "execution_count": 48,
   "outputs": [],
   "source": [
    "path_raw_temp_data = 'data/raw/temperature/'\n",
    "path_processed_temp_data = 'data/processed/temperature/'\n",
    "path_global_land_ocean_file = 'global-land-ocean.txt'"
   ],
   "metadata": {
    "collapsed": false
   }
  },
  {
   "cell_type": "code",
   "execution_count": 49,
   "outputs": [],
   "source": [
    "clear_file(path_raw_temp_data+path_global_land_ocean_file, path_processed_temp_data+path_global_land_ocean_file)\n",
    "data = pd.read_fwf(path_processed_temp_data+path_global_land_ocean_file)\n",
    "data.columns = [\"Year\", \"Annual Anomaly\", \"Annual Unc.\", \"Five-year Anomaly\", \"Five-year Unc.\", \"Annual Anomaly\", \"Annual Unc.\", \"Five-year Anomaly\", \"Five-year Unc.\"]"
   ],
   "metadata": {
    "collapsed": false
   }
  },
  {
   "cell_type": "code",
   "execution_count": 50,
   "outputs": [
    {
     "data": {
      "text/plain": "   Year  Annual Anomaly  Annual Unc.  Five-year Anomaly  Five-year Unc.  \\\n0  1851          -0.327        0.169                NaN             NaN   \n1  1852          -0.300        0.170             -0.334           0.149   \n2  1853          -0.306        0.180             -0.302           0.148   \n\n   Annual Anomaly  Annual Unc.  Five-year Anomaly  Five-year Unc.  \n0          -0.324        0.154                NaN             NaN  \n1          -0.286        0.154             -0.323           0.134  \n2          -0.294        0.159             -0.292           0.132  ",
      "text/html": "<div>\n<style scoped>\n    .dataframe tbody tr th:only-of-type {\n        vertical-align: middle;\n    }\n\n    .dataframe tbody tr th {\n        vertical-align: top;\n    }\n\n    .dataframe thead th {\n        text-align: right;\n    }\n</style>\n<table border=\"1\" class=\"dataframe\">\n  <thead>\n    <tr style=\"text-align: right;\">\n      <th></th>\n      <th>Year</th>\n      <th>Annual Anomaly</th>\n      <th>Annual Unc.</th>\n      <th>Five-year Anomaly</th>\n      <th>Five-year Unc.</th>\n      <th>Annual Anomaly</th>\n      <th>Annual Unc.</th>\n      <th>Five-year Anomaly</th>\n      <th>Five-year Unc.</th>\n    </tr>\n  </thead>\n  <tbody>\n    <tr>\n      <th>0</th>\n      <td>1851</td>\n      <td>-0.327</td>\n      <td>0.169</td>\n      <td>NaN</td>\n      <td>NaN</td>\n      <td>-0.324</td>\n      <td>0.154</td>\n      <td>NaN</td>\n      <td>NaN</td>\n    </tr>\n    <tr>\n      <th>1</th>\n      <td>1852</td>\n      <td>-0.300</td>\n      <td>0.170</td>\n      <td>-0.334</td>\n      <td>0.149</td>\n      <td>-0.286</td>\n      <td>0.154</td>\n      <td>-0.323</td>\n      <td>0.134</td>\n    </tr>\n    <tr>\n      <th>2</th>\n      <td>1853</td>\n      <td>-0.306</td>\n      <td>0.180</td>\n      <td>-0.302</td>\n      <td>0.148</td>\n      <td>-0.294</td>\n      <td>0.159</td>\n      <td>-0.292</td>\n      <td>0.132</td>\n    </tr>\n  </tbody>\n</table>\n</div>"
     },
     "execution_count": 50,
     "metadata": {},
     "output_type": "execute_result"
    }
   ],
   "source": [
    "data.head(3)"
   ],
   "metadata": {
    "collapsed": false
   }
  },
  {
   "cell_type": "code",
   "execution_count": null,
   "outputs": [],
   "source": [],
   "metadata": {
    "collapsed": false
   }
  }
 ],
 "metadata": {
  "kernelspec": {
   "display_name": "Python 3",
   "language": "python",
   "name": "python3"
  },
  "language_info": {
   "codemirror_mode": {
    "name": "ipython",
    "version": 2
   },
   "file_extension": ".py",
   "mimetype": "text/x-python",
   "name": "python",
   "nbconvert_exporter": "python",
   "pygments_lexer": "ipython2",
   "version": "2.7.6"
  }
 },
 "nbformat": 4,
 "nbformat_minor": 0
}
