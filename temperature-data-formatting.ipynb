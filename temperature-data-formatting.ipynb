{
 "cells": [
  {
   "cell_type": "code",
   "execution_count": 53,
   "metadata": {
    "collapsed": true
   },
   "outputs": [],
   "source": [
    "import numpy as np\n",
    "import pandas as pd"
   ]
  },
  {
   "cell_type": "markdown",
   "source": [
    "## Load and format the temperature anomaly data"
   ],
   "metadata": {
    "collapsed": false
   }
  },
  {
   "cell_type": "code",
   "execution_count": 54,
   "outputs": [],
   "source": [
    "path_raw_temp_data = 'data/raw/temperature/'\n",
    "path_processed_temp_data = 'data/processed/temperature/'"
   ],
   "metadata": {
    "collapsed": false
   }
  },
  {
   "cell_type": "code",
   "execution_count": 55,
   "outputs": [],
   "source": [
    "path_countries_land_files = 'countries-land/'\n",
    "path_countries_list_file = 'temp-countries-list.csv'"
   ],
   "metadata": {
    "collapsed": false
   }
  },
  {
   "cell_type": "code",
   "execution_count": 56,
   "outputs": [
    {
     "name": "stdout",
     "output_type": "stream",
     "text": [
      "            Country ISO-alpha3\n",
      "0       Afghanistan        AFG\n",
      "1     Åland Islands        ALA\n",
      "2           Albania        ALB\n",
      "3           Algeria        DZA\n",
      "4    American Samoa        ASM\n",
      "..              ...        ...\n",
      "228  Virgin Islands        VIR\n",
      "229  Western Sahara        ESH\n",
      "230           Yemen        YEM\n",
      "231          Zambia        ZMB\n",
      "232        Zimbabwe        ZWE\n",
      "\n",
      "[233 rows x 2 columns]\n"
     ]
    }
   ],
   "source": [
    "# Todo: remove loading temp_countries from processed data when combining jupyter notebooks\n",
    "temp_countries: pd.DataFrame = pd.read_csv(path_processed_temp_data+path_countries_list_file,sep=',')\n",
    "print(temp_countries)"
   ],
   "metadata": {
    "collapsed": false
   }
  },
  {
   "cell_type": "markdown",
   "source": [
    "### Load temp-land-country data"
   ],
   "metadata": {
    "collapsed": false
   }
  },
  {
   "cell_type": "code",
   "execution_count": 100,
   "outputs": [
    {
     "data": {
      "text/plain": "  country code country name  Year Month  Monthly Anomaly  Monthly Unc.  \\\n0          AFG  Afghanistan  1848     5           -0.297         2.037   \n1          AFG  Afghanistan  1848     6           -0.796         2.136   \n2          AFG  Afghanistan  1848     7           -0.113         1.937   \n3          AFG  Afghanistan  1848     8           -0.462         1.937   \n4          AFG  Afghanistan  1848     9           -1.272         1.865   \n\n   Five-year Anomaly  Five-year Unc.  Ten-year Anomaly  Ten-year Unc.  \\\n0                NaN             NaN               NaN            NaN   \n1                NaN             NaN               NaN            NaN   \n2                NaN             NaN               NaN            NaN   \n3                NaN             NaN               NaN            NaN   \n4                NaN             NaN               NaN            NaN   \n\n   Twenty-year Anomaly  Twenty-year Unc.  Annual Anomaly  Annual Unc.  \n0                  NaN               NaN             NaN          NaN  \n1                  NaN               NaN             NaN          NaN  \n2                  NaN               NaN          -0.777        0.639  \n3                  NaN               NaN          -0.743        0.644  \n4                  NaN               NaN          -0.676        0.669  ",
      "text/html": "<div>\n<style scoped>\n    .dataframe tbody tr th:only-of-type {\n        vertical-align: middle;\n    }\n\n    .dataframe tbody tr th {\n        vertical-align: top;\n    }\n\n    .dataframe thead th {\n        text-align: right;\n    }\n</style>\n<table border=\"1\" class=\"dataframe\">\n  <thead>\n    <tr style=\"text-align: right;\">\n      <th></th>\n      <th>country code</th>\n      <th>country name</th>\n      <th>Year</th>\n      <th>Month</th>\n      <th>Monthly Anomaly</th>\n      <th>Monthly Unc.</th>\n      <th>Five-year Anomaly</th>\n      <th>Five-year Unc.</th>\n      <th>Ten-year Anomaly</th>\n      <th>Ten-year Unc.</th>\n      <th>Twenty-year Anomaly</th>\n      <th>Twenty-year Unc.</th>\n      <th>Annual Anomaly</th>\n      <th>Annual Unc.</th>\n    </tr>\n  </thead>\n  <tbody>\n    <tr>\n      <th>0</th>\n      <td>AFG</td>\n      <td>Afghanistan</td>\n      <td>1848</td>\n      <td>5</td>\n      <td>-0.297</td>\n      <td>2.037</td>\n      <td>NaN</td>\n      <td>NaN</td>\n      <td>NaN</td>\n      <td>NaN</td>\n      <td>NaN</td>\n      <td>NaN</td>\n      <td>NaN</td>\n      <td>NaN</td>\n    </tr>\n    <tr>\n      <th>1</th>\n      <td>AFG</td>\n      <td>Afghanistan</td>\n      <td>1848</td>\n      <td>6</td>\n      <td>-0.796</td>\n      <td>2.136</td>\n      <td>NaN</td>\n      <td>NaN</td>\n      <td>NaN</td>\n      <td>NaN</td>\n      <td>NaN</td>\n      <td>NaN</td>\n      <td>NaN</td>\n      <td>NaN</td>\n    </tr>\n    <tr>\n      <th>2</th>\n      <td>AFG</td>\n      <td>Afghanistan</td>\n      <td>1848</td>\n      <td>7</td>\n      <td>-0.113</td>\n      <td>1.937</td>\n      <td>NaN</td>\n      <td>NaN</td>\n      <td>NaN</td>\n      <td>NaN</td>\n      <td>NaN</td>\n      <td>NaN</td>\n      <td>-0.777</td>\n      <td>0.639</td>\n    </tr>\n    <tr>\n      <th>3</th>\n      <td>AFG</td>\n      <td>Afghanistan</td>\n      <td>1848</td>\n      <td>8</td>\n      <td>-0.462</td>\n      <td>1.937</td>\n      <td>NaN</td>\n      <td>NaN</td>\n      <td>NaN</td>\n      <td>NaN</td>\n      <td>NaN</td>\n      <td>NaN</td>\n      <td>-0.743</td>\n      <td>0.644</td>\n    </tr>\n    <tr>\n      <th>4</th>\n      <td>AFG</td>\n      <td>Afghanistan</td>\n      <td>1848</td>\n      <td>9</td>\n      <td>-1.272</td>\n      <td>1.865</td>\n      <td>NaN</td>\n      <td>NaN</td>\n      <td>NaN</td>\n      <td>NaN</td>\n      <td>NaN</td>\n      <td>NaN</td>\n      <td>-0.676</td>\n      <td>0.669</td>\n    </tr>\n  </tbody>\n</table>\n</div>"
     },
     "execution_count": 100,
     "metadata": {},
     "output_type": "execute_result"
    }
   ],
   "source": [
    "temp_land_country = pd.DataFrame(columns=[\"country code\", \"country name\", \"Year\", \"Month\", \"Monthly Anomaly\", \"Monthly Unc.\", \"Five-year Anomaly\", \"Five-year Unc.\", \"Ten-year Anomaly\", \"Ten-year Unc.\", \"Twenty-year Anomaly\", \"Twenty-year Unc.\"])\n",
    "\n",
    "country_names = temp_countries['Country']\n",
    "\n",
    "# Todo when combining use the dictionary in the data-integration notebook\n",
    "new_country_names = {\n",
    "    \"Denmark (Europe)\": \"Denmark\",\n",
    "    \"France (Europe)\": \"France\",\n",
    "    \"Netherlands (Europe)\": \"Netherlands\",\n",
    "    \"United Kingdom (Europe)\": \"United Kingdom\",\n",
    "    \"Åland\": \"Åland Islands\",\n",
    "    \"Czech Republic\": \"Czechia\",\n",
    "    \"Turkey\": \"Türkiye\",\n",
    "    \"Svalbard and Jan Mayen\": \"Svalbard and Jan Mayen Islands\",\n",
    "    \"Cape Verde\": \"Cabo Verde\",\n",
    "    \"Turks and Caicas Islands\": \"Turks and Caicos Islands\",\n",
    "    \"Swaziland\": \"Eswatini\",\n",
    "    \"Macedonia\": \"North Macedonia\",\n",
    "    \"Côte d'Ivoire\": \"Côte d’Ivoire\",\n",
    "    \"Federated States of Micronesia\": \"Micronesia (Federated States of)\",\n",
    "    \"South Georgia and the South Sandwich Isla\": \"South Georgia and the South Sandwich Islands\",\n",
    "    \"Bonaire, Saint Eustatius and Saba\": \"Bonaire, Sint Eustatius and Saba\",\n",
    "    \"Congo (Democratic Republic of the)\": \"Democratic Republic of the Congo\",\n",
    "    \"South Korea\": \"Korea, South\",\n",
    "    \"North Korea\": \"Korea, North\",\n",
    "    \"Palestina\": \"State of Palestine\"\n",
    "}\n",
    "\n",
    "def swap_keys_values(d):\n",
    "    return {v: k for k, v in d.items()}\n",
    "\n",
    "map_country_to_filename = swap_keys_values(new_country_names)\n",
    "\n",
    "# Todo shorten list of countries during development, change later before running the final script\n",
    "country_names = country_names[0:10]\n",
    "\n",
    "column_names = [\"Year\", \"Month\", \"Monthly Anomaly\", \"Monthly Unc.\", \"Annual Anomaly\", \"Annual Unc.\", \"Five-year Anomaly\", \"Five-year Unc.\", \"Ten-year Anomaly\", \"Ten-year Unc.\", \"Twenty-year Anomaly\", \"Twenty-year Unc.\"]\n",
    "\n",
    "for country_name in country_names:\n",
    "    country_file_name = country_name\n",
    "    if country_name in map_country_to_filename:\n",
    "        country_file_name = map_country_to_filename[country_name]\n",
    "    path = path_raw_temp_data + path_countries_land_files + country_file_name + '.txt'\n",
    "    one_country = pd.read_csv(path, comment=\"%\", header=None, delim_whitespace=True)\n",
    "    one_country.columns=column_names\n",
    "\n",
    "    iso_name = temp_countries.loc[temp_countries['Country'] == country_name]['ISO-alpha3'].iloc[0]\n",
    "\n",
    "    one_country['country code'] = iso_name\n",
    "    one_country['country name'] = country_name\n",
    "\n",
    "    temp_land_country = pd.concat([temp_land_country, one_country])\n",
    "\n",
    "temp_land_country.head()"
   ],
   "metadata": {
    "collapsed": false
   }
  },
  {
   "cell_type": "markdown",
   "source": [
    "### Create temp-land-region data"
   ],
   "metadata": {
    "collapsed": false
   }
  },
  {
   "cell_type": "markdown",
   "source": [
    "The region datasets get created from the temp-and-country dataset."
   ],
   "metadata": {
    "collapsed": false
   }
  },
  {
   "cell_type": "code",
   "execution_count": 59,
   "outputs": [],
   "source": [
    "# Todo: Calculate regional anomalies\n",
    "\n",
    "# Todo: compare to the original regional data"
   ],
   "metadata": {
    "collapsed": false
   }
  },
  {
   "cell_type": "markdown",
   "source": [
    "### Load global-land-ocean dataset"
   ],
   "metadata": {
    "collapsed": false
   }
  },
  {
   "cell_type": "code",
   "execution_count": 60,
   "outputs": [],
   "source": [
    "path_global_land_ocean_file = 'global-land-ocean.txt'"
   ],
   "metadata": {
    "collapsed": false
   }
  },
  {
   "cell_type": "code",
   "execution_count": 61,
   "outputs": [],
   "source": [
    "global_land_ocean = pd.read_csv(path_raw_temp_data+path_global_land_ocean_file, comment=\"%\",header=None,delim_whitespace=True)\n",
    "global_land_ocean.columns = [\"Year\", \"Annual Anomaly\", \"Annual Unc.\", \"Five-year Anomaly\", \"Five-year Unc.\", \"Annual Anomaly\", \"Annual Unc.\", \"Five-year Anomaly\", \"Five-year Unc.\"]"
   ],
   "metadata": {
    "collapsed": false
   }
  },
  {
   "cell_type": "code",
   "execution_count": 62,
   "outputs": [
    {
     "data": {
      "text/plain": "   Year  Annual Anomaly  Annual Unc.  Five-year Anomaly  Five-year Unc.  \\\n0  1850          -0.441        0.179                NaN             NaN   \n1  1851          -0.327        0.169                NaN             NaN   \n2  1852          -0.300        0.170             -0.334           0.149   \n\n   Annual Anomaly  Annual Unc.  Five-year Anomaly  Five-year Unc.  \n0          -0.423        0.162                NaN             NaN  \n1          -0.324        0.154                NaN             NaN  \n2          -0.286        0.154             -0.323           0.134  ",
      "text/html": "<div>\n<style scoped>\n    .dataframe tbody tr th:only-of-type {\n        vertical-align: middle;\n    }\n\n    .dataframe tbody tr th {\n        vertical-align: top;\n    }\n\n    .dataframe thead th {\n        text-align: right;\n    }\n</style>\n<table border=\"1\" class=\"dataframe\">\n  <thead>\n    <tr style=\"text-align: right;\">\n      <th></th>\n      <th>Year</th>\n      <th>Annual Anomaly</th>\n      <th>Annual Unc.</th>\n      <th>Five-year Anomaly</th>\n      <th>Five-year Unc.</th>\n      <th>Annual Anomaly</th>\n      <th>Annual Unc.</th>\n      <th>Five-year Anomaly</th>\n      <th>Five-year Unc.</th>\n    </tr>\n  </thead>\n  <tbody>\n    <tr>\n      <th>0</th>\n      <td>1850</td>\n      <td>-0.441</td>\n      <td>0.179</td>\n      <td>NaN</td>\n      <td>NaN</td>\n      <td>-0.423</td>\n      <td>0.162</td>\n      <td>NaN</td>\n      <td>NaN</td>\n    </tr>\n    <tr>\n      <th>1</th>\n      <td>1851</td>\n      <td>-0.327</td>\n      <td>0.169</td>\n      <td>NaN</td>\n      <td>NaN</td>\n      <td>-0.324</td>\n      <td>0.154</td>\n      <td>NaN</td>\n      <td>NaN</td>\n    </tr>\n    <tr>\n      <th>2</th>\n      <td>1852</td>\n      <td>-0.300</td>\n      <td>0.170</td>\n      <td>-0.334</td>\n      <td>0.149</td>\n      <td>-0.286</td>\n      <td>0.154</td>\n      <td>-0.323</td>\n      <td>0.134</td>\n    </tr>\n  </tbody>\n</table>\n</div>"
     },
     "execution_count": 62,
     "metadata": {},
     "output_type": "execute_result"
    }
   ],
   "source": [
    "global_land_ocean.head(3)"
   ],
   "metadata": {
    "collapsed": false
   }
  }
 ],
 "metadata": {
  "kernelspec": {
   "display_name": "Python 3",
   "language": "python",
   "name": "python3"
  },
  "language_info": {
   "codemirror_mode": {
    "name": "ipython",
    "version": 2
   },
   "file_extension": ".py",
   "mimetype": "text/x-python",
   "name": "python",
   "nbconvert_exporter": "python",
   "pygments_lexer": "ipython2",
   "version": "2.7.6"
  }
 },
 "nbformat": 4,
 "nbformat_minor": 0
}
