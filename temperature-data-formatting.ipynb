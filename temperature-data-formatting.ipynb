{
 "cells": [
  {
   "cell_type": "code",
   "execution_count": 4,
   "metadata": {
    "collapsed": true
   },
   "outputs": [],
   "source": [
    "import numpy as np\n",
    "import pandas as pd"
   ]
  },
  {
   "cell_type": "markdown",
   "source": [
    "## Load and format the temperature anomaly data"
   ],
   "metadata": {
    "collapsed": false
   }
  },
  {
   "cell_type": "code",
   "execution_count": 17,
   "outputs": [],
   "source": [
    "path_raw_temp_data = 'data/raw/temperature/'\n",
    "path_processed_temp_data = 'data/processed/temperature/'"
   ],
   "metadata": {
    "collapsed": false
   }
  },
  {
   "cell_type": "code",
   "execution_count": 18,
   "outputs": [],
   "source": [
    "path_countries_land_files = 'countries-land/'\n",
    "path_countries_list_file = 'temp-countries-list.csv'"
   ],
   "metadata": {
    "collapsed": false
   }
  },
  {
   "cell_type": "code",
   "execution_count": 20,
   "outputs": [
    {
     "data": {
      "text/plain": "               Country ISO-alpha3\n0          Afghanistan        AFG\n1        Åland Islands        ALA\n2              Albania        ALB\n3              Algeria        DZA\n4       American Samoa        ASM\n5              Andorra        AND\n6               Angola        AGO\n7             Anguilla        AIA\n8           Antarctica        ATA\n9  Antigua and Barbuda        ATG",
      "text/html": "<div>\n<style scoped>\n    .dataframe tbody tr th:only-of-type {\n        vertical-align: middle;\n    }\n\n    .dataframe tbody tr th {\n        vertical-align: top;\n    }\n\n    .dataframe thead th {\n        text-align: right;\n    }\n</style>\n<table border=\"1\" class=\"dataframe\">\n  <thead>\n    <tr style=\"text-align: right;\">\n      <th></th>\n      <th>Country</th>\n      <th>ISO-alpha3</th>\n    </tr>\n  </thead>\n  <tbody>\n    <tr>\n      <th>0</th>\n      <td>Afghanistan</td>\n      <td>AFG</td>\n    </tr>\n    <tr>\n      <th>1</th>\n      <td>Åland Islands</td>\n      <td>ALA</td>\n    </tr>\n    <tr>\n      <th>2</th>\n      <td>Albania</td>\n      <td>ALB</td>\n    </tr>\n    <tr>\n      <th>3</th>\n      <td>Algeria</td>\n      <td>DZA</td>\n    </tr>\n    <tr>\n      <th>4</th>\n      <td>American Samoa</td>\n      <td>ASM</td>\n    </tr>\n    <tr>\n      <th>5</th>\n      <td>Andorra</td>\n      <td>AND</td>\n    </tr>\n    <tr>\n      <th>6</th>\n      <td>Angola</td>\n      <td>AGO</td>\n    </tr>\n    <tr>\n      <th>7</th>\n      <td>Anguilla</td>\n      <td>AIA</td>\n    </tr>\n    <tr>\n      <th>8</th>\n      <td>Antarctica</td>\n      <td>ATA</td>\n    </tr>\n    <tr>\n      <th>9</th>\n      <td>Antigua and Barbuda</td>\n      <td>ATG</td>\n    </tr>\n  </tbody>\n</table>\n</div>"
     },
     "execution_count": 20,
     "metadata": {},
     "output_type": "execute_result"
    }
   ],
   "source": [
    "# Todo: remove loading temp_countries from processed data when combining jupyter notebooks\n",
    "temp_countries: pd.DataFrame = pd.read_csv(path_processed_temp_data+path_countries_list_file,sep=',')"
   ],
   "metadata": {
    "collapsed": false
   }
  },
  {
   "cell_type": "markdown",
   "source": [
    "### Load temp-land-country data"
   ],
   "metadata": {
    "collapsed": false
   }
  },
  {
   "cell_type": "code",
   "execution_count": 13,
   "outputs": [
    {
     "name": "stdout",
     "output_type": "stream",
     "text": [
      "0         Afghanistan\n",
      "1               Åland\n",
      "2             Albania\n",
      "3             Algeria\n",
      "4      American Samoa\n",
      "            ...      \n",
      "232    Virgin Islands\n",
      "233    Western Sahara\n",
      "234             Yemen\n",
      "235            Zambia\n",
      "236          Zimbabwe\n",
      "Name: Country, Length: 237, dtype: object\n"
     ]
    }
   ],
   "source": [
    "temp_land_country = pd.DataFrame()\n",
    "\n",
    "temp_land_country.columns = [\"country code\", \"country name\", \"Year\", \"Month\", \"Monthly Anomaly\", \"Monthly Unc.\", \"Five-year Anomaly\", \"Five-year Unc.\", \"Ten-year Anomaly\", \"Ten-year Unc.\", \"Twenty-year Anomaly\", \"Twenty-year Unc.\"]\n",
    "\n",
    "for country_name in country_names:\n",
    "    path = path_raw_temp_data + country_name + '.txt'\n",
    "    df_one_country = pd.read_csv(path, comment=\"%\",header=None,delim_whitespace=True)\n"
   ],
   "metadata": {
    "collapsed": false
   }
  },
  {
   "cell_type": "markdown",
   "source": [
    "### Create temp-land-region data"
   ],
   "metadata": {
    "collapsed": false
   }
  },
  {
   "cell_type": "markdown",
   "source": [
    "The region datasets get created from the temp-and-country dataset."
   ],
   "metadata": {
    "collapsed": false
   }
  },
  {
   "cell_type": "code",
   "execution_count": null,
   "outputs": [],
   "source": [
    "# Todo: Calculate regional anomalies\n",
    "\n",
    "# Todo: compare to the original regional data"
   ],
   "metadata": {
    "collapsed": false
   }
  },
  {
   "cell_type": "markdown",
   "source": [
    "### Load global-land-ocean dataset"
   ],
   "metadata": {
    "collapsed": false
   }
  },
  {
   "cell_type": "code",
   "execution_count": null,
   "outputs": [],
   "source": [
    "path_global_land_ocean_file = 'global-land-ocean.txt'"
   ],
   "metadata": {
    "collapsed": false
   }
  },
  {
   "cell_type": "code",
   "execution_count": 9,
   "outputs": [],
   "source": [
    "global_land_ocean = pd.read_csv(path_raw_temp_data+path_global_land_ocean_file, comment=\"%\",header=None,delim_whitespace=True)\n",
    "global_land_ocean.columns = [\"Year\", \"Annual Anomaly\", \"Annual Unc.\", \"Five-year Anomaly\", \"Five-year Unc.\", \"Annual Anomaly\", \"Annual Unc.\", \"Five-year Anomaly\", \"Five-year Unc.\"]"
   ],
   "metadata": {
    "collapsed": false
   }
  },
  {
   "cell_type": "code",
   "execution_count": 10,
   "outputs": [
    {
     "data": {
      "text/plain": "   Year  Annual Anomaly  Annual Unc.  Five-year Anomaly  Five-year Unc.  \\\n0  1850          -0.441        0.179                NaN             NaN   \n1  1851          -0.327        0.169                NaN             NaN   \n2  1852          -0.300        0.170             -0.334           0.149   \n\n   Annual Anomaly  Annual Unc.  Five-year Anomaly  Five-year Unc.  \n0          -0.423        0.162                NaN             NaN  \n1          -0.324        0.154                NaN             NaN  \n2          -0.286        0.154             -0.323           0.134  ",
      "text/html": "<div>\n<style scoped>\n    .dataframe tbody tr th:only-of-type {\n        vertical-align: middle;\n    }\n\n    .dataframe tbody tr th {\n        vertical-align: top;\n    }\n\n    .dataframe thead th {\n        text-align: right;\n    }\n</style>\n<table border=\"1\" class=\"dataframe\">\n  <thead>\n    <tr style=\"text-align: right;\">\n      <th></th>\n      <th>Year</th>\n      <th>Annual Anomaly</th>\n      <th>Annual Unc.</th>\n      <th>Five-year Anomaly</th>\n      <th>Five-year Unc.</th>\n      <th>Annual Anomaly</th>\n      <th>Annual Unc.</th>\n      <th>Five-year Anomaly</th>\n      <th>Five-year Unc.</th>\n    </tr>\n  </thead>\n  <tbody>\n    <tr>\n      <th>0</th>\n      <td>1850</td>\n      <td>-0.441</td>\n      <td>0.179</td>\n      <td>NaN</td>\n      <td>NaN</td>\n      <td>-0.423</td>\n      <td>0.162</td>\n      <td>NaN</td>\n      <td>NaN</td>\n    </tr>\n    <tr>\n      <th>1</th>\n      <td>1851</td>\n      <td>-0.327</td>\n      <td>0.169</td>\n      <td>NaN</td>\n      <td>NaN</td>\n      <td>-0.324</td>\n      <td>0.154</td>\n      <td>NaN</td>\n      <td>NaN</td>\n    </tr>\n    <tr>\n      <th>2</th>\n      <td>1852</td>\n      <td>-0.300</td>\n      <td>0.170</td>\n      <td>-0.334</td>\n      <td>0.149</td>\n      <td>-0.286</td>\n      <td>0.154</td>\n      <td>-0.323</td>\n      <td>0.134</td>\n    </tr>\n  </tbody>\n</table>\n</div>"
     },
     "execution_count": 10,
     "metadata": {},
     "output_type": "execute_result"
    }
   ],
   "source": [
    "global_land_ocean.head(3)"
   ],
   "metadata": {
    "collapsed": false
   }
  }
 ],
 "metadata": {
  "kernelspec": {
   "display_name": "Python 3",
   "language": "python",
   "name": "python3"
  },
  "language_info": {
   "codemirror_mode": {
    "name": "ipython",
    "version": 2
   },
   "file_extension": ".py",
   "mimetype": "text/x-python",
   "name": "python",
   "nbconvert_exporter": "python",
   "pygments_lexer": "ipython2",
   "version": "2.7.6"
  }
 },
 "nbformat": 4,
 "nbformat_minor": 0
}
